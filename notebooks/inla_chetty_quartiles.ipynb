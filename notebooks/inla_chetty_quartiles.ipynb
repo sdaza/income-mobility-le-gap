{
 "cells": [
  {
   "cell_type": "markdown",
   "metadata": {},
   "source": [
    "# INLA-R: Create models and assess predictions\n",
    "## Models per quartile"
   ]
  },
  {
   "cell_type": "code",
   "execution_count": 436,
   "metadata": {},
   "outputs": [],
   "source": [
    "#library(rstanarm)\n",
    "library(INLA)\n",
    "library(brinla)\n",
    "library(data.table)\n",
    "library(ggplot2)\n",
    "options(repr.plot.width=3, repr.plot.height=3)"
   ]
  },
  {
   "cell_type": "code",
   "execution_count": 437,
   "metadata": {},
   "outputs": [
    {
     "data": {
      "text/html": [
       "12000"
      ],
      "text/latex": [
       "12000"
      ],
      "text/markdown": [
       "12000"
      ],
      "text/plain": [
       "[1] 12000"
      ]
     },
     "metadata": {},
     "output_type": "display_data"
    }
   ],
   "source": [
    "# read data\n",
    "df = fread('../data/le_cov_sel.csv')\n",
    "nrow(df)"
   ]
  },
  {
   "cell_type": "code",
   "execution_count": 438,
   "metadata": {},
   "outputs": [
    {
     "name": "stdout",
     "output_type": "stream",
     "text": [
      " [1] \"le\"                   \"z_relative_mob\"       \"z_gini\"              \n",
      " [4] \"county\"               \"gender\"               \"income_q\"            \n",
      " [7] \"county_name\"          \"stateabbrv\"           \"statename\"           \n",
      "[10] \"log_population\"       \"log_income\"           \"z_segregation_income\"\n",
      "[13] \"log_unemployment\"     \"z_uninsured\"          \"z_medicare_expenses\" \n",
      "[16] \"log_crime_rate\"       \"log_pct_black\"        \"log_pct_hispanic\"    \n",
      "[19] \"z_obesity\"            \"z_smoking\"            \"z_exercise\"          \n"
     ]
    }
   ],
   "source": [
    "print(names(df))"
   ]
  },
  {
   "cell_type": "code",
   "execution_count": 439,
   "metadata": {},
   "outputs": [
    {
     "data": {},
     "metadata": {},
     "output_type": "display_data"
    },
    {
     "data": {},
     "metadata": {},
     "output_type": "display_data"
    },
    {
     "data": {},
     "metadata": {},
     "output_type": "display_data"
    }
   ],
   "source": [
    "df[, state := .GRP, by = statename]\n",
    "df[, cty := .GRP, by = county]\n",
    "df[, income_qr := .GRP, by = income_q]"
   ]
  },
  {
   "cell_type": "code",
   "execution_count": 440,
   "metadata": {},
   "outputs": [
    {
     "data": {
      "text/plain": [
       "         income_q\n",
       "income_qr   Q1   Q2   Q3   Q4\n",
       "        1 3000    0    0    0\n",
       "        2    0 3000    0    0\n",
       "        3    0    0 3000    0\n",
       "        4    0    0    0 3000"
      ]
     },
     "metadata": {},
     "output_type": "display_data"
    }
   ],
   "source": [
    "table(df[, .(income_qr, income_q)]) # ok, right!"
   ]
  },
  {
   "cell_type": "code",
   "execution_count": 441,
   "metadata": {},
   "outputs": [
    {
     "data": {},
     "metadata": {},
     "output_type": "display_data"
    }
   ],
   "source": [
    "df[, z_relative_mob := z_relative_mob * -1.0]"
   ]
  },
  {
   "cell_type": "markdown",
   "metadata": {},
   "source": [
    "# INLA Models (using PC prior)"
   ]
  },
  {
   "cell_type": "code",
   "execution_count": 442,
   "metadata": {},
   "outputs": [
    {
     "data": {},
     "metadata": {},
     "output_type": "display_data"
    },
    {
     "data": {},
     "metadata": {},
     "output_type": "display_data"
    }
   ],
   "source": [
    "# create auxiliary variables\n",
    "df[, state_mob := state]\n",
    "df[, state_gini := state]\n",
    "# df[, cty := county]\n",
    "# df[, cty_mob := county]\n",
    "# df[, cty_gini := county]\n",
    "# df[, q_mob := income_qr]\n",
    "# df[, q_gini := income_qr]\n",
    "# df[, q_exercise := income_qr]"
   ]
  },
  {
   "cell_type": "code",
   "execution_count": 443,
   "metadata": {},
   "outputs": [],
   "source": [
    "female = df[gender=='F']\n",
    "male = df[gender=='M']"
   ]
  },
  {
   "cell_type": "markdown",
   "metadata": {},
   "source": [
    "# Baseline model"
   ]
  },
  {
   "cell_type": "markdown",
   "metadata": {},
   "source": [
    "### Male"
   ]
  },
  {
   "cell_type": "code",
   "execution_count": 444,
   "metadata": {},
   "outputs": [],
   "source": [
    "# define PC prior\n",
    "# same prior per quartile\n",
    "lmod <- lm(le ~ z_relative_mob  + z_gini + log_population + log_income, male)\n",
    "\n",
    "# pc prior\n",
    "sdres <- sd(residuals(lmod))\n",
    "pcprior <- list(prec = list(prior=\"pc.prec\", param = c(3*sdres,0.01)))"
   ]
  },
  {
   "cell_type": "code",
   "execution_count": 445,
   "metadata": {},
   "outputs": [],
   "source": [
    "# run models per income quartile\n",
    "for (i in 1:4) {\n",
    "    formula = le ~ z_relative_mob  + z_gini + log_population + log_income + \n",
    "       f(state, model = \"iid\", hyper = pcprior)\n",
    "    model = inla(formula, family = \"gaussian\", data = male[income_qr==i],\n",
    "#           control.predictor=list(compute = TRUE),\n",
    "          control.compute = list(config = TRUE, dic = TRUE,\n",
    "                                 waic = TRUE, cpo = TRUE), \n",
    "#           control.inla = list(strategy =\"gaussian\"),\n",
    "          verbose = TRUE)\n",
    "    \n",
    "    model_name = paste0('m1_', i)\n",
    "    assign(model_name, model)  \n",
    "    }"
   ]
  },
  {
   "cell_type": "code",
   "execution_count": 446,
   "metadata": {},
   "outputs": [
    {
     "data": {
      "text/html": [
       "<table>\n",
       "<thead><tr><th></th><th scope=col>mean</th><th scope=col>sd</th><th scope=col>0.025quant</th><th scope=col>0.5quant</th><th scope=col>0.975quant</th><th scope=col>mode</th><th scope=col>kld</th></tr></thead>\n",
       "<tbody>\n",
       "\t<tr><th scope=row>(Intercept)</th><td>36.4221332  </td><td>0.12504708  </td><td>36.1765129  </td><td>36.4217664  </td><td>36.6693818  </td><td>36.4210395  </td><td>0.000000e+00</td></tr>\n",
       "\t<tr><th scope=row>z_relative_mob</th><td> 0.4865704  </td><td>0.04037955  </td><td> 0.4072665  </td><td> 0.4865742  </td><td> 0.5657799  </td><td> 0.4865851  </td><td>8.511328e-15</td></tr>\n",
       "\t<tr><th scope=row>z_gini</th><td> 0.3189742  </td><td>0.03733456  </td><td> 0.2456581  </td><td> 0.3189748  </td><td> 0.3922189  </td><td> 0.3189791  </td><td>2.737983e-14</td></tr>\n",
       "\t<tr><th scope=row>log_population</th><td>-0.2542599  </td><td>0.03939753  </td><td>-0.3315979  </td><td>-0.2542694  </td><td>-0.1769418  </td><td>-0.2542849  </td><td>2.458752e-14</td></tr>\n",
       "\t<tr><th scope=row>log_income</th><td> 1.1578343  </td><td>0.18952907  </td><td> 0.7856607  </td><td> 1.1578319  </td><td> 1.5296750  </td><td> 1.1578432  </td><td>2.472569e-14</td></tr>\n",
       "</tbody>\n",
       "</table>\n"
      ],
      "text/latex": [
       "\\begin{tabular}{r|lllllll}\n",
       "  & mean & sd & 0.025quant & 0.5quant & 0.975quant & mode & kld\\\\\n",
       "\\hline\n",
       "\t(Intercept) & 36.4221332   & 0.12504708   & 36.1765129   & 36.4217664   & 36.6693818   & 36.4210395   & 0.000000e+00\\\\\n",
       "\tz\\_relative\\_mob &  0.4865704   & 0.04037955   &  0.4072665   &  0.4865742   &  0.5657799   &  0.4865851   & 8.511328e-15\\\\\n",
       "\tz\\_gini &  0.3189742   & 0.03733456   &  0.2456581   &  0.3189748   &  0.3922189   &  0.3189791   & 2.737983e-14\\\\\n",
       "\tlog\\_population & -0.2542599   & 0.03939753   & -0.3315979   & -0.2542694   & -0.1769418   & -0.2542849   & 2.458752e-14\\\\\n",
       "\tlog\\_income &  1.1578343   & 0.18952907   &  0.7856607   &  1.1578319   &  1.5296750   &  1.1578432   & 2.472569e-14\\\\\n",
       "\\end{tabular}\n"
      ],
      "text/markdown": [
       "\n",
       "| <!--/--> | mean | sd | 0.025quant | 0.5quant | 0.975quant | mode | kld | \n",
       "|---|---|---|---|---|\n",
       "| (Intercept) | 36.4221332   | 0.12504708   | 36.1765129   | 36.4217664   | 36.6693818   | 36.4210395   | 0.000000e+00 | \n",
       "| z_relative_mob |  0.4865704   | 0.04037955   |  0.4072665   |  0.4865742   |  0.5657799   |  0.4865851   | 8.511328e-15 | \n",
       "| z_gini |  0.3189742   | 0.03733456   |  0.2456581   |  0.3189748   |  0.3922189   |  0.3189791   | 2.737983e-14 | \n",
       "| log_population | -0.2542599   | 0.03939753   | -0.3315979   | -0.2542694   | -0.1769418   | -0.2542849   | 2.458752e-14 | \n",
       "| log_income |  1.1578343   | 0.18952907   |  0.7856607   |  1.1578319   |  1.5296750   |  1.1578432   | 2.472569e-14 | \n",
       "\n",
       "\n"
      ],
      "text/plain": [
       "               mean       sd         0.025quant 0.5quant   0.975quant\n",
       "(Intercept)    36.4221332 0.12504708 36.1765129 36.4217664 36.6693818\n",
       "z_relative_mob  0.4865704 0.04037955  0.4072665  0.4865742  0.5657799\n",
       "z_gini          0.3189742 0.03733456  0.2456581  0.3189748  0.3922189\n",
       "log_population -0.2542599 0.03939753 -0.3315979 -0.2542694 -0.1769418\n",
       "log_income      1.1578343 0.18952907  0.7856607  1.1578319  1.5296750\n",
       "               mode       kld         \n",
       "(Intercept)    36.4210395 0.000000e+00\n",
       "z_relative_mob  0.4865851 8.511328e-15\n",
       "z_gini          0.3189791 2.737983e-14\n",
       "log_population -0.2542849 2.458752e-14\n",
       "log_income      1.1578432 2.472569e-14"
      ]
     },
     "metadata": {},
     "output_type": "display_data"
    }
   ],
   "source": [
    "m1_1$summary.fixed"
   ]
  },
  {
   "cell_type": "code",
   "execution_count": 447,
   "metadata": {},
   "outputs": [
    {
     "data": {
      "text/html": [
       "<table>\n",
       "<thead><tr><th></th><th scope=col>mean</th><th scope=col>sd</th><th scope=col>q0.025</th><th scope=col>q0.5</th><th scope=col>q0.975</th><th scope=col>mode</th></tr></thead>\n",
       "<tbody>\n",
       "\t<tr><th scope=row>SD for the Gaussian observations</th><td>1.081663  </td><td>0.01997705</td><td>1.0431700 </td><td>1.0813494 </td><td>1.121600  </td><td>1.0806705 </td></tr>\n",
       "\t<tr><th scope=row>SD for state</th><td>0.815244  </td><td>0.09513868</td><td>0.6473607 </td><td>0.8082699 </td><td>1.020416  </td><td>0.7934126 </td></tr>\n",
       "</tbody>\n",
       "</table>\n"
      ],
      "text/latex": [
       "\\begin{tabular}{r|llllll}\n",
       "  & mean & sd & q0.025 & q0.5 & q0.975 & mode\\\\\n",
       "\\hline\n",
       "\tSD for the Gaussian observations & 1.081663   & 0.01997705 & 1.0431700  & 1.0813494  & 1.121600   & 1.0806705 \\\\\n",
       "\tSD for state & 0.815244   & 0.09513868 & 0.6473607  & 0.8082699  & 1.020416   & 0.7934126 \\\\\n",
       "\\end{tabular}\n"
      ],
      "text/markdown": [
       "\n",
       "| <!--/--> | mean | sd | q0.025 | q0.5 | q0.975 | mode | \n",
       "|---|---|\n",
       "| SD for the Gaussian observations | 1.081663   | 0.01997705 | 1.0431700  | 1.0813494  | 1.121600   | 1.0806705  | \n",
       "| SD for state | 0.815244   | 0.09513868 | 0.6473607  | 0.8082699  | 1.020416   | 0.7934126  | \n",
       "\n",
       "\n"
      ],
      "text/plain": [
       "                                 mean     sd         q0.025    q0.5     \n",
       "SD for the Gaussian observations 1.081663 0.01997705 1.0431700 1.0813494\n",
       "SD for state                     0.815244 0.09513868 0.6473607 0.8082699\n",
       "                                 q0.975   mode     \n",
       "SD for the Gaussian observations 1.121600 1.0806705\n",
       "SD for state                     1.020416 0.7934126"
      ]
     },
     "metadata": {},
     "output_type": "display_data"
    }
   ],
   "source": [
    "bri.hyperpar.summary(m1_1)"
   ]
  },
  {
   "cell_type": "code",
   "execution_count": 448,
   "metadata": {},
   "outputs": [],
   "source": [
    "# simulate values\n",
    "source('utils/simulation_no_random_effects.R')"
   ]
  },
  {
   "cell_type": "code",
   "execution_count": 449,
   "metadata": {},
   "outputs": [],
   "source": [
    "# create data for prediction\n",
    "# all values in their means except for constrast: income mobility\n",
    "nrep = 2 # 4 quartiles for 2 contrast values\n",
    "relative_mob_pred_data = data.table(\n",
    "    z_relative_mob = c(0.0, 1.0),\n",
    "    z_gini = rep(0, nrep),\n",
    "    log_population = rep(0, nrep), \n",
    "    log_income = rep(0, nrep))"
   ]
  },
  {
   "cell_type": "code",
   "execution_count": 450,
   "metadata": {},
   "outputs": [],
   "source": [
    "# simulate values per quartile\n",
    "sim_male_m1 = data.table()\n",
    "\n",
    "for (i in 1:4) {\n",
    "    model_name = paste0('m1_', i)\n",
    "    s = simulate_pred_no_re(model=get(model_name), \n",
    "                                          data=relative_mob_pred_data, \n",
    "                                          contrast='z_relative_mob', \n",
    "                                          nsim = 2000)\n",
    "    d = s[, .(q = i, fd = diff(pred)), by = sim][, .(q, fd)]\n",
    "    sim_male_m1 = rbind(sim_male_m1, d)\n",
    "    }"
   ]
  },
  {
   "cell_type": "code",
   "execution_count": 451,
   "metadata": {},
   "outputs": [],
   "source": [
    "fwrite(sim_male_m1, file = '../data/sim_male_m1.csv')"
   ]
  },
  {
   "cell_type": "markdown",
   "metadata": {},
   "source": [
    "### Female"
   ]
  },
  {
   "cell_type": "code",
   "execution_count": 452,
   "metadata": {},
   "outputs": [],
   "source": [
    "# define PC prior\n",
    "# same prior per quartile\n",
    "lmod <- lm(le ~ z_relative_mob  + z_gini + log_population + log_income, female)\n",
    "\n",
    "sdres <- sd(residuals(lmod))\n",
    "pcprior <- list(prec = list(prior=\"pc.prec\", param = c(3*sdres,0.01)))"
   ]
  },
  {
   "cell_type": "code",
   "execution_count": 453,
   "metadata": {},
   "outputs": [],
   "source": [
    "# run models per income quartile\n",
    "for (i in 1:4) {\n",
    "    formula = le ~ z_relative_mob  + z_gini + log_population + log_income + \n",
    "       f(state, model = \"iid\", hyper = pcprior)\n",
    "    model = inla(formula, family = \"gaussian\", data = female[income_qr==i],\n",
    "#           control.predictor=list(compute = TRUE),\n",
    "          control.compute = list(config = TRUE, dic = TRUE,\n",
    "                                 waic = TRUE, cpo = TRUE), \n",
    "#           control.inla = list(strategy =\"gaussian\"),\n",
    "          verbose = TRUE)\n",
    "    \n",
    "    model_name = paste0('f1_', i)\n",
    "    assign(model_name, model)   \n",
    "    }"
   ]
  },
  {
   "cell_type": "code",
   "execution_count": 454,
   "metadata": {},
   "outputs": [
    {
     "data": {
      "text/html": [
       "<table>\n",
       "<thead><tr><th></th><th scope=col>mean</th><th scope=col>sd</th><th scope=col>0.025quant</th><th scope=col>0.5quant</th><th scope=col>0.975quant</th><th scope=col>mode</th><th scope=col>kld</th></tr></thead>\n",
       "<tbody>\n",
       "\t<tr><th scope=row>(Intercept)</th><td>41.9454230  </td><td>0.10679946  </td><td>41.7349004  </td><td>41.9453582  </td><td>42.1559921  </td><td>41.9452359  </td><td>5.733354e-19</td></tr>\n",
       "\t<tr><th scope=row>z_relative_mob</th><td> 0.3462274  </td><td>0.03967042  </td><td> 0.2683248  </td><td> 0.3462276  </td><td> 0.4240561  </td><td> 0.3462315  </td><td>2.425041e-14</td></tr>\n",
       "\t<tr><th scope=row>z_gini</th><td> 0.2673734  </td><td>0.03730399  </td><td> 0.1941220  </td><td> 0.2673725  </td><td> 0.3405621  </td><td> 0.2673737  </td><td>2.742473e-14</td></tr>\n",
       "\t<tr><th scope=row>log_population</th><td>-0.2453674  </td><td>0.03932509  </td><td>-0.3225765  </td><td>-0.2453722  </td><td>-0.1682035  </td><td>-0.2453786  </td><td>1.906952e-14</td></tr>\n",
       "\t<tr><th scope=row>log_income</th><td> 0.6489395  </td><td>0.18938983  </td><td> 0.2770545  </td><td> 0.6489320  </td><td> 1.0205201  </td><td> 0.6489330  </td><td>2.321444e-14</td></tr>\n",
       "</tbody>\n",
       "</table>\n"
      ],
      "text/latex": [
       "\\begin{tabular}{r|lllllll}\n",
       "  & mean & sd & 0.025quant & 0.5quant & 0.975quant & mode & kld\\\\\n",
       "\\hline\n",
       "\t(Intercept) & 41.9454230   & 0.10679946   & 41.7349004   & 41.9453582   & 42.1559921   & 41.9452359   & 5.733354e-19\\\\\n",
       "\tz\\_relative\\_mob &  0.3462274   & 0.03967042   &  0.2683248   &  0.3462276   &  0.4240561   &  0.3462315   & 2.425041e-14\\\\\n",
       "\tz\\_gini &  0.2673734   & 0.03730399   &  0.1941220   &  0.2673725   &  0.3405621   &  0.2673737   & 2.742473e-14\\\\\n",
       "\tlog\\_population & -0.2453674   & 0.03932509   & -0.3225765   & -0.2453722   & -0.1682035   & -0.2453786   & 1.906952e-14\\\\\n",
       "\tlog\\_income &  0.6489395   & 0.18938983   &  0.2770545   &  0.6489320   &  1.0205201   &  0.6489330   & 2.321444e-14\\\\\n",
       "\\end{tabular}\n"
      ],
      "text/markdown": [
       "\n",
       "| <!--/--> | mean | sd | 0.025quant | 0.5quant | 0.975quant | mode | kld | \n",
       "|---|---|---|---|---|\n",
       "| (Intercept) | 41.9454230   | 0.10679946   | 41.7349004   | 41.9453582   | 42.1559921   | 41.9452359   | 5.733354e-19 | \n",
       "| z_relative_mob |  0.3462274   | 0.03967042   |  0.2683248   |  0.3462276   |  0.4240561   |  0.3462315   | 2.425041e-14 | \n",
       "| z_gini |  0.2673734   | 0.03730399   |  0.1941220   |  0.2673725   |  0.3405621   |  0.2673737   | 2.742473e-14 | \n",
       "| log_population | -0.2453674   | 0.03932509   | -0.3225765   | -0.2453722   | -0.1682035   | -0.2453786   | 1.906952e-14 | \n",
       "| log_income |  0.6489395   | 0.18938983   |  0.2770545   |  0.6489320   |  1.0205201   |  0.6489330   | 2.321444e-14 | \n",
       "\n",
       "\n"
      ],
      "text/plain": [
       "               mean       sd         0.025quant 0.5quant   0.975quant\n",
       "(Intercept)    41.9454230 0.10679946 41.7349004 41.9453582 42.1559921\n",
       "z_relative_mob  0.3462274 0.03967042  0.2683248  0.3462276  0.4240561\n",
       "z_gini          0.2673734 0.03730399  0.1941220  0.2673725  0.3405621\n",
       "log_population -0.2453674 0.03932509 -0.3225765 -0.2453722 -0.1682035\n",
       "log_income      0.6489395 0.18938983  0.2770545  0.6489320  1.0205201\n",
       "               mode       kld         \n",
       "(Intercept)    41.9452359 5.733354e-19\n",
       "z_relative_mob  0.3462315 2.425041e-14\n",
       "z_gini          0.2673737 2.742473e-14\n",
       "log_population -0.2453786 1.906952e-14\n",
       "log_income      0.6489330 2.321444e-14"
      ]
     },
     "metadata": {},
     "output_type": "display_data"
    }
   ],
   "source": [
    "f1_1$summary.fixed"
   ]
  },
  {
   "cell_type": "code",
   "execution_count": 455,
   "metadata": {},
   "outputs": [
    {
     "data": {
      "text/html": [
       "<table>\n",
       "<thead><tr><th></th><th scope=col>mean</th><th scope=col>sd</th><th scope=col>q0.025</th><th scope=col>q0.5</th><th scope=col>q0.975</th><th scope=col>mode</th></tr></thead>\n",
       "<tbody>\n",
       "\t<tr><th scope=row>SD for the Gaussian observations</th><td>1.0845787 </td><td>0.02001332</td><td>1.0459740 </td><td>1.0842817 </td><td>1.1245466 </td><td>1.0836591 </td></tr>\n",
       "\t<tr><th scope=row>SD for state</th><td>0.6833374 </td><td>0.08319916</td><td>0.5361704 </td><td>0.6774347 </td><td>0.8624172 </td><td>0.6656124 </td></tr>\n",
       "</tbody>\n",
       "</table>\n"
      ],
      "text/latex": [
       "\\begin{tabular}{r|llllll}\n",
       "  & mean & sd & q0.025 & q0.5 & q0.975 & mode\\\\\n",
       "\\hline\n",
       "\tSD for the Gaussian observations & 1.0845787  & 0.02001332 & 1.0459740  & 1.0842817  & 1.1245466  & 1.0836591 \\\\\n",
       "\tSD for state & 0.6833374  & 0.08319916 & 0.5361704  & 0.6774347  & 0.8624172  & 0.6656124 \\\\\n",
       "\\end{tabular}\n"
      ],
      "text/markdown": [
       "\n",
       "| <!--/--> | mean | sd | q0.025 | q0.5 | q0.975 | mode | \n",
       "|---|---|\n",
       "| SD for the Gaussian observations | 1.0845787  | 0.02001332 | 1.0459740  | 1.0842817  | 1.1245466  | 1.0836591  | \n",
       "| SD for state | 0.6833374  | 0.08319916 | 0.5361704  | 0.6774347  | 0.8624172  | 0.6656124  | \n",
       "\n",
       "\n"
      ],
      "text/plain": [
       "                                 mean      sd         q0.025    q0.5     \n",
       "SD for the Gaussian observations 1.0845787 0.02001332 1.0459740 1.0842817\n",
       "SD for state                     0.6833374 0.08319916 0.5361704 0.6774347\n",
       "                                 q0.975    mode     \n",
       "SD for the Gaussian observations 1.1245466 1.0836591\n",
       "SD for state                     0.8624172 0.6656124"
      ]
     },
     "metadata": {},
     "output_type": "display_data"
    }
   ],
   "source": [
    "bri.hyperpar.summary(f1_1)"
   ]
  },
  {
   "cell_type": "code",
   "execution_count": 456,
   "metadata": {},
   "outputs": [],
   "source": [
    "# simulate values per quartile\n",
    "sim_female_f1 = data.table()\n",
    "\n",
    "for (i in 1:4) {\n",
    "    model_name = paste0('f1_', i)\n",
    "    s = simulate_pred_no_re(model=get(model_name), \n",
    "                                          data=relative_mob_pred_data, \n",
    "                                          contrast='z_relative_mob', \n",
    "                                          nsim = 2000)\n",
    "    d = s[, .(q = i, fd = diff(pred)), by = sim][, .(q, fd)]\n",
    "    sim_female_f1 = rbind(sim_female_f1, d)\n",
    "    }"
   ]
  },
  {
   "cell_type": "code",
   "execution_count": 457,
   "metadata": {},
   "outputs": [],
   "source": [
    "fwrite(sim_female_f1, file = '../data/sim_female_f1.csv')"
   ]
  },
  {
   "cell_type": "markdown",
   "metadata": {},
   "source": [
    "# Adjusting for contextual variables"
   ]
  },
  {
   "cell_type": "markdown",
   "metadata": {},
   "source": [
    "### Male"
   ]
  },
  {
   "cell_type": "code",
   "execution_count": 458,
   "metadata": {},
   "outputs": [],
   "source": [
    "# -Demographic: % Black, Hispanic (since Chetty uses this to race adjust)\n",
    "# -Social: Crime rate, segregation\n",
    "# -Economic: Gini, possibly unemployment\n",
    "# -Health Access: uninsured, medicare expenses"
   ]
  },
  {
   "cell_type": "code",
   "execution_count": 459,
   "metadata": {},
   "outputs": [],
   "source": [
    "# define PC prior\n",
    "lmod <- lm(le ~ z_relative_mob  + z_gini + log_population + log_income + \n",
    "           log_crime_rate + z_segregation_income +  log_pct_black + log_pct_hispanic + \n",
    "           log_unemployment +  z_uninsured + z_medicare_expenses, male)\n",
    "\n",
    "\n",
    "sdres <- sd(residuals(lmod))\n",
    "pcprior <- list(prec = list(prior=\"pc.prec\", param = c(3*sdres,0.01)))"
   ]
  },
  {
   "cell_type": "code",
   "execution_count": 460,
   "metadata": {},
   "outputs": [],
   "source": [
    "# models per quartile\n",
    "for (i in 1:4) {\n",
    "    formula = le ~ z_relative_mob  + z_gini + log_population + log_income + \n",
    "        log_crime_rate + z_segregation_income +  log_pct_black + log_pct_hispanic + \n",
    "        log_unemployment +  z_uninsured + z_medicare_expenses +\n",
    "        f(state, model = \"iid\", hyper = pcprior)\n",
    "    model = inla(formula, family = \"gaussian\", data = male[income_qr==i],\n",
    "#           control.predictor=list(compute = TRUE),\n",
    "          control.compute = list(config = TRUE, dic = TRUE,\n",
    "                                 waic = TRUE, cpo = TRUE), \n",
    "#           control.inla = list(strategy =\"gaussian\"),\n",
    "          verbose = TRUE)\n",
    "    \n",
    "    model_name = paste0('m2_', i)\n",
    "    assign(model_name, model)\n",
    "    \n",
    "    }"
   ]
  },
  {
   "cell_type": "code",
   "execution_count": 461,
   "metadata": {},
   "outputs": [
    {
     "data": {
      "text/html": [
       "<table>\n",
       "<thead><tr><th></th><th scope=col>mean</th><th scope=col>sd</th><th scope=col>0.025quant</th><th scope=col>0.5quant</th><th scope=col>0.975quant</th><th scope=col>mode</th><th scope=col>kld</th></tr></thead>\n",
       "<tbody>\n",
       "\t<tr><th scope=row>(Intercept)</th><td>36.40819005 </td><td>0.12772047  </td><td>36.158663703</td><td>36.40731663 </td><td>36.662393971</td><td>36.40558437 </td><td>6.969295e-12</td></tr>\n",
       "\t<tr><th scope=row>z_relative_mob</th><td> 0.39106906 </td><td>0.04700942  </td><td> 0.298771122</td><td> 0.39106388 </td><td> 0.483309808</td><td> 0.39105747 </td><td>3.139933e-14</td></tr>\n",
       "\t<tr><th scope=row>z_gini</th><td> 0.22616923 </td><td>0.04252941  </td><td> 0.142670304</td><td> 0.22616357 </td><td> 0.309621789</td><td> 0.22615583 </td><td>1.918145e-14</td></tr>\n",
       "\t<tr><th scope=row>log_population</th><td>-0.07253352 </td><td>0.05576715  </td><td>-0.181984485</td><td>-0.07255371 </td><td> 0.036927413</td><td>-0.07258960 </td><td>1.171366e-14</td></tr>\n",
       "\t<tr><th scope=row>log_income</th><td> 1.66689403 </td><td>0.22158470  </td><td> 1.231762767</td><td> 1.66689530 </td><td> 2.101613669</td><td> 1.66691668 </td><td>2.035041e-14</td></tr>\n",
       "\t<tr><th scope=row>log_crime_rate</th><td>-0.21794802 </td><td>0.06325331  </td><td>-0.342135837</td><td>-0.21795607 </td><td>-0.093831179</td><td>-0.21796685 </td><td>2.081157e-14</td></tr>\n",
       "\t<tr><th scope=row>z_segregation_income</th><td>-0.02413704 </td><td>0.05258630  </td><td>-0.127427021</td><td>-0.02412822 </td><td> 0.079008110</td><td>-0.02410604 </td><td>1.542801e-14</td></tr>\n",
       "\t<tr><th scope=row>log_pct_black</th><td>-0.06721094 </td><td>0.03084773  </td><td>-0.127766541</td><td>-0.06721784 </td><td>-0.006673433</td><td>-0.06722912 </td><td>1.936924e-14</td></tr>\n",
       "\t<tr><th scope=row>log_pct_hispanic</th><td>-0.08308247 </td><td>0.04337491  </td><td>-0.168291416</td><td>-0.08307117 </td><td> 0.001984769</td><td>-0.08304475 </td><td>2.120708e-14</td></tr>\n",
       "\t<tr><th scope=row>log_unemployment</th><td> 0.28563296 </td><td>0.14912758  </td><td>-0.007283337</td><td> 0.28565816 </td><td> 0.578137560</td><td> 0.28572147 </td><td>1.903286e-14</td></tr>\n",
       "\t<tr><th scope=row>z_uninsured</th><td> 0.41292275 </td><td>0.07121793  </td><td> 0.273445711</td><td> 0.41280097 </td><td> 0.552946701</td><td> 0.41256237 </td><td>2.736160e-15</td></tr>\n",
       "\t<tr><th scope=row>z_medicare_expenses</th><td>-0.29188938 </td><td>0.04494750  </td><td>-0.380088914</td><td>-0.29191097 </td><td>-0.203652261</td><td>-0.29195058 </td><td>1.030387e-14</td></tr>\n",
       "</tbody>\n",
       "</table>\n"
      ],
      "text/latex": [
       "\\begin{tabular}{r|lllllll}\n",
       "  & mean & sd & 0.025quant & 0.5quant & 0.975quant & mode & kld\\\\\n",
       "\\hline\n",
       "\t(Intercept) & 36.40819005  & 0.12772047   & 36.158663703 & 36.40731663  & 36.662393971 & 36.40558437  & 6.969295e-12\\\\\n",
       "\tz\\_relative\\_mob &  0.39106906  & 0.04700942   &  0.298771122 &  0.39106388  &  0.483309808 &  0.39105747  & 3.139933e-14\\\\\n",
       "\tz\\_gini &  0.22616923  & 0.04252941   &  0.142670304 &  0.22616357  &  0.309621789 &  0.22615583  & 1.918145e-14\\\\\n",
       "\tlog\\_population & -0.07253352  & 0.05576715   & -0.181984485 & -0.07255371  &  0.036927413 & -0.07258960  & 1.171366e-14\\\\\n",
       "\tlog\\_income &  1.66689403  & 0.22158470   &  1.231762767 &  1.66689530  &  2.101613669 &  1.66691668  & 2.035041e-14\\\\\n",
       "\tlog\\_crime\\_rate & -0.21794802  & 0.06325331   & -0.342135837 & -0.21795607  & -0.093831179 & -0.21796685  & 2.081157e-14\\\\\n",
       "\tz\\_segregation\\_income & -0.02413704  & 0.05258630   & -0.127427021 & -0.02412822  &  0.079008110 & -0.02410604  & 1.542801e-14\\\\\n",
       "\tlog\\_pct\\_black & -0.06721094  & 0.03084773   & -0.127766541 & -0.06721784  & -0.006673433 & -0.06722912  & 1.936924e-14\\\\\n",
       "\tlog\\_pct\\_hispanic & -0.08308247  & 0.04337491   & -0.168291416 & -0.08307117  &  0.001984769 & -0.08304475  & 2.120708e-14\\\\\n",
       "\tlog\\_unemployment &  0.28563296  & 0.14912758   & -0.007283337 &  0.28565816  &  0.578137560 &  0.28572147  & 1.903286e-14\\\\\n",
       "\tz\\_uninsured &  0.41292275  & 0.07121793   &  0.273445711 &  0.41280097  &  0.552946701 &  0.41256237  & 2.736160e-15\\\\\n",
       "\tz\\_medicare\\_expenses & -0.29188938  & 0.04494750   & -0.380088914 & -0.29191097  & -0.203652261 & -0.29195058  & 1.030387e-14\\\\\n",
       "\\end{tabular}\n"
      ],
      "text/markdown": [
       "\n",
       "| <!--/--> | mean | sd | 0.025quant | 0.5quant | 0.975quant | mode | kld | \n",
       "|---|---|---|---|---|---|---|---|---|---|---|---|\n",
       "| (Intercept) | 36.40819005  | 0.12772047   | 36.158663703 | 36.40731663  | 36.662393971 | 36.40558437  | 6.969295e-12 | \n",
       "| z_relative_mob |  0.39106906  | 0.04700942   |  0.298771122 |  0.39106388  |  0.483309808 |  0.39105747  | 3.139933e-14 | \n",
       "| z_gini |  0.22616923  | 0.04252941   |  0.142670304 |  0.22616357  |  0.309621789 |  0.22615583  | 1.918145e-14 | \n",
       "| log_population | -0.07253352  | 0.05576715   | -0.181984485 | -0.07255371  |  0.036927413 | -0.07258960  | 1.171366e-14 | \n",
       "| log_income |  1.66689403  | 0.22158470   |  1.231762767 |  1.66689530  |  2.101613669 |  1.66691668  | 2.035041e-14 | \n",
       "| log_crime_rate | -0.21794802  | 0.06325331   | -0.342135837 | -0.21795607  | -0.093831179 | -0.21796685  | 2.081157e-14 | \n",
       "| z_segregation_income | -0.02413704  | 0.05258630   | -0.127427021 | -0.02412822  |  0.079008110 | -0.02410604  | 1.542801e-14 | \n",
       "| log_pct_black | -0.06721094  | 0.03084773   | -0.127766541 | -0.06721784  | -0.006673433 | -0.06722912  | 1.936924e-14 | \n",
       "| log_pct_hispanic | -0.08308247  | 0.04337491   | -0.168291416 | -0.08307117  |  0.001984769 | -0.08304475  | 2.120708e-14 | \n",
       "| log_unemployment |  0.28563296  | 0.14912758   | -0.007283337 |  0.28565816  |  0.578137560 |  0.28572147  | 1.903286e-14 | \n",
       "| z_uninsured |  0.41292275  | 0.07121793   |  0.273445711 |  0.41280097  |  0.552946701 |  0.41256237  | 2.736160e-15 | \n",
       "| z_medicare_expenses | -0.29188938  | 0.04494750   | -0.380088914 | -0.29191097  | -0.203652261 | -0.29195058  | 1.030387e-14 | \n",
       "\n",
       "\n"
      ],
      "text/plain": [
       "                     mean        sd         0.025quant   0.5quant   \n",
       "(Intercept)          36.40819005 0.12772047 36.158663703 36.40731663\n",
       "z_relative_mob        0.39106906 0.04700942  0.298771122  0.39106388\n",
       "z_gini                0.22616923 0.04252941  0.142670304  0.22616357\n",
       "log_population       -0.07253352 0.05576715 -0.181984485 -0.07255371\n",
       "log_income            1.66689403 0.22158470  1.231762767  1.66689530\n",
       "log_crime_rate       -0.21794802 0.06325331 -0.342135837 -0.21795607\n",
       "z_segregation_income -0.02413704 0.05258630 -0.127427021 -0.02412822\n",
       "log_pct_black        -0.06721094 0.03084773 -0.127766541 -0.06721784\n",
       "log_pct_hispanic     -0.08308247 0.04337491 -0.168291416 -0.08307117\n",
       "log_unemployment      0.28563296 0.14912758 -0.007283337  0.28565816\n",
       "z_uninsured           0.41292275 0.07121793  0.273445711  0.41280097\n",
       "z_medicare_expenses  -0.29188938 0.04494750 -0.380088914 -0.29191097\n",
       "                     0.975quant   mode        kld         \n",
       "(Intercept)          36.662393971 36.40558437 6.969295e-12\n",
       "z_relative_mob        0.483309808  0.39105747 3.139933e-14\n",
       "z_gini                0.309621789  0.22615583 1.918145e-14\n",
       "log_population        0.036927413 -0.07258960 1.171366e-14\n",
       "log_income            2.101613669  1.66691668 2.035041e-14\n",
       "log_crime_rate       -0.093831179 -0.21796685 2.081157e-14\n",
       "z_segregation_income  0.079008110 -0.02410604 1.542801e-14\n",
       "log_pct_black        -0.006673433 -0.06722912 1.936924e-14\n",
       "log_pct_hispanic      0.001984769 -0.08304475 2.120708e-14\n",
       "log_unemployment      0.578137560  0.28572147 1.903286e-14\n",
       "z_uninsured           0.552946701  0.41256237 2.736160e-15\n",
       "z_medicare_expenses  -0.203652261 -0.29195058 1.030387e-14"
      ]
     },
     "metadata": {},
     "output_type": "display_data"
    }
   ],
   "source": [
    "m2_1$summary.fixed"
   ]
  },
  {
   "cell_type": "code",
   "execution_count": 462,
   "metadata": {},
   "outputs": [
    {
     "data": {
      "text/html": [
       "<table>\n",
       "<thead><tr><th></th><th scope=col>mean</th><th scope=col>sd</th><th scope=col>q0.025</th><th scope=col>q0.5</th><th scope=col>q0.975</th><th scope=col>mode</th></tr></thead>\n",
       "<tbody>\n",
       "\t<tr><th scope=row>SD for the Gaussian observations</th><td>1.0409372 </td><td>0.01930077</td><td>1.003781  </td><td>1.0406196 </td><td>1.079555  </td><td>1.0399182 </td></tr>\n",
       "\t<tr><th scope=row>SD for state</th><td>0.8279269 </td><td>0.10227067</td><td>0.648109  </td><td>0.8202341 </td><td>1.049101  </td><td>0.8040011 </td></tr>\n",
       "</tbody>\n",
       "</table>\n"
      ],
      "text/latex": [
       "\\begin{tabular}{r|llllll}\n",
       "  & mean & sd & q0.025 & q0.5 & q0.975 & mode\\\\\n",
       "\\hline\n",
       "\tSD for the Gaussian observations & 1.0409372  & 0.01930077 & 1.003781   & 1.0406196  & 1.079555   & 1.0399182 \\\\\n",
       "\tSD for state & 0.8279269  & 0.10227067 & 0.648109   & 0.8202341  & 1.049101   & 0.8040011 \\\\\n",
       "\\end{tabular}\n"
      ],
      "text/markdown": [
       "\n",
       "| <!--/--> | mean | sd | q0.025 | q0.5 | q0.975 | mode | \n",
       "|---|---|\n",
       "| SD for the Gaussian observations | 1.0409372  | 0.01930077 | 1.003781   | 1.0406196  | 1.079555   | 1.0399182  | \n",
       "| SD for state | 0.8279269  | 0.10227067 | 0.648109   | 0.8202341  | 1.049101   | 0.8040011  | \n",
       "\n",
       "\n"
      ],
      "text/plain": [
       "                                 mean      sd         q0.025   q0.5     \n",
       "SD for the Gaussian observations 1.0409372 0.01930077 1.003781 1.0406196\n",
       "SD for state                     0.8279269 0.10227067 0.648109 0.8202341\n",
       "                                 q0.975   mode     \n",
       "SD for the Gaussian observations 1.079555 1.0399182\n",
       "SD for state                     1.049101 0.8040011"
      ]
     },
     "metadata": {},
     "output_type": "display_data"
    }
   ],
   "source": [
    "bri.hyperpar.summary(m2_1)"
   ]
  },
  {
   "cell_type": "code",
   "execution_count": 463,
   "metadata": {},
   "outputs": [],
   "source": [
    "# create data for predictions\n",
    "nrep =  2 # 2 contrast values\n",
    "relative_mob_pred_data = data.table(\n",
    "    z_relative_mob       = c(0.0, 1.0),\n",
    "    z_gini               = rep(0, nrep),\n",
    "    log_population       = rep(0, nrep), \n",
    "    log_income           = rep(0, nrep),\n",
    "    log_crime_rate       = rep(0, nrep),\n",
    "#     log_poverty          = rep(0, nrep),\n",
    "#     log_mig_inflow       = rep(0, nrep),\n",
    "#     log_mig_outflow      = rep(0, nrep),\n",
    "#     log_foreign          = rep(0, nrep),\n",
    "    log_pct_black        = rep(0, nrep),\n",
    "    log_pct_hispanic     = rep(0, nrep),\n",
    "#     log_house_value      = rep(0, nrep),\n",
    "#     log_local_gov_exp    = rep(0, nrep),\n",
    "    log_unemployment     = rep(0, nrep),\n",
    "    z_segregation_income = rep(0, nrep),\n",
    "#     z_religion           = rep(0, nrep),\n",
    "#     z_labor_force        = rep(0, nrep),\n",
    "#     z_college            = rep(0, nrep),\n",
    "#     z_middle_class       = rep(0, nrep),\n",
    "    z_uninsured          = rep(0, nrep), \n",
    "    z_medicare_expenses  = rep(0, nrep))"
   ]
  },
  {
   "cell_type": "code",
   "execution_count": 464,
   "metadata": {},
   "outputs": [],
   "source": [
    "# simulate by quartile\n",
    "sim_male_m2 = data.table()\n",
    "\n",
    "for (i in 1:4) {\n",
    "    model_name = paste0('m2_', i)\n",
    "    s = simulate_pred_no_re(model=get(model_name), \n",
    "                                          data=relative_mob_pred_data, \n",
    "                                          contrast='z_relative_mob', \n",
    "                                          nsim = 2000)\n",
    "    d = s[, .(q = i, fd = diff(pred)), by = sim][, .(q, fd)]\n",
    "    sim_male_m2 = rbind(sim_male_m2, d)\n",
    "    }"
   ]
  },
  {
   "cell_type": "code",
   "execution_count": 465,
   "metadata": {},
   "outputs": [],
   "source": [
    "fwrite(sim_male_m2, file = '../data/sim_male_m2.csv')"
   ]
  },
  {
   "cell_type": "markdown",
   "metadata": {},
   "source": [
    "### Female"
   ]
  },
  {
   "cell_type": "code",
   "execution_count": 466,
   "metadata": {},
   "outputs": [],
   "source": [
    "lmod <- lm(le ~ z_relative_mob  + z_gini + log_population + log_income + \n",
    "       log_crime_rate + z_segregation_income +  log_pct_black + log_pct_hispanic + \n",
    "       log_unemployment +  z_uninsured + z_medicare_expenses, female)\n",
    "\n",
    "# pc prior\n",
    "sdres <- sd(residuals(lmod))\n",
    "pcprior <- list(prec = list(prior=\"pc.prec\", param = c(3*sdres,0.01)))"
   ]
  },
  {
   "cell_type": "code",
   "execution_count": 467,
   "metadata": {},
   "outputs": [],
   "source": [
    "for (i in 1:4) {\n",
    "    formula = le ~ z_relative_mob  + z_gini + log_population + log_income + \n",
    "        log_crime_rate + z_segregation_income +  log_pct_black + log_pct_hispanic + \n",
    "        log_unemployment +  z_uninsured + z_medicare_expenses +\n",
    "        f(state, model = \"iid\", hyper = pcprior)\n",
    "    model = inla(formula, family = \"gaussian\", data = female[income_qr==i],\n",
    "#           control.predictor=list(compute = TRUE),\n",
    "          control.compute = list(config = TRUE, dic = TRUE,\n",
    "                                 waic = TRUE, cpo = TRUE), \n",
    "#           control.inla = list(strategy =\"gaussian\"),\n",
    "          verbose = TRUE)\n",
    "    \n",
    "    model_name = paste0('f2_', i)\n",
    "    assign(model_name, model)\n",
    "    \n",
    "    }"
   ]
  },
  {
   "cell_type": "code",
   "execution_count": 468,
   "metadata": {},
   "outputs": [
    {
     "data": {
      "text/html": [
       "<table>\n",
       "<thead><tr><th></th><th scope=col>mean</th><th scope=col>sd</th><th scope=col>0.025quant</th><th scope=col>0.5quant</th><th scope=col>0.975quant</th><th scope=col>mode</th><th scope=col>kld</th></tr></thead>\n",
       "<tbody>\n",
       "\t<tr><th scope=row>(Intercept)</th><td>41.93323512  </td><td>0.10655149   </td><td>41.72344206  </td><td>41.93307085  </td><td> 4.214361e+01</td><td>41.93275641  </td><td>0.000000e+00 </td></tr>\n",
       "\t<tr><th scope=row>z_relative_mob</th><td> 0.27786991  </td><td>0.04701842   </td><td> 0.18554375  </td><td> 0.27786837  </td><td> 3.701187e-01</td><td> 0.27786927  </td><td>2.667922e-14 </td></tr>\n",
       "\t<tr><th scope=row>z_gini</th><td> 0.26144638  </td><td>0.04252986   </td><td> 0.17793732  </td><td> 0.26144392  </td><td> 3.448914e-01</td><td> 0.26144258  </td><td>2.493536e-14 </td></tr>\n",
       "\t<tr><th scope=row>log_population</th><td> 0.02852776  </td><td>0.05517583   </td><td>-0.07981833  </td><td> 0.02852671  </td><td> 1.367789e-01</td><td> 0.02852927  </td><td>1.942707e-14 </td></tr>\n",
       "\t<tr><th scope=row>log_income</th><td> 0.95109118  </td><td>0.22044950   </td><td> 0.51824029  </td><td> 0.95107463  </td><td> 1.383631e+00</td><td> 0.95106009  </td><td>2.113166e-14 </td></tr>\n",
       "\t<tr><th scope=row>log_crime_rate</th><td>-0.31948495  </td><td>0.06325271   </td><td>-0.44368423  </td><td>-0.31948863  </td><td>-1.953808e-01</td><td>-0.31949067  </td><td>2.167913e-14 </td></tr>\n",
       "\t<tr><th scope=row>z_segregation_income</th><td>-0.10303745  </td><td>0.05251211   </td><td>-0.20616168  </td><td>-0.10303545  </td><td>-2.016894e-05</td><td>-0.10302696  </td><td>1.635628e-14 </td></tr>\n",
       "\t<tr><th scope=row>log_pct_black</th><td>-0.07427762  </td><td>0.03053746   </td><td>-0.13425779  </td><td>-0.07427313  </td><td>-1.437811e-02</td><td>-0.07426149  </td><td>2.302023e-14 </td></tr>\n",
       "\t<tr><th scope=row>log_pct_hispanic</th><td>-0.20946949  </td><td>0.04284506   </td><td>-0.29360687  </td><td>-0.20946930  </td><td>-1.254116e-01</td><td>-0.20946526  </td><td>2.740480e-14 </td></tr>\n",
       "\t<tr><th scope=row>log_unemployment</th><td> 0.51107474  </td><td>0.14741970   </td><td> 0.22159697  </td><td> 0.51106958  </td><td> 8.003115e-01</td><td> 0.51107175  </td><td>2.362712e-14 </td></tr>\n",
       "\t<tr><th scope=row>z_uninsured</th><td> 0.16372663  </td><td>0.06724714   </td><td> 0.03210158  </td><td> 0.16357880  </td><td> 2.960456e-01</td><td> 0.16328587  </td><td>1.783756e-14 </td></tr>\n",
       "\t<tr><th scope=row>z_medicare_expenses</th><td>-0.22164563  </td><td>0.04404290   </td><td>-0.30810162  </td><td>-0.22165696  </td><td>-1.352076e-01</td><td>-0.22167606  </td><td>2.772298e-14 </td></tr>\n",
       "</tbody>\n",
       "</table>\n"
      ],
      "text/latex": [
       "\\begin{tabular}{r|lllllll}\n",
       "  & mean & sd & 0.025quant & 0.5quant & 0.975quant & mode & kld\\\\\n",
       "\\hline\n",
       "\t(Intercept) & 41.93323512   & 0.10655149    & 41.72344206   & 41.93307085   &  4.214361e+01 & 41.93275641   & 0.000000e+00 \\\\\n",
       "\tz\\_relative\\_mob &  0.27786991   & 0.04701842    &  0.18554375   &  0.27786837   &  3.701187e-01 &  0.27786927   & 2.667922e-14 \\\\\n",
       "\tz\\_gini &  0.26144638   & 0.04252986    &  0.17793732   &  0.26144392   &  3.448914e-01 &  0.26144258   & 2.493536e-14 \\\\\n",
       "\tlog\\_population &  0.02852776   & 0.05517583    & -0.07981833   &  0.02852671   &  1.367789e-01 &  0.02852927   & 1.942707e-14 \\\\\n",
       "\tlog\\_income &  0.95109118   & 0.22044950    &  0.51824029   &  0.95107463   &  1.383631e+00 &  0.95106009   & 2.113166e-14 \\\\\n",
       "\tlog\\_crime\\_rate & -0.31948495   & 0.06325271    & -0.44368423   & -0.31948863   & -1.953808e-01 & -0.31949067   & 2.167913e-14 \\\\\n",
       "\tz\\_segregation\\_income & -0.10303745   & 0.05251211    & -0.20616168   & -0.10303545   & -2.016894e-05 & -0.10302696   & 1.635628e-14 \\\\\n",
       "\tlog\\_pct\\_black & -0.07427762   & 0.03053746    & -0.13425779   & -0.07427313   & -1.437811e-02 & -0.07426149   & 2.302023e-14 \\\\\n",
       "\tlog\\_pct\\_hispanic & -0.20946949   & 0.04284506    & -0.29360687   & -0.20946930   & -1.254116e-01 & -0.20946526   & 2.740480e-14 \\\\\n",
       "\tlog\\_unemployment &  0.51107474   & 0.14741970    &  0.22159697   &  0.51106958   &  8.003115e-01 &  0.51107175   & 2.362712e-14 \\\\\n",
       "\tz\\_uninsured &  0.16372663   & 0.06724714    &  0.03210158   &  0.16357880   &  2.960456e-01 &  0.16328587   & 1.783756e-14 \\\\\n",
       "\tz\\_medicare\\_expenses & -0.22164563   & 0.04404290    & -0.30810162   & -0.22165696   & -1.352076e-01 & -0.22167606   & 2.772298e-14 \\\\\n",
       "\\end{tabular}\n"
      ],
      "text/markdown": [
       "\n",
       "| <!--/--> | mean | sd | 0.025quant | 0.5quant | 0.975quant | mode | kld | \n",
       "|---|---|---|---|---|---|---|---|---|---|---|---|\n",
       "| (Intercept) | 41.93323512   | 0.10655149    | 41.72344206   | 41.93307085   |  4.214361e+01 | 41.93275641   | 0.000000e+00  | \n",
       "| z_relative_mob |  0.27786991   | 0.04701842    |  0.18554375   |  0.27786837   |  3.701187e-01 |  0.27786927   | 2.667922e-14  | \n",
       "| z_gini |  0.26144638   | 0.04252986    |  0.17793732   |  0.26144392   |  3.448914e-01 |  0.26144258   | 2.493536e-14  | \n",
       "| log_population |  0.02852776   | 0.05517583    | -0.07981833   |  0.02852671   |  1.367789e-01 |  0.02852927   | 1.942707e-14  | \n",
       "| log_income |  0.95109118   | 0.22044950    |  0.51824029   |  0.95107463   |  1.383631e+00 |  0.95106009   | 2.113166e-14  | \n",
       "| log_crime_rate | -0.31948495   | 0.06325271    | -0.44368423   | -0.31948863   | -1.953808e-01 | -0.31949067   | 2.167913e-14  | \n",
       "| z_segregation_income | -0.10303745   | 0.05251211    | -0.20616168   | -0.10303545   | -2.016894e-05 | -0.10302696   | 1.635628e-14  | \n",
       "| log_pct_black | -0.07427762   | 0.03053746    | -0.13425779   | -0.07427313   | -1.437811e-02 | -0.07426149   | 2.302023e-14  | \n",
       "| log_pct_hispanic | -0.20946949   | 0.04284506    | -0.29360687   | -0.20946930   | -1.254116e-01 | -0.20946526   | 2.740480e-14  | \n",
       "| log_unemployment |  0.51107474   | 0.14741970    |  0.22159697   |  0.51106958   |  8.003115e-01 |  0.51107175   | 2.362712e-14  | \n",
       "| z_uninsured |  0.16372663   | 0.06724714    |  0.03210158   |  0.16357880   |  2.960456e-01 |  0.16328587   | 1.783756e-14  | \n",
       "| z_medicare_expenses | -0.22164563   | 0.04404290    | -0.30810162   | -0.22165696   | -1.352076e-01 | -0.22167606   | 2.772298e-14  | \n",
       "\n",
       "\n"
      ],
      "text/plain": [
       "                     mean        sd         0.025quant  0.5quant   \n",
       "(Intercept)          41.93323512 0.10655149 41.72344206 41.93307085\n",
       "z_relative_mob        0.27786991 0.04701842  0.18554375  0.27786837\n",
       "z_gini                0.26144638 0.04252986  0.17793732  0.26144392\n",
       "log_population        0.02852776 0.05517583 -0.07981833  0.02852671\n",
       "log_income            0.95109118 0.22044950  0.51824029  0.95107463\n",
       "log_crime_rate       -0.31948495 0.06325271 -0.44368423 -0.31948863\n",
       "z_segregation_income -0.10303745 0.05251211 -0.20616168 -0.10303545\n",
       "log_pct_black        -0.07427762 0.03053746 -0.13425779 -0.07427313\n",
       "log_pct_hispanic     -0.20946949 0.04284506 -0.29360687 -0.20946930\n",
       "log_unemployment      0.51107474 0.14741970  0.22159697  0.51106958\n",
       "z_uninsured           0.16372663 0.06724714  0.03210158  0.16357880\n",
       "z_medicare_expenses  -0.22164563 0.04404290 -0.30810162 -0.22165696\n",
       "                     0.975quant    mode        kld         \n",
       "(Intercept)           4.214361e+01 41.93275641 0.000000e+00\n",
       "z_relative_mob        3.701187e-01  0.27786927 2.667922e-14\n",
       "z_gini                3.448914e-01  0.26144258 2.493536e-14\n",
       "log_population        1.367789e-01  0.02852927 1.942707e-14\n",
       "log_income            1.383631e+00  0.95106009 2.113166e-14\n",
       "log_crime_rate       -1.953808e-01 -0.31949067 2.167913e-14\n",
       "z_segregation_income -2.016894e-05 -0.10302696 1.635628e-14\n",
       "log_pct_black        -1.437811e-02 -0.07426149 2.302023e-14\n",
       "log_pct_hispanic     -1.254116e-01 -0.20946526 2.740480e-14\n",
       "log_unemployment      8.003115e-01  0.51107175 2.362712e-14\n",
       "z_uninsured           2.960456e-01  0.16328587 1.783756e-14\n",
       "z_medicare_expenses  -1.352076e-01 -0.22167606 2.772298e-14"
      ]
     },
     "metadata": {},
     "output_type": "display_data"
    }
   ],
   "source": [
    "f2_1$summary.fixed"
   ]
  },
  {
   "cell_type": "code",
   "execution_count": 469,
   "metadata": {},
   "outputs": [
    {
     "data": {
      "text/html": [
       "<table>\n",
       "<thead><tr><th></th><th scope=col>mean</th><th scope=col>sd</th><th scope=col>q0.025</th><th scope=col>q0.5</th><th scope=col>q0.975</th><th scope=col>mode</th></tr></thead>\n",
       "<tbody>\n",
       "\t<tr><th scope=row>SD for the Gaussian observations</th><td>1.0460784 </td><td>0.01937325</td><td>1.0087380 </td><td>1.0457785 </td><td>1.0847973 </td><td>1.0451351 </td></tr>\n",
       "\t<tr><th scope=row>SD for state</th><td>0.6769903 </td><td>0.08466052</td><td>0.5278019 </td><td>0.6707777 </td><td>0.8597488 </td><td>0.6580783 </td></tr>\n",
       "</tbody>\n",
       "</table>\n"
      ],
      "text/latex": [
       "\\begin{tabular}{r|llllll}\n",
       "  & mean & sd & q0.025 & q0.5 & q0.975 & mode\\\\\n",
       "\\hline\n",
       "\tSD for the Gaussian observations & 1.0460784  & 0.01937325 & 1.0087380  & 1.0457785  & 1.0847973  & 1.0451351 \\\\\n",
       "\tSD for state & 0.6769903  & 0.08466052 & 0.5278019  & 0.6707777  & 0.8597488  & 0.6580783 \\\\\n",
       "\\end{tabular}\n"
      ],
      "text/markdown": [
       "\n",
       "| <!--/--> | mean | sd | q0.025 | q0.5 | q0.975 | mode | \n",
       "|---|---|\n",
       "| SD for the Gaussian observations | 1.0460784  | 0.01937325 | 1.0087380  | 1.0457785  | 1.0847973  | 1.0451351  | \n",
       "| SD for state | 0.6769903  | 0.08466052 | 0.5278019  | 0.6707777  | 0.8597488  | 0.6580783  | \n",
       "\n",
       "\n"
      ],
      "text/plain": [
       "                                 mean      sd         q0.025    q0.5     \n",
       "SD for the Gaussian observations 1.0460784 0.01937325 1.0087380 1.0457785\n",
       "SD for state                     0.6769903 0.08466052 0.5278019 0.6707777\n",
       "                                 q0.975    mode     \n",
       "SD for the Gaussian observations 1.0847973 1.0451351\n",
       "SD for state                     0.8597488 0.6580783"
      ]
     },
     "metadata": {},
     "output_type": "display_data"
    }
   ],
   "source": [
    "bri.hyperpar.summary(f2_1)"
   ]
  },
  {
   "cell_type": "code",
   "execution_count": 470,
   "metadata": {},
   "outputs": [],
   "source": [
    "# simulate per quartile\n",
    "sim_female_f2 = data.table()\n",
    "\n",
    "for (i in 1:4) {\n",
    "    model_name = paste0('f2_', i)\n",
    "    s = simulate_pred_no_re(model=get(model_name), \n",
    "                                          data=relative_mob_pred_data, \n",
    "                                          contrast='z_relative_mob', \n",
    "                                          nsim = 2000)\n",
    "    d = s[, .(q = i, fd = diff(pred)), by = sim][, .(q, fd)]\n",
    "    sim_female_f2 = rbind(sim_female_f2, d)\n",
    "    }"
   ]
  },
  {
   "cell_type": "code",
   "execution_count": 471,
   "metadata": {},
   "outputs": [],
   "source": [
    "fwrite(sim_female_f2, file = '../data/sim_female_f2.csv')"
   ]
  },
  {
   "cell_type": "markdown",
   "metadata": {},
   "source": [
    "# Table by income quartile"
   ]
  },
  {
   "cell_type": "code",
   "execution_count": 472,
   "metadata": {},
   "outputs": [],
   "source": [
    "library(texreg)\n",
    "source('utils/extract_inla.R')"
   ]
  },
  {
   "cell_type": "code",
   "execution_count": 473,
   "metadata": {},
   "outputs": [],
   "source": [
    "for (i in 1:4) {\n",
    "    cmodels <- rep(c('Women', 'Men'), 2)\n",
    "    models <- list(get(paste0('f1_', i)),\n",
    "                   get(paste0('m1_', i)),\n",
    "                   get(paste0('f2_', i)),\n",
    "                   get(paste0('m2_', i)))\n",
    "\n",
    "    cnames <- list(\"(Intercept)\" = 'Constant',\n",
    "                   'z_relative_mob' = 'Standardized Income mobility (Rank-Rank Slope x -1)',\n",
    "                   'z_gini' = 'Standardized Gini',\n",
    "                   \"sd for state\" = \"SD states\",\n",
    "                   \"sd for the Gaussian observations\" = \"SD observations\")\n",
    "\n",
    "    # screenreg(models)\n",
    "    t = texreg(models,\n",
    "                include.dic = TRUE, include.waic = TRUE,\n",
    "                ci.test = FALSE,\n",
    "                float.pos = \"htp\",\n",
    "                caption = \"Life Expectancy (40) Models\",\n",
    "                booktabs = TRUE,\n",
    "                use.packages = FALSE,\n",
    "                dcolumn = TRUE,\n",
    "                caption.above = TRUE,\n",
    "                scalebox = 0.65,\n",
    "                label = \"inla_models\",\n",
    "                # sideways = TRUE,\n",
    "                digits = 2,\n",
    "                custom.model.names = cmodels,\n",
    "                custom.coef.map = cnames,\n",
    "                groups = list(\"Random Effects\" = c(4:5)),\n",
    "                custom.note = \"Note: Selected coefficients \n",
    "                (mean of marginal posterior distribution). 95\\\\% credibility intervals.\")\n",
    "    \n",
    "    assign(paste0('tab_', i), t)\n",
    "    \n",
    "}"
   ]
  },
  {
   "cell_type": "code",
   "execution_count": 474,
   "metadata": {},
   "outputs": [],
   "source": [
    "heading = '\\\\renewcommand{\\\\arraystretch}{1.2}\\n\n",
    "\\\\begin{table}[htp]\\n\n",
    "\\\\begin{threeparttable}\\n\n",
    "\\\\caption{Life Expectancy (40) Models\\\\tnote{1}}\\\\label{inla_models}\\n\n",
    "\\\\centering\\n\n",
    "\\\\setlength{\\\\tabcolsep}{1pt}\\n\n",
    "\\\\scriptsize\\n\n",
    "\\\\begin{tabular}{l D{.}{.}{5.11} D{.}{.}{5.11} D{.}{.}{5.11} D{.}{.}{5.11} }\\n\n",
    "\\\\toprule\\n\n",
    "& \\\\multicolumn{2}{c}{Baseline\\\\tnote{2}} & \\\\multicolumn{2}{c}{Social Indicators\\\\tnote{3}} \\\\\\\\\\n\n",
    "& \\\\multicolumn{1}{c}{Women} & \\\\multicolumn{1}{c}{Men} & \\\\multicolumn{1}{c}{Women} & \\\\multicolumn{1}{c}{Men} \\\\\\\\\\n\n",
    "\\\\midrule\\n'"
   ]
  },
  {
   "cell_type": "code",
   "execution_count": 475,
   "metadata": {},
   "outputs": [],
   "source": [
    "heading =  gsub(\"\\n\\n\", \"\\n\", heading)"
   ]
  },
  {
   "cell_type": "code",
   "execution_count": 476,
   "metadata": {},
   "outputs": [],
   "source": [
    "bottom = '\\\\addlinespace[5pt]\\n\n",
    "\\\\bottomrule\\n\n",
    "\\\\end{tabular}\n",
    "\\n\\\\begin{tablenotes}[flushleft]\\n\n",
    "\\\\scriptsize\\n\n",
    "\\\\item [1] Four separated models (one per income quartile). Selected coefficients, mean of marginal posterior distribution and 95\\\\% credibility intervals in brackets.\\n\n",
    "\\\\item [2] Baseline model adjusts for log population and log income.\\n\n",
    "\\\\item [3] Social indicators model adjusts for log population, log income, log crime rate, log \\\\% black, log \\\\% hispanic, log unemployment, z-score income segregation, z-score \\\\% uninsured, and z-score medicare expenses.\\n\\\\end{tablenotes}\\n\\\\end{threeparttable}\\n\n",
    "\\\\end{table}\\n'"
   ]
  },
  {
   "cell_type": "code",
   "execution_count": 477,
   "metadata": {},
   "outputs": [],
   "source": [
    "bottom =  gsub(\"\\n\\n\", \"\\n\", bottom)"
   ]
  },
  {
   "cell_type": "code",
   "execution_count": 478,
   "metadata": {},
   "outputs": [],
   "source": [
    "sep = NA\n",
    "for (i in 1:4) {\n",
    "  sep[i] = paste0(\"\\\\addlinespace[10pt]\\n\\\\multicolumn{5}{l}{\\\\textbf{Income Quartile \", i, \"}} \\\\\\\\\\n\\\\addlinespace[10pt]\\n\")\n",
    "}"
   ]
  },
  {
   "cell_type": "code",
   "execution_count": 479,
   "metadata": {},
   "outputs": [],
   "source": [
    "tabs = list(tab_1, tab_2, tab_3, tab_4)"
   ]
  },
  {
   "cell_type": "code",
   "execution_count": 480,
   "metadata": {},
   "outputs": [],
   "source": [
    "out = list()\n",
    "for (i in 1:4) {\n",
    "    out[[i]] = gsub('(.+)(Constant.+)(Random.+)', '\\\\2', tabs[[i]])\n",
    "}"
   ]
  },
  {
   "cell_type": "code",
   "execution_count": 481,
   "metadata": {},
   "outputs": [],
   "source": [
    "# export table\n",
    "cat(heading, \n",
    "    sep[[1]], out[[1]], \n",
    "    sep[[2]], out[[2]], \n",
    "    sep[[3]], out[[3]], \n",
    "    sep[[4]], out[[4]], \n",
    "    bottom, \n",
    "    file = 'tables/inla_models_quartile.tex')"
   ]
  },
  {
   "cell_type": "markdown",
   "metadata": {},
   "source": [
    "# Forest plot"
   ]
  },
  {
   "cell_type": "code",
   "execution_count": 482,
   "metadata": {},
   "outputs": [],
   "source": [
    "models = c('m1_1', 'm1_2', 'm1_3', 'm1_4', 'm2_1', 'm2_2', 'm2_3', 'm2_4')\n",
    "quartile = rep(c('Q1', 'Q2','Q3', 'Q4'), 2)\n",
    "\n",
    "coeff = data.frame()\n",
    "\n",
    "for (i in seq_along(models)) {\n",
    "    temp = get(models[i])$summary.fixed['z_relative_mob',c('mean', '0.025quant', '0.975quant')]\n",
    "    temp$quartile = quartile[i]\n",
    "    temp$model = ifelse(grepl('m1', models[i]), 'Baseline', 'Adjustments')\n",
    "    coeff = rbind(coeff, temp)\n",
    "}\n",
    "\n",
    "\n",
    "setnames(coeff, names(coeff), c('estimate', 'low', 'high', 'quartile', 'model'))\n",
    "coeff$model = factor(coeff$model, levels=c( 'Adjustments', 'Baseline'))\n",
    "coeff$quartile = factor(coeff$quartile, levels=c('Q4', 'Q3', 'Q2', 'Q1'))"
   ]
  },
  {
   "cell_type": "code",
   "execution_count": 483,
   "metadata": {},
   "outputs": [
    {
     "data": {
      "text/html": [
       "<table>\n",
       "<thead><tr><th></th><th scope=col>estimate</th><th scope=col>low</th><th scope=col>high</th><th scope=col>quartile</th><th scope=col>model</th></tr></thead>\n",
       "<tbody>\n",
       "\t<tr><th scope=row>z_relative_mob</th><td>0.4865704  </td><td> 0.40726649</td><td>0.5657799  </td><td>Q1         </td><td>Baseline   </td></tr>\n",
       "\t<tr><th scope=row>z_relative_mob1</th><td>0.3877516  </td><td> 0.31005973</td><td>0.4653413  </td><td>Q2         </td><td>Baseline   </td></tr>\n",
       "\t<tr><th scope=row>z_relative_mob2</th><td>0.3035801  </td><td> 0.21914448</td><td>0.3878838  </td><td>Q3         </td><td>Baseline   </td></tr>\n",
       "\t<tr><th scope=row>z_relative_mob3</th><td>0.1909537  </td><td> 0.07559253</td><td>0.3055712  </td><td>Q4         </td><td>Baseline   </td></tr>\n",
       "\t<tr><th scope=row>z_relative_mob4</th><td>0.3910691  </td><td> 0.29877112</td><td>0.4833098  </td><td>Q1         </td><td>Adjustments</td></tr>\n",
       "\t<tr><th scope=row>z_relative_mob5</th><td>0.2265208  </td><td> 0.13792422</td><td>0.3150656  </td><td>Q2         </td><td>Adjustments</td></tr>\n",
       "\t<tr><th scope=row>z_relative_mob6</th><td>0.1211239  </td><td> 0.02512365</td><td>0.2170676  </td><td>Q3         </td><td>Adjustments</td></tr>\n",
       "\t<tr><th scope=row>z_relative_mob7</th><td>0.1061787  </td><td>-0.02875057</td><td>0.2405835  </td><td>Q4         </td><td>Adjustments</td></tr>\n",
       "</tbody>\n",
       "</table>\n"
      ],
      "text/latex": [
       "\\begin{tabular}{r|lllll}\n",
       "  & estimate & low & high & quartile & model\\\\\n",
       "\\hline\n",
       "\tz\\_relative\\_mob & 0.4865704   &  0.40726649 & 0.5657799   & Q1          & Baseline   \\\\\n",
       "\tz\\_relative\\_mob1 & 0.3877516   &  0.31005973 & 0.4653413   & Q2          & Baseline   \\\\\n",
       "\tz\\_relative\\_mob2 & 0.3035801   &  0.21914448 & 0.3878838   & Q3          & Baseline   \\\\\n",
       "\tz\\_relative\\_mob3 & 0.1909537   &  0.07559253 & 0.3055712   & Q4          & Baseline   \\\\\n",
       "\tz\\_relative\\_mob4 & 0.3910691   &  0.29877112 & 0.4833098   & Q1          & Adjustments\\\\\n",
       "\tz\\_relative\\_mob5 & 0.2265208   &  0.13792422 & 0.3150656   & Q2          & Adjustments\\\\\n",
       "\tz\\_relative\\_mob6 & 0.1211239   &  0.02512365 & 0.2170676   & Q3          & Adjustments\\\\\n",
       "\tz\\_relative\\_mob7 & 0.1061787   & -0.02875057 & 0.2405835   & Q4          & Adjustments\\\\\n",
       "\\end{tabular}\n"
      ],
      "text/markdown": [
       "\n",
       "| <!--/--> | estimate | low | high | quartile | model | \n",
       "|---|---|---|---|---|---|---|---|\n",
       "| z_relative_mob | 0.4865704   |  0.40726649 | 0.5657799   | Q1          | Baseline    | \n",
       "| z_relative_mob1 | 0.3877516   |  0.31005973 | 0.4653413   | Q2          | Baseline    | \n",
       "| z_relative_mob2 | 0.3035801   |  0.21914448 | 0.3878838   | Q3          | Baseline    | \n",
       "| z_relative_mob3 | 0.1909537   |  0.07559253 | 0.3055712   | Q4          | Baseline    | \n",
       "| z_relative_mob4 | 0.3910691   |  0.29877112 | 0.4833098   | Q1          | Adjustments | \n",
       "| z_relative_mob5 | 0.2265208   |  0.13792422 | 0.3150656   | Q2          | Adjustments | \n",
       "| z_relative_mob6 | 0.1211239   |  0.02512365 | 0.2170676   | Q3          | Adjustments | \n",
       "| z_relative_mob7 | 0.1061787   | -0.02875057 | 0.2405835   | Q4          | Adjustments | \n",
       "\n",
       "\n"
      ],
      "text/plain": [
       "                estimate  low         high      quartile model      \n",
       "z_relative_mob  0.4865704  0.40726649 0.5657799 Q1       Baseline   \n",
       "z_relative_mob1 0.3877516  0.31005973 0.4653413 Q2       Baseline   \n",
       "z_relative_mob2 0.3035801  0.21914448 0.3878838 Q3       Baseline   \n",
       "z_relative_mob3 0.1909537  0.07559253 0.3055712 Q4       Baseline   \n",
       "z_relative_mob4 0.3910691  0.29877112 0.4833098 Q1       Adjustments\n",
       "z_relative_mob5 0.2265208  0.13792422 0.3150656 Q2       Adjustments\n",
       "z_relative_mob6 0.1211239  0.02512365 0.2170676 Q3       Adjustments\n",
       "z_relative_mob7 0.1061787 -0.02875057 0.2405835 Q4       Adjustments"
      ]
     },
     "metadata": {},
     "output_type": "display_data"
    }
   ],
   "source": [
    "coeff"
   ]
  },
  {
   "cell_type": "code",
   "execution_count": 484,
   "metadata": {},
   "outputs": [
    {
     "data": {},
     "metadata": {},
     "output_type": "display_data"
    },
    {
     "data": {
      "text/html": [
       "<strong>pdf:</strong> 2"
      ],
      "text/latex": [
       "\\textbf{pdf:} 2"
      ],
      "text/markdown": [
       "**pdf:** 2"
      ],
      "text/plain": [
       "pdf \n",
       "  2 "
      ]
     },
     "metadata": {},
     "output_type": "display_data"
    }
   ],
   "source": [
    "sdazar::savepdf('plots/coeff_male', 12, 10)\n",
    "ggplot(coeff, aes(colour = model)) + \n",
    "       geom_hline(yintercept = 0, colour = gray(1/2), lty = 3) + \n",
    "       geom_linerange(aes(x = quartile, ymin = low, ymax = high),\n",
    "                            lwd = 1, position = position_dodge(width = 1/2)) + \n",
    "       geom_pointrange(aes(x = quartile, y = estimate, ymin = low,\n",
    "                                 ymax = high),\n",
    "                             lwd = 1/2, position = position_dodge(width = 1/2),\n",
    "                             shape = 21, fill = \"white\") +\n",
    "        coord_flip() + theme_bw() + \n",
    "        theme(legend.position = 'top', legend.title = element_blank()) + \n",
    "        labs(y='\\nCoefficient (95% credibility intervals)', x='') + \n",
    "        scale_color_manual(values=c(\"#ff8080\", \"#8080ff\")) + \n",
    "        ylim(-0.2, 0.7)\n",
    "dev.off()"
   ]
  },
  {
   "cell_type": "code",
   "execution_count": 485,
   "metadata": {},
   "outputs": [],
   "source": [
    "models = c('f1_1', 'f1_2', 'f1_3', 'f1_4', 'f2_1', 'f2_2', 'f2_3', 'f2_4')\n",
    "coeff = data.frame()\n",
    "\n",
    "for (i in seq_along(models)) {\n",
    "    temp = get(models[i])$summary.fixed['z_relative_mob',c('mean', '0.025quant', '0.975quant')]\n",
    "    temp$quartile = quartile[i]\n",
    "    temp$model = ifelse(grepl('f1', models[i]), 'Baseline', 'Adjustments')\n",
    "    coeff = rbind(coeff, temp)\n",
    "}\n",
    "\n",
    "\n",
    "setnames(coeff, names(coeff), c('estimate', 'low', 'high', 'quartile', 'model'))\n",
    "coeff$model = factor(coeff$model, levels=c( 'Adjustments', 'Baseline'))\n",
    "coeff$quartile = factor(coeff$quartile, levels=c('Q4', 'Q3', 'Q2', 'Q1'))"
   ]
  },
  {
   "cell_type": "code",
   "execution_count": 486,
   "metadata": {},
   "outputs": [
    {
     "data": {
      "text/html": [
       "<table>\n",
       "<thead><tr><th></th><th scope=col>estimate</th><th scope=col>low</th><th scope=col>high</th><th scope=col>quartile</th><th scope=col>model</th></tr></thead>\n",
       "<tbody>\n",
       "\t<tr><th scope=row>z_relative_mob</th><td> 0.346227375</td><td> 0.26832481 </td><td>0.42405606  </td><td>Q1          </td><td>Baseline    </td></tr>\n",
       "\t<tr><th scope=row>z_relative_mob1</th><td> 0.246915125</td><td> 0.17062197 </td><td>0.32310945  </td><td>Q2          </td><td>Baseline    </td></tr>\n",
       "\t<tr><th scope=row>z_relative_mob2</th><td> 0.147446179</td><td> 0.05854679 </td><td>0.23596087  </td><td>Q3          </td><td>Baseline    </td></tr>\n",
       "\t<tr><th scope=row>z_relative_mob3</th><td> 0.240610986</td><td> 0.13598961 </td><td>0.34485057  </td><td>Q4          </td><td>Baseline    </td></tr>\n",
       "\t<tr><th scope=row>z_relative_mob4</th><td> 0.277869915</td><td> 0.18554375 </td><td>0.37011874  </td><td>Q1          </td><td>Adjustments </td></tr>\n",
       "\t<tr><th scope=row>z_relative_mob5</th><td> 0.122199202</td><td> 0.03083663 </td><td>0.21348798  </td><td>Q2          </td><td>Adjustments </td></tr>\n",
       "\t<tr><th scope=row>z_relative_mob6</th><td>-0.007018605</td><td>-0.11217040 </td><td>0.09798843  </td><td>Q3          </td><td>Adjustments </td></tr>\n",
       "\t<tr><th scope=row>z_relative_mob7</th><td> 0.087009734</td><td>-0.04329048 </td><td>0.21722320  </td><td>Q4          </td><td>Adjustments </td></tr>\n",
       "</tbody>\n",
       "</table>\n"
      ],
      "text/latex": [
       "\\begin{tabular}{r|lllll}\n",
       "  & estimate & low & high & quartile & model\\\\\n",
       "\\hline\n",
       "\tz\\_relative\\_mob &  0.346227375 &  0.26832481  & 0.42405606   & Q1           & Baseline    \\\\\n",
       "\tz\\_relative\\_mob1 &  0.246915125 &  0.17062197  & 0.32310945   & Q2           & Baseline    \\\\\n",
       "\tz\\_relative\\_mob2 &  0.147446179 &  0.05854679  & 0.23596087   & Q3           & Baseline    \\\\\n",
       "\tz\\_relative\\_mob3 &  0.240610986 &  0.13598961  & 0.34485057   & Q4           & Baseline    \\\\\n",
       "\tz\\_relative\\_mob4 &  0.277869915 &  0.18554375  & 0.37011874   & Q1           & Adjustments \\\\\n",
       "\tz\\_relative\\_mob5 &  0.122199202 &  0.03083663  & 0.21348798   & Q2           & Adjustments \\\\\n",
       "\tz\\_relative\\_mob6 & -0.007018605 & -0.11217040  & 0.09798843   & Q3           & Adjustments \\\\\n",
       "\tz\\_relative\\_mob7 &  0.087009734 & -0.04329048  & 0.21722320   & Q4           & Adjustments \\\\\n",
       "\\end{tabular}\n"
      ],
      "text/markdown": [
       "\n",
       "| <!--/--> | estimate | low | high | quartile | model | \n",
       "|---|---|---|---|---|---|---|---|\n",
       "| z_relative_mob |  0.346227375 |  0.26832481  | 0.42405606   | Q1           | Baseline     | \n",
       "| z_relative_mob1 |  0.246915125 |  0.17062197  | 0.32310945   | Q2           | Baseline     | \n",
       "| z_relative_mob2 |  0.147446179 |  0.05854679  | 0.23596087   | Q3           | Baseline     | \n",
       "| z_relative_mob3 |  0.240610986 |  0.13598961  | 0.34485057   | Q4           | Baseline     | \n",
       "| z_relative_mob4 |  0.277869915 |  0.18554375  | 0.37011874   | Q1           | Adjustments  | \n",
       "| z_relative_mob5 |  0.122199202 |  0.03083663  | 0.21348798   | Q2           | Adjustments  | \n",
       "| z_relative_mob6 | -0.007018605 | -0.11217040  | 0.09798843   | Q3           | Adjustments  | \n",
       "| z_relative_mob7 |  0.087009734 | -0.04329048  | 0.21722320   | Q4           | Adjustments  | \n",
       "\n",
       "\n"
      ],
      "text/plain": [
       "                estimate     low         high       quartile model      \n",
       "z_relative_mob   0.346227375  0.26832481 0.42405606 Q1       Baseline   \n",
       "z_relative_mob1  0.246915125  0.17062197 0.32310945 Q2       Baseline   \n",
       "z_relative_mob2  0.147446179  0.05854679 0.23596087 Q3       Baseline   \n",
       "z_relative_mob3  0.240610986  0.13598961 0.34485057 Q4       Baseline   \n",
       "z_relative_mob4  0.277869915  0.18554375 0.37011874 Q1       Adjustments\n",
       "z_relative_mob5  0.122199202  0.03083663 0.21348798 Q2       Adjustments\n",
       "z_relative_mob6 -0.007018605 -0.11217040 0.09798843 Q3       Adjustments\n",
       "z_relative_mob7  0.087009734 -0.04329048 0.21722320 Q4       Adjustments"
      ]
     },
     "metadata": {},
     "output_type": "display_data"
    }
   ],
   "source": [
    "coeff"
   ]
  },
  {
   "cell_type": "code",
   "execution_count": 487,
   "metadata": {},
   "outputs": [
    {
     "data": {},
     "metadata": {},
     "output_type": "display_data"
    },
    {
     "data": {
      "text/html": [
       "<strong>pdf:</strong> 2"
      ],
      "text/latex": [
       "\\textbf{pdf:} 2"
      ],
      "text/markdown": [
       "**pdf:** 2"
      ],
      "text/plain": [
       "pdf \n",
       "  2 "
      ]
     },
     "metadata": {},
     "output_type": "display_data"
    }
   ],
   "source": [
    "sdazar::savepdf('plots/coeff_female', 12, 10)\n",
    "ggplot(coeff, aes(colour = model)) + \n",
    "       geom_hline(yintercept = 0, colour = gray(1/2), lty = 3) + \n",
    "       geom_linerange(aes(x = quartile, ymin = low, ymax = high),\n",
    "                            lwd = 1, position = position_dodge(width = 1/2)) + \n",
    "       geom_pointrange(aes(x = quartile, y = estimate, ymin = low,\n",
    "                                 ymax = high),\n",
    "                             lwd = 1/2, position = position_dodge(width = 1/2),\n",
    "                             shape = 21, fill = \"white\") +\n",
    "        coord_flip() + theme_bw() + \n",
    "        theme(legend.position = 'top', legend.title = element_blank()) + \n",
    "        labs(y='\\nCoefficient (95% credibility intervals)', x='') + \n",
    "        scale_color_manual(values=c(\"#ff8080\", \"#8080ff\")) +\n",
    "        ylim(-0.2, 0.7)\n",
    "dev.off()"
   ]
  },
  {
   "cell_type": "markdown",
   "metadata": {},
   "source": [
    "# Prediction per county"
   ]
  },
  {
   "cell_type": "code",
   "execution_count": 488,
   "metadata": {},
   "outputs": [],
   "source": [
    "library(sdazar)\n",
    "library(ggridges)\n",
    "library(forcats)"
   ]
  },
  {
   "cell_type": "code",
   "execution_count": 489,
   "metadata": {},
   "outputs": [],
   "source": [
    "# order data by le\n",
    "setorder(male, le)\n",
    "setorder(female, le)"
   ]
  },
  {
   "cell_type": "code",
   "execution_count": 490,
   "metadata": {},
   "outputs": [
    {
     "data": {},
     "metadata": {},
     "output_type": "display_data"
    },
    {
     "data": {
      "text/html": [
       "<table>\n",
       "<thead><tr><th scope=col>cn</th><th scope=col>state</th><th scope=col>county</th></tr></thead>\n",
       "<tbody>\n",
       "\t<tr><td>Autauga, AL </td><td>1           </td><td>1001        </td></tr>\n",
       "\t<tr><td>Baldwin, AL </td><td>1           </td><td>1003        </td></tr>\n",
       "\t<tr><td>Barbour, AL </td><td>1           </td><td>1005        </td></tr>\n",
       "\t<tr><td>Blount, AL  </td><td>1           </td><td>1009        </td></tr>\n",
       "\t<tr><td>Calhoun, AL </td><td>1           </td><td>1015        </td></tr>\n",
       "\t<tr><td>Chambers, AL</td><td>1           </td><td>1017        </td></tr>\n",
       "</tbody>\n",
       "</table>\n"
      ],
      "text/latex": [
       "\\begin{tabular}{r|lll}\n",
       " cn & state & county\\\\\n",
       "\\hline\n",
       "\t Autauga, AL  & 1            & 1001        \\\\\n",
       "\t Baldwin, AL  & 1            & 1003        \\\\\n",
       "\t Barbour, AL  & 1            & 1005        \\\\\n",
       "\t Blount, AL   & 1            & 1009        \\\\\n",
       "\t Calhoun, AL  & 1            & 1015        \\\\\n",
       "\t Chambers, AL & 1            & 1017        \\\\\n",
       "\\end{tabular}\n"
      ],
      "text/markdown": [
       "\n",
       "cn | state | county | \n",
       "|---|---|---|---|---|---|\n",
       "| Autauga, AL  | 1            | 1001         | \n",
       "| Baldwin, AL  | 1            | 1003         | \n",
       "| Barbour, AL  | 1            | 1005         | \n",
       "| Blount, AL   | 1            | 1009         | \n",
       "| Calhoun, AL  | 1            | 1015         | \n",
       "| Chambers, AL | 1            | 1017         | \n",
       "\n",
       "\n"
      ],
      "text/plain": [
       "  cn           state county\n",
       "1 Autauga, AL  1     1001  \n",
       "2 Baldwin, AL  1     1003  \n",
       "3 Barbour, AL  1     1005  \n",
       "4 Blount, AL   1     1009  \n",
       "5 Calhoun, AL  1     1015  \n",
       "6 Chambers, AL 1     1017  "
      ]
     },
     "metadata": {},
     "output_type": "display_data"
    }
   ],
   "source": [
    "# county state labes\n",
    "df[, cn := paste0(county_name, \", \", stateabbrv)]\n",
    "cn = df[, .(cn, state, county)]\n",
    "cn = cn[!duplicated(cn)]\n",
    "head(cn)"
   ]
  },
  {
   "cell_type": "code",
   "execution_count": 491,
   "metadata": {},
   "outputs": [],
   "source": [
    "# selected variables\n",
    "vars = c('le', 'county', 'state', 'z_relative_mob', 'z_gini', 'log_population', 'log_income' ,  \n",
    "        'log_crime_rate', 'z_segregation_income', 'log_pct_black', 'log_pct_hispanic', \n",
    "        'log_unemployment', 'z_uninsured', 'z_medicare_expenses')"
   ]
  },
  {
   "cell_type": "markdown",
   "metadata": {},
   "source": [
    "### Male"
   ]
  },
  {
   "cell_type": "code",
   "execution_count": 492,
   "metadata": {},
   "outputs": [
    {
     "data": {
      "text/html": [
       "3.53846430778503"
      ],
      "text/latex": [
       "3.53846430778503"
      ],
      "text/markdown": [
       "3.53846430778503"
      ],
      "text/plain": [
       "[1] 3.538464"
      ]
     },
     "metadata": {},
     "output_type": "display_data"
    }
   ],
   "source": [
    "max_mob = max(male$z_relative_mob)\n",
    "max_mob"
   ]
  },
  {
   "cell_type": "code",
   "execution_count": 493,
   "metadata": {},
   "outputs": [
    {
     "data": {},
     "metadata": {},
     "output_type": "display_data"
    },
    {
     "data": {},
     "metadata": {},
     "output_type": "display_data"
    },
    {
     "data": {},
     "metadata": {},
     "output_type": "display_data"
    },
    {
     "data": {
      "text/html": [
       "0"
      ],
      "text/latex": [
       "0"
      ],
      "text/markdown": [
       "0"
      ],
      "text/plain": [
       "[1] 0"
      ]
     },
     "metadata": {},
     "output_type": "display_data"
    }
   ],
   "source": [
    "bottom_male = head(male[income_qr==1, vars, with=FALSE], 10)\n",
    "bottom_male_c = copy(bottom_male)\n",
    "bottom_male_c[, z_relative_mob := max_mob]\n",
    "tot_bottom_male = rbind(bottom_male, bottom_male_c) \n",
    "tot_bottom_male[, ranking := .GRP, by = .(county, state)]\n",
    "tot_bottom_male[, order := seq_len(.N), by = .(county, state)]\n",
    "anyDuplicated(tot_bottom_male[,.(state, county, z_relative_mob)])"
   ]
  },
  {
   "cell_type": "code",
   "execution_count": 494,
   "metadata": {},
   "outputs": [],
   "source": [
    "# simulate values\n",
    "source('utils/simulation_random_intercept.R')"
   ]
  },
  {
   "cell_type": "code",
   "execution_count": 495,
   "metadata": {},
   "outputs": [],
   "source": [
    "sim_male_bottom = simulate_pred_re(m2_1, nsim=2000, tot_bottom_male, contrast='z_relative_mob', \n",
    "                  random_intercept='state')"
   ]
  },
  {
   "cell_type": "code",
   "execution_count": 496,
   "metadata": {},
   "outputs": [],
   "source": [
    "sim_male_bottom = merge(sim_male_bottom, cn, by = c('county', 'state'))"
   ]
  },
  {
   "cell_type": "code",
   "execution_count": 497,
   "metadata": {},
   "outputs": [
    {
     "data": {
      "text/html": [
       "<table>\n",
       "<thead><tr><th scope=col>county</th><th scope=col>state</th><th scope=col>pred</th><th scope=col>sim</th><th scope=col>z_relative_mob</th><th scope=col>le</th><th scope=col>ranking</th><th scope=col>order</th><th scope=col>cn</th></tr></thead>\n",
       "<tbody>\n",
       "\t<tr><td>48025      </td><td>41         </td><td>35.03455   </td><td>1          </td><td>-0.03526187</td><td>31.51167   </td><td>1          </td><td>1          </td><td>Bee, TX    </td></tr>\n",
       "\t<tr><td>48025      </td><td>41         </td><td>35.73264   </td><td>1          </td><td> 3.53846431</td><td>31.51167   </td><td>1          </td><td>2          </td><td>Bee, TX    </td></tr>\n",
       "\t<tr><td>48025      </td><td>41         </td><td>35.17385   </td><td>2          </td><td>-0.03526187</td><td>31.51167   </td><td>1          </td><td>1          </td><td>Bee, TX    </td></tr>\n",
       "\t<tr><td>48025      </td><td>41         </td><td>35.58200   </td><td>2          </td><td> 3.53846431</td><td>31.51167   </td><td>1          </td><td>2          </td><td>Bee, TX    </td></tr>\n",
       "\t<tr><td>48025      </td><td>41         </td><td>34.70806   </td><td>3          </td><td>-0.03526187</td><td>31.51167   </td><td>1          </td><td>1          </td><td>Bee, TX    </td></tr>\n",
       "\t<tr><td>48025      </td><td>41         </td><td>35.72634   </td><td>3          </td><td> 3.53846431</td><td>31.51167   </td><td>1          </td><td>2          </td><td>Bee, TX    </td></tr>\n",
       "</tbody>\n",
       "</table>\n"
      ],
      "text/latex": [
       "\\begin{tabular}{r|lllllllll}\n",
       " county & state & pred & sim & z\\_relative\\_mob & le & ranking & order & cn\\\\\n",
       "\\hline\n",
       "\t 48025       & 41          & 35.03455    & 1           & -0.03526187 & 31.51167    & 1           & 1           & Bee, TX    \\\\\n",
       "\t 48025       & 41          & 35.73264    & 1           &  3.53846431 & 31.51167    & 1           & 2           & Bee, TX    \\\\\n",
       "\t 48025       & 41          & 35.17385    & 2           & -0.03526187 & 31.51167    & 1           & 1           & Bee, TX    \\\\\n",
       "\t 48025       & 41          & 35.58200    & 2           &  3.53846431 & 31.51167    & 1           & 2           & Bee, TX    \\\\\n",
       "\t 48025       & 41          & 34.70806    & 3           & -0.03526187 & 31.51167    & 1           & 1           & Bee, TX    \\\\\n",
       "\t 48025       & 41          & 35.72634    & 3           &  3.53846431 & 31.51167    & 1           & 2           & Bee, TX    \\\\\n",
       "\\end{tabular}\n"
      ],
      "text/markdown": [
       "\n",
       "county | state | pred | sim | z_relative_mob | le | ranking | order | cn | \n",
       "|---|---|---|---|---|---|\n",
       "| 48025       | 41          | 35.03455    | 1           | -0.03526187 | 31.51167    | 1           | 1           | Bee, TX     | \n",
       "| 48025       | 41          | 35.73264    | 1           |  3.53846431 | 31.51167    | 1           | 2           | Bee, TX     | \n",
       "| 48025       | 41          | 35.17385    | 2           | -0.03526187 | 31.51167    | 1           | 1           | Bee, TX     | \n",
       "| 48025       | 41          | 35.58200    | 2           |  3.53846431 | 31.51167    | 1           | 2           | Bee, TX     | \n",
       "| 48025       | 41          | 34.70806    | 3           | -0.03526187 | 31.51167    | 1           | 1           | Bee, TX     | \n",
       "| 48025       | 41          | 35.72634    | 3           |  3.53846431 | 31.51167    | 1           | 2           | Bee, TX     | \n",
       "\n",
       "\n"
      ],
      "text/plain": [
       "  county state pred     sim z_relative_mob le       ranking order cn     \n",
       "1 48025  41    35.03455 1   -0.03526187    31.51167 1       1     Bee, TX\n",
       "2 48025  41    35.73264 1    3.53846431    31.51167 1       2     Bee, TX\n",
       "3 48025  41    35.17385 2   -0.03526187    31.51167 1       1     Bee, TX\n",
       "4 48025  41    35.58200 2    3.53846431    31.51167 1       2     Bee, TX\n",
       "5 48025  41    34.70806 3   -0.03526187    31.51167 1       1     Bee, TX\n",
       "6 48025  41    35.72634 3    3.53846431    31.51167 1       2     Bee, TX"
      ]
     },
     "metadata": {},
     "output_type": "display_data"
    }
   ],
   "source": [
    "setorder(sim_male_bottom, ranking)\n",
    "head(sim_male_bottom)"
   ]
  },
  {
   "cell_type": "code",
   "execution_count": 498,
   "metadata": {},
   "outputs": [
    {
     "data": {},
     "metadata": {},
     "output_type": "display_data"
    }
   ],
   "source": [
    "sim_male_bottom[, fcn := fct_rev(factor(cn))]"
   ]
  },
  {
   "cell_type": "code",
   "execution_count": 499,
   "metadata": {},
   "outputs": [
    {
     "data": {
      "text/html": [
       "32.9813079833984"
      ],
      "text/latex": [
       "32.9813079833984"
      ],
      "text/markdown": [
       "32.9813079833984"
      ],
      "text/plain": [
       "[1] 32.98131"
      ]
     },
     "metadata": {},
     "output_type": "display_data"
    }
   ],
   "source": [
    "sim_male_bottom[fcn=='Shelby, IN', le][1]"
   ]
  },
  {
   "cell_type": "code",
   "execution_count": 500,
   "metadata": {},
   "outputs": [
    {
     "data": {},
     "metadata": {},
     "output_type": "display_data"
    }
   ],
   "source": [
    "counties = unique(sim_male_bottom[, county])\n",
    "\n",
    "q4_male = male[county %in% counties & income_q=='Q4', .(county, le)]\n",
    "q4_male = merge(q4_male, cn, by = c('county'))\n",
    "\n",
    "q4_male[, fcn := fct_rev(factor(cn))]\n",
    "q4_male = q4_male[, .(fcn, le)]"
   ]
  },
  {
   "cell_type": "code",
   "execution_count": 1,
   "metadata": {},
   "outputs": [
    {
     "ename": "ERROR",
     "evalue": "Error in eval(expr, envir, enclos): object 'sim_male_bottom' not found\n",
     "execution_count": 1,
     "output_type": "error",
     "traceback": [
      "Error in eval(expr, envir, enclos): object 'sim_male_bottom' not found\nTraceback:\n"
     ]
    }
   ],
   "source": [
    "sim_male_bottom"
   ]
  },
  {
   "cell_type": "code",
   "execution_count": 501,
   "metadata": {},
   "outputs": [
    {
     "name": "stderr",
     "output_type": "stream",
     "text": [
      "Picking joint bandwidth of 0.0431\n"
     ]
    },
    {
     "data": {
      "text/html": [
       "<strong>pdf:</strong> 2"
      ],
      "text/latex": [
       "\\textbf{pdf:} 2"
      ],
      "text/markdown": [
       "**pdf:** 2"
      ],
      "text/plain": [
       "pdf \n",
       "  2 "
      ]
     },
     "metadata": {},
     "output_type": "display_data"
    }
   ],
   "source": [
    "# plot\n",
    "savepdf('plots/counties_male')\n",
    "plot = ggplot(sim_male_bottom, aes(y =fcn)) + \n",
    "  geom_density_ridges(aes(x = pred, fill = paste(order)), \n",
    "           alpha = .5, color = \"white\", from = 33, to = 39, scale = 0.8) +\n",
    "  geom_segment(data = q4_male, aes(x = le, xend = le, y = as.numeric(fcn),\n",
    "                                      yend = as.numeric(fcn) + .9), color='orange', size=0.4, linetype=1) + \n",
    "  labs(x = \"E(40)\",\n",
    "       y = \"\") +  theme_ridges(grid=FALSE)+ \n",
    "  scale_y_discrete(expand = c(0.01, 0)) +\n",
    "  scale_x_continuous(expand = c(0.01, 0))  +\n",
    "  scale_fill_cyclical(values = c(\"#ff0000\", \"#0000ff\", \"#ff8080\", \"#8080ff\"), \n",
    "                     guide= 'legend', name='', \n",
    "                     labels = c('Observed Income Mobility','Highest Income Mobility')) + \n",
    "  theme(legend.position = \"top\", \n",
    "        axis.title=element_text(size=10), \n",
    "        axis.text.x = element_text(size=10), \n",
    "        axis.text.y = element_text(size=10))\n",
    "print(plot)\n",
    "dev.off()"
   ]
  },
  {
   "cell_type": "markdown",
   "metadata": {},
   "source": [
    "### Female"
   ]
  },
  {
   "cell_type": "code",
   "execution_count": 502,
   "metadata": {},
   "outputs": [
    {
     "data": {
      "text/html": [
       "3.53846430778503"
      ],
      "text/latex": [
       "3.53846430778503"
      ],
      "text/markdown": [
       "3.53846430778503"
      ],
      "text/plain": [
       "[1] 3.538464"
      ]
     },
     "metadata": {},
     "output_type": "display_data"
    }
   ],
   "source": [
    "max_mob = max(female$z_relative_mob)\n",
    "max_mob"
   ]
  },
  {
   "cell_type": "code",
   "execution_count": 503,
   "metadata": {},
   "outputs": [
    {
     "data": {},
     "metadata": {},
     "output_type": "display_data"
    },
    {
     "data": {},
     "metadata": {},
     "output_type": "display_data"
    },
    {
     "data": {},
     "metadata": {},
     "output_type": "display_data"
    },
    {
     "data": {
      "text/html": [
       "0"
      ],
      "text/latex": [
       "0"
      ],
      "text/markdown": [
       "0"
      ],
      "text/plain": [
       "[1] 0"
      ]
     },
     "metadata": {},
     "output_type": "display_data"
    }
   ],
   "source": [
    "bottom_female = head(female[income_qr==1, vars, with=FALSE], 10)\n",
    "bottom_female_c = copy(bottom_female)\n",
    "bottom_female_c[, z_relative_mob := max_mob]\n",
    "tot_bottom_female = rbind(bottom_female, bottom_female_c) \n",
    "tot_bottom_female[, ranking := .GRP, by = .(county, state)]\n",
    "tot_bottom_female[, order := seq_len(.N), by = .(county, state)]\n",
    "anyDuplicated(tot_bottom_female[,.(state, county, z_relative_mob)])"
   ]
  },
  {
   "cell_type": "code",
   "execution_count": 504,
   "metadata": {},
   "outputs": [
    {
     "data": {
      "text/html": [
       "<table>\n",
       "<thead><tr><th scope=col>county</th><th scope=col>state</th><th scope=col>pred</th><th scope=col>sim</th><th scope=col>z_relative_mob</th><th scope=col>le</th><th scope=col>ranking</th><th scope=col>order</th><th scope=col>cn</th></tr></thead>\n",
       "<tbody>\n",
       "\t<tr><td>18133     </td><td>12        </td><td>40.56340  </td><td>1         </td><td>-0.1347668</td><td>37.88754  </td><td>1         </td><td>1         </td><td>Putnam, IN</td></tr>\n",
       "\t<tr><td>18133     </td><td>12        </td><td>41.40714  </td><td>1         </td><td> 3.5384643</td><td>37.88754  </td><td>1         </td><td>2         </td><td>Putnam, IN</td></tr>\n",
       "\t<tr><td>18133     </td><td>12        </td><td>40.56808  </td><td>2         </td><td>-0.1347668</td><td>37.88754  </td><td>1         </td><td>1         </td><td>Putnam, IN</td></tr>\n",
       "\t<tr><td>18133     </td><td>12        </td><td>41.76068  </td><td>2         </td><td> 3.5384643</td><td>37.88754  </td><td>1         </td><td>2         </td><td>Putnam, IN</td></tr>\n",
       "\t<tr><td>18133     </td><td>12        </td><td>40.47165  </td><td>3         </td><td>-0.1347668</td><td>37.88754  </td><td>1         </td><td>1         </td><td>Putnam, IN</td></tr>\n",
       "\t<tr><td>18133     </td><td>12        </td><td>41.30827  </td><td>3         </td><td> 3.5384643</td><td>37.88754  </td><td>1         </td><td>2         </td><td>Putnam, IN</td></tr>\n",
       "</tbody>\n",
       "</table>\n"
      ],
      "text/latex": [
       "\\begin{tabular}{r|lllllllll}\n",
       " county & state & pred & sim & z\\_relative\\_mob & le & ranking & order & cn\\\\\n",
       "\\hline\n",
       "\t 18133      & 12         & 40.56340   & 1          & -0.1347668 & 37.88754   & 1          & 1          & Putnam, IN\\\\\n",
       "\t 18133      & 12         & 41.40714   & 1          &  3.5384643 & 37.88754   & 1          & 2          & Putnam, IN\\\\\n",
       "\t 18133      & 12         & 40.56808   & 2          & -0.1347668 & 37.88754   & 1          & 1          & Putnam, IN\\\\\n",
       "\t 18133      & 12         & 41.76068   & 2          &  3.5384643 & 37.88754   & 1          & 2          & Putnam, IN\\\\\n",
       "\t 18133      & 12         & 40.47165   & 3          & -0.1347668 & 37.88754   & 1          & 1          & Putnam, IN\\\\\n",
       "\t 18133      & 12         & 41.30827   & 3          &  3.5384643 & 37.88754   & 1          & 2          & Putnam, IN\\\\\n",
       "\\end{tabular}\n"
      ],
      "text/markdown": [
       "\n",
       "county | state | pred | sim | z_relative_mob | le | ranking | order | cn | \n",
       "|---|---|---|---|---|---|\n",
       "| 18133      | 12         | 40.56340   | 1          | -0.1347668 | 37.88754   | 1          | 1          | Putnam, IN | \n",
       "| 18133      | 12         | 41.40714   | 1          |  3.5384643 | 37.88754   | 1          | 2          | Putnam, IN | \n",
       "| 18133      | 12         | 40.56808   | 2          | -0.1347668 | 37.88754   | 1          | 1          | Putnam, IN | \n",
       "| 18133      | 12         | 41.76068   | 2          |  3.5384643 | 37.88754   | 1          | 2          | Putnam, IN | \n",
       "| 18133      | 12         | 40.47165   | 3          | -0.1347668 | 37.88754   | 1          | 1          | Putnam, IN | \n",
       "| 18133      | 12         | 41.30827   | 3          |  3.5384643 | 37.88754   | 1          | 2          | Putnam, IN | \n",
       "\n",
       "\n"
      ],
      "text/plain": [
       "  county state pred     sim z_relative_mob le       ranking order cn        \n",
       "1 18133  12    40.56340 1   -0.1347668     37.88754 1       1     Putnam, IN\n",
       "2 18133  12    41.40714 1    3.5384643     37.88754 1       2     Putnam, IN\n",
       "3 18133  12    40.56808 2   -0.1347668     37.88754 1       1     Putnam, IN\n",
       "4 18133  12    41.76068 2    3.5384643     37.88754 1       2     Putnam, IN\n",
       "5 18133  12    40.47165 3   -0.1347668     37.88754 1       1     Putnam, IN\n",
       "6 18133  12    41.30827 3    3.5384643     37.88754 1       2     Putnam, IN"
      ]
     },
     "metadata": {},
     "output_type": "display_data"
    }
   ],
   "source": [
    "sim_female_bottom = simulate_pred_re(f2_1, nsim=2000, tot_bottom_female, contrast='z_relative_mob', \n",
    "                  random_intercept='state')\n",
    "\n",
    "sim_female_bottom = merge(sim_female_bottom, cn, by = c('county', 'state'))\n",
    "setorder(sim_female_bottom, ranking)\n",
    "head(sim_female_bottom)"
   ]
  },
  {
   "cell_type": "code",
   "execution_count": 505,
   "metadata": {},
   "outputs": [
    {
     "data": {},
     "metadata": {},
     "output_type": "display_data"
    }
   ],
   "source": [
    "sim_female_bottom[, fcn := fct_rev(factor(cn))]"
   ]
  },
  {
   "cell_type": "code",
   "execution_count": 506,
   "metadata": {},
   "outputs": [
    {
     "data": {},
     "metadata": {},
     "output_type": "display_data"
    }
   ],
   "source": [
    "counties = unique(sim_female_bottom[, county])\n",
    "\n",
    "q4_female = female[county %in% counties & income_q=='Q4', .(county, le)]\n",
    "q4_female = merge(q4_female, cn, by = c('county'))\n",
    "\n",
    "q4_female[, fcn := fct_rev(factor(cn))]\n",
    "\n",
    "q4_female = q4_female[, .(fcn, le)]"
   ]
  },
  {
   "cell_type": "code",
   "execution_count": 507,
   "metadata": {},
   "outputs": [
    {
     "name": "stderr",
     "output_type": "stream",
     "text": [
      "Picking joint bandwidth of 0.0448\n"
     ]
    },
    {
     "data": {
      "text/html": [
       "<strong>pdf:</strong> 2"
      ],
      "text/latex": [
       "\\textbf{pdf:} 2"
      ],
      "text/markdown": [
       "**pdf:** 2"
      ],
      "text/plain": [
       "pdf \n",
       "  2 "
      ]
     },
     "metadata": {},
     "output_type": "display_data"
    }
   ],
   "source": [
    "# plot\n",
    "savepdf('plots/counties_female')\n",
    "plot = ggplot(sim_female_bottom, aes(y = fcn)) + \n",
    "  geom_density_ridges(aes(x = pred, fill = paste(order)), \n",
    "           alpha = .5, color = \"white\", from = 39, to = 44, scale = 1) +\n",
    "  geom_segment(data = q4_female, aes(x = le, xend = le, y = as.numeric(fcn),\n",
    "                                      yend = as.numeric(fcn) + .9), color='orange', size=0.4, linetype=1) + \n",
    "  labs(x = \"E(40)\",\n",
    "       y = \"\") +  theme_ridges(grid=FALSE)+ \n",
    "  scale_y_discrete(expand = c(0.01, 0)) +\n",
    "  scale_x_continuous(expand = c(0.01, 0))  +\n",
    "  scale_fill_cyclical(values = c(\"#ff0000\", \"#0000ff\", \"#ff8080\", \"#8080ff\"), \n",
    "                     guide= 'legend', name='', \n",
    "                     labels = c('Observed Income Mobility','Highest Income Mobility')) + \n",
    "  theme(legend.position = \"top\", \n",
    "        axis.title=element_text(size=10), \n",
    "        axis.text.x = element_text(size=10), \n",
    "        axis.text.y = element_text(size=10))\n",
    "print(plot)\n",
    "dev.off()"
   ]
  },
  {
   "cell_type": "code",
   "execution_count": null,
   "metadata": {},
   "outputs": [],
   "source": []
  }
 ],
 "metadata": {
  "kernelspec": {
   "display_name": "R",
   "language": "R",
   "name": "ir"
  },
  "language_info": {
   "codemirror_mode": "r",
   "file_extension": ".r",
   "mimetype": "text/x-r-source",
   "name": "R",
   "pygments_lexer": "r",
   "version": "3.4.1"
  }
 },
 "nbformat": 4,
 "nbformat_minor": 2
}
