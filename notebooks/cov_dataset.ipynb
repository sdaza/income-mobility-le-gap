{
 "cells": [
  {
   "cell_type": "markdown",
   "metadata": {},
   "source": [
    "# Create covariate dataset"
   ]
  },
  {
   "cell_type": "code",
   "execution_count": 1,
   "metadata": {},
   "outputs": [],
   "source": [
    "import pandas as pd \n",
    "import numpy as np \n",
    "import matplotlib.pyplot as plt\n",
    "import seaborn as sns\n",
    "import re\n",
    "import pickle\n",
    "%matplotlib inline\n",
    "plt.style.use('seaborn')"
   ]
  },
  {
   "cell_type": "code",
   "execution_count": 2,
   "metadata": {},
   "outputs": [],
   "source": [
    "import os\n",
    "cwd = os.getcwd()"
   ]
  },
  {
   "cell_type": "markdown",
   "metadata": {},
   "source": [
    "## Cleaning data"
   ]
  },
  {
   "cell_type": "code",
   "execution_count": 7,
   "metadata": {},
   "outputs": [
    {
     "name": "stdout",
     "output_type": "stream",
     "text": [
      "(3138, 83)\n"
     ]
    }
   ],
   "source": [
    "# covariates\n",
    "df = pd.read_stata('../data/cty_full_covariates.dta')\n",
    "print(df.shape) # 3138 counties"
   ]
  },
  {
   "cell_type": "code",
   "execution_count": 8,
   "metadata": {},
   "outputs": [
    {
     "data": {
      "text/plain": [
       "Index(['cty', 'county_name', 'cty_pop2000', 'cz', 'cz_pop2000', 'statename',\n",
       "       'state_id', 'stateabbrv', 'csa', 'csa_name', 'cbsa', 'cbsa_name',\n",
       "       'intersects_msa', 'poor_share', 'cs_race_theil_2000', 'cs00_seg_inc',\n",
       "       'cs00_seg_inc_pov25', 'cs00_seg_inc_aff75', 'frac_traveltime_lt15',\n",
       "       'hhinc00', 'inc_share_1perc', 'gini99', 'frac_middleclass', 'taxrate',\n",
       "       'subcty_total_taxes_pc', 'subcty_exp_pc', 'tax_st_diff_top20',\n",
       "       'ccd_exp_tot', 'ccd_pup_tch_ratio', 'score_r', 'dropout_r',\n",
       "       'num_inst_pc', 'tuition', 'gradrate_r', 'cs_labforce', 'cs_elf_ind_man',\n",
       "       'mig_inflow', 'mig_outflow', 'cs_born_foreign', 'scap_ski90pcm',\n",
       "       'rel_tot', 'crime_total', 'cs_fam_wkidsinglemom', 'median_house_value',\n",
       "       'median_rent', 'unemp_rate', 'e_rank_b', 'cz_name', 'pop_d_2000_1980',\n",
       "       'lf_d_2000_1980', 'cs_educ_ba', 'cs_frac_black', 'cs_frac_hisp',\n",
       "       'puninsured2010', 'primcarevis_10', 'amb_disch_per1000_10',\n",
       "       'diab_hemotest_10', 'diab_eyeexam_10', 'diab_lipids_10', 'mammogram_10',\n",
       "       'reimb_penroll_adj10', 'med_prev_qual_z', 'bmi_obese_q1',\n",
       "       'cur_smoke_q1', 'exercise_any_q1', 'bmi_obese_q2', 'cur_smoke_q2',\n",
       "       'exercise_any_q2', 'bmi_obese_q3', 'cur_smoke_q3', 'exercise_any_q3',\n",
       "       'bmi_obese_q4', 'cur_smoke_q4', 'exercise_any_q4', 'bmi_obese',\n",
       "       'cur_smoke', 'exercise_any', 'adjmortmeas_amiall30day',\n",
       "       'adjmortmeas_chfall30day', 'adjmortmeas_pnall30day',\n",
       "       'mort_30day_hosp_z', 'pop_density', 's_rank'],\n",
       "      dtype='object')"
      ]
     },
     "execution_count": 8,
     "metadata": {},
     "output_type": "execute_result"
    }
   ],
   "source": [
    "df.columns # select columns"
   ]
  },
  {
   "cell_type": "code",
   "execution_count": 9,
   "metadata": {},
   "outputs": [],
   "source": [
    "# renaming variables \n",
    "\n",
    "names = ['cty', 'county_name', 'cty_pop2000', 'statename', 'stateabbrv', \n",
    "        'pop_density', 'gini99', 's_rank', 'e_rank_b', 'cs00_seg_inc', \n",
    "         'cs_race_theil_2000', 'hhinc00', 'poor_share', 'frac_middleclass', \n",
    "        'mig_inflow', 'mig_outflow', 'cs_born_foreign', 'rel_tot', 'crime_total',\n",
    "         'puninsured2010',  'cs_labforce', 'unemp_rate', 'cs_frac_black', 'cs_frac_hisp',\n",
    "         'bmi_obese', 'cur_smoke','exercise_any', 'median_house_value', 'cs_educ_ba', \n",
    "         'reimb_penroll_adj10', 'subcty_exp_pc'\n",
    "        ]"
   ]
  },
  {
   "cell_type": "code",
   "execution_count": 10,
   "metadata": {},
   "outputs": [],
   "source": [
    "nnames = ['county', 'county_name', 'population', 'statename', 'stateabbrv', \n",
    "        'density', 'gini', 'relative_mob', 'absolute_mob', 'segregation_income', \n",
    "          'segregation_race', 'income', 'poverty', 'middle_class', 'mig_inflow', \n",
    "          'mig_outflow', 'foreign', 'religion', 'crime_rate', 'uninsured', \n",
    "        'labor_force', 'unemployment', 'pct_black', 'pct_hispanic', \n",
    "          'obesity', 'smoking', 'exercise', 'house_value', 'college', 'medicare_expenses', \n",
    "        'local_gov_exp'\n",
    "         ]\n",
    "\n",
    "\n",
    "d = dict(zip(names, nnames))\n",
    "df.rename(columns=d, inplace=True)\n",
    "df = df.loc[:, nnames]"
   ]
  },
  {
   "cell_type": "code",
   "execution_count": 11,
   "metadata": {},
   "outputs": [
    {
     "data": {
      "text/html": [
       "<div>\n",
       "<style>\n",
       "    .dataframe thead tr:only-child th {\n",
       "        text-align: right;\n",
       "    }\n",
       "\n",
       "    .dataframe thead th {\n",
       "        text-align: left;\n",
       "    }\n",
       "\n",
       "    .dataframe tbody tr th {\n",
       "        vertical-align: top;\n",
       "    }\n",
       "</style>\n",
       "<table border=\"1\" class=\"dataframe\">\n",
       "  <thead>\n",
       "    <tr style=\"text-align: right;\">\n",
       "      <th></th>\n",
       "      <th>county</th>\n",
       "      <th>county_name</th>\n",
       "      <th>population</th>\n",
       "      <th>statename</th>\n",
       "      <th>stateabbrv</th>\n",
       "      <th>density</th>\n",
       "      <th>gini</th>\n",
       "      <th>relative_mob</th>\n",
       "      <th>absolute_mob</th>\n",
       "      <th>segregation_income</th>\n",
       "      <th>...</th>\n",
       "      <th>unemployment</th>\n",
       "      <th>pct_black</th>\n",
       "      <th>pct_hispanic</th>\n",
       "      <th>obesity</th>\n",
       "      <th>smoking</th>\n",
       "      <th>exercise</th>\n",
       "      <th>house_value</th>\n",
       "      <th>college</th>\n",
       "      <th>medicare_expenses</th>\n",
       "      <th>local_gov_exp</th>\n",
       "    </tr>\n",
       "  </thead>\n",
       "  <tbody>\n",
       "    <tr>\n",
       "      <th>0</th>\n",
       "      <td>1001</td>\n",
       "      <td>Autauga</td>\n",
       "      <td>43671</td>\n",
       "      <td>Alabama</td>\n",
       "      <td>AL</td>\n",
       "      <td>73.277412</td>\n",
       "      <td>0.379976</td>\n",
       "      <td>40.602394</td>\n",
       "      <td>41.872879</td>\n",
       "      <td>0.036455</td>\n",
       "      <td>...</td>\n",
       "      <td>0.037379</td>\n",
       "      <td>17.008999</td>\n",
       "      <td>1.396808</td>\n",
       "      <td>0.276190</td>\n",
       "      <td>0.216981</td>\n",
       "      <td>0.619048</td>\n",
       "      <td>126368.4</td>\n",
       "      <td>18.0</td>\n",
       "      <td>9489.02</td>\n",
       "      <td>1059.669312</td>\n",
       "    </tr>\n",
       "    <tr>\n",
       "      <th>1</th>\n",
       "      <td>1003</td>\n",
       "      <td>Baldwin</td>\n",
       "      <td>140415</td>\n",
       "      <td>Alabama</td>\n",
       "      <td>AL</td>\n",
       "      <td>87.960236</td>\n",
       "      <td>0.489738</td>\n",
       "      <td>25.488312</td>\n",
       "      <td>44.492390</td>\n",
       "      <td>0.032571</td>\n",
       "      <td>...</td>\n",
       "      <td>0.039112</td>\n",
       "      <td>10.224691</td>\n",
       "      <td>1.756222</td>\n",
       "      <td>0.223032</td>\n",
       "      <td>0.215395</td>\n",
       "      <td>0.729490</td>\n",
       "      <td>163292.5</td>\n",
       "      <td>23.1</td>\n",
       "      <td>9618.34</td>\n",
       "      <td>2209.910400</td>\n",
       "    </tr>\n",
       "    <tr>\n",
       "      <th>2</th>\n",
       "      <td>1005</td>\n",
       "      <td>Barbour</td>\n",
       "      <td>29038</td>\n",
       "      <td>Alabama</td>\n",
       "      <td>AL</td>\n",
       "      <td>32.814877</td>\n",
       "      <td>0.490637</td>\n",
       "      <td>42.124779</td>\n",
       "      <td>37.718758</td>\n",
       "      <td>0.021680</td>\n",
       "      <td>...</td>\n",
       "      <td>0.068132</td>\n",
       "      <td>46.039669</td>\n",
       "      <td>1.646119</td>\n",
       "      <td>0.412281</td>\n",
       "      <td>0.189655</td>\n",
       "      <td>0.603448</td>\n",
       "      <td>91443.8</td>\n",
       "      <td>10.9</td>\n",
       "      <td>9761.77</td>\n",
       "      <td>1570.248291</td>\n",
       "    </tr>\n",
       "    <tr>\n",
       "      <th>3</th>\n",
       "      <td>1007</td>\n",
       "      <td>Bibb</td>\n",
       "      <td>20826</td>\n",
       "      <td>Alabama</td>\n",
       "      <td>AL</td>\n",
       "      <td>33.427227</td>\n",
       "      <td>0.417098</td>\n",
       "      <td>45.493622</td>\n",
       "      <td>42.245155</td>\n",
       "      <td>0.017462</td>\n",
       "      <td>...</td>\n",
       "      <td>0.061639</td>\n",
       "      <td>22.010948</td>\n",
       "      <td>1.008355</td>\n",
       "      <td>0.322581</td>\n",
       "      <td>0.218750</td>\n",
       "      <td>0.554688</td>\n",
       "      <td>99441.8</td>\n",
       "      <td>7.1</td>\n",
       "      <td>11269.81</td>\n",
       "      <td>1338.441162</td>\n",
       "    </tr>\n",
       "    <tr>\n",
       "      <th>4</th>\n",
       "      <td>1009</td>\n",
       "      <td>Blount</td>\n",
       "      <td>51024</td>\n",
       "      <td>Alabama</td>\n",
       "      <td>AL</td>\n",
       "      <td>79.035255</td>\n",
       "      <td>0.333042</td>\n",
       "      <td>25.050438</td>\n",
       "      <td>49.043320</td>\n",
       "      <td>0.013379</td>\n",
       "      <td>...</td>\n",
       "      <td>0.032847</td>\n",
       "      <td>1.171997</td>\n",
       "      <td>5.326905</td>\n",
       "      <td>0.354167</td>\n",
       "      <td>0.265306</td>\n",
       "      <td>0.602041</td>\n",
       "      <td>115704.4</td>\n",
       "      <td>9.6</td>\n",
       "      <td>10238.20</td>\n",
       "      <td>987.438843</td>\n",
       "    </tr>\n",
       "  </tbody>\n",
       "</table>\n",
       "<p>5 rows × 31 columns</p>\n",
       "</div>"
      ],
      "text/plain": [
       "   county county_name  population statename stateabbrv    density      gini  \\\n",
       "0    1001     Autauga       43671   Alabama         AL  73.277412  0.379976   \n",
       "1    1003     Baldwin      140415   Alabama         AL  87.960236  0.489738   \n",
       "2    1005     Barbour       29038   Alabama         AL  32.814877  0.490637   \n",
       "3    1007        Bibb       20826   Alabama         AL  33.427227  0.417098   \n",
       "4    1009      Blount       51024   Alabama         AL  79.035255  0.333042   \n",
       "\n",
       "   relative_mob  absolute_mob  segregation_income      ...        \\\n",
       "0     40.602394     41.872879            0.036455      ...         \n",
       "1     25.488312     44.492390            0.032571      ...         \n",
       "2     42.124779     37.718758            0.021680      ...         \n",
       "3     45.493622     42.245155            0.017462      ...         \n",
       "4     25.050438     49.043320            0.013379      ...         \n",
       "\n",
       "   unemployment  pct_black  pct_hispanic   obesity   smoking  exercise  \\\n",
       "0      0.037379  17.008999      1.396808  0.276190  0.216981  0.619048   \n",
       "1      0.039112  10.224691      1.756222  0.223032  0.215395  0.729490   \n",
       "2      0.068132  46.039669      1.646119  0.412281  0.189655  0.603448   \n",
       "3      0.061639  22.010948      1.008355  0.322581  0.218750  0.554688   \n",
       "4      0.032847   1.171997      5.326905  0.354167  0.265306  0.602041   \n",
       "\n",
       "   house_value  college  medicare_expenses  local_gov_exp  \n",
       "0     126368.4     18.0            9489.02    1059.669312  \n",
       "1     163292.5     23.1            9618.34    2209.910400  \n",
       "2      91443.8     10.9            9761.77    1570.248291  \n",
       "3      99441.8      7.1           11269.81    1338.441162  \n",
       "4     115704.4      9.6           10238.20     987.438843  \n",
       "\n",
       "[5 rows x 31 columns]"
      ]
     },
     "execution_count": 11,
     "metadata": {},
     "output_type": "execute_result"
    }
   ],
   "source": [
    "df.head()"
   ]
  },
  {
   "cell_type": "code",
   "execution_count": 12,
   "metadata": {},
   "outputs": [
    {
     "data": {
      "text/plain": [
       "False    3138\n",
       "dtype: int64"
      ]
     },
     "execution_count": 12,
     "metadata": {},
     "output_type": "execute_result"
    }
   ],
   "source": [
    "df.duplicated(['statename','county']).value_counts()"
   ]
  },
  {
   "cell_type": "markdown",
   "metadata": {},
   "source": [
    "# Missing data"
   ]
  },
  {
   "cell_type": "code",
   "execution_count": 13,
   "metadata": {},
   "outputs": [],
   "source": [
    "from utils import utils as f"
   ]
  },
  {
   "cell_type": "code",
   "execution_count": 14,
   "metadata": {},
   "outputs": [
    {
     "data": {
      "text/plain": [
       "exercise             0.237731\n",
       "obesity              0.235819\n",
       "smoking              0.235182\n",
       "relative_mob         0.084449\n",
       "absolute_mob         0.084449\n",
       "crime_rate           0.056405\n",
       "gini                 0.032505\n",
       "mig_inflow           0.029318\n",
       "mig_outflow          0.029318\n",
       "medicare_expenses    0.002549\n",
       "uninsured            0.001275\n",
       "unemployment         0.001275\n",
       "religion             0.000637\n",
       "pct_black            0.000319\n",
       "middle_class         0.000319\n",
       "pct_hispanic         0.000319\n",
       "college              0.000319\n",
       "local_gov_exp        0.000319\n",
       "dtype: float64"
      ]
     },
     "execution_count": 14,
     "metadata": {},
     "output_type": "execute_result"
    }
   ],
   "source": [
    "f.missing_data(df)"
   ]
  },
  {
   "cell_type": "code",
   "execution_count": 16,
   "metadata": {},
   "outputs": [
    {
     "data": {
      "text/plain": [
       "exercise         0.237731\n",
       "obesity          0.235819\n",
       "smoking          0.235182\n",
       "absolute_mob     0.084449\n",
       "relative_mob     0.084449\n",
       "crime_rate       0.056405\n",
       "gini             0.032505\n",
       "unemployment     0.001275\n",
       "uninsured        0.001275\n",
       "religion         0.000637\n",
       "local_gov_exp    0.000319\n",
       "college          0.000319\n",
       "pct_hispanic     0.000319\n",
       "pct_black        0.000319\n",
       "middle_class     0.000319\n",
       "dtype: float64"
      ]
     },
     "execution_count": 16,
     "metadata": {},
     "output_type": "execute_result"
    }
   ],
   "source": [
    "# impute values\n",
    "f.missing_data(f.impute_values(df, group_vars=['statename']))"
   ]
  },
  {
   "cell_type": "code",
   "execution_count": 18,
   "metadata": {},
   "outputs": [
    {
     "data": {
      "text/plain": [
       "24"
      ]
     },
     "execution_count": 18,
     "metadata": {},
     "output_type": "execute_result"
    }
   ],
   "source": [
    "# plots continuous variables\n",
    "variables = ['population', 'density', 'crime_rate', 'poverty', 'middle_class', \n",
    "            'mig_inflow', 'mig_outflow', 'foreign', 'pct_black', 'pct_hispanic', \n",
    "            'religion', 'uninsured', 'medicare_expenses', 'house_value', 'local_gov_exp', \n",
    "            'college', 'obesity', 'exercise', 'smoking', 'unemployment', \n",
    "            'labor_force', 'income',  'segregation_income', 'segregation_race']\n",
    "\n",
    "len(variables)"
   ]
  },
  {
   "cell_type": "code",
   "execution_count": null,
   "metadata": {},
   "outputs": [],
   "source": [
    "sns.kdeplot(df.loc[:, 'local_gov_exp']);\n",
    "# sns.kdeplot(df.loc[:, variables[23]]);\n",
    "# sns.kdeplot(np.log(df.loc[:, variables[23]]), label='log');"
   ]
  },
  {
   "cell_type": "code",
   "execution_count": 28,
   "metadata": {},
   "outputs": [
    {
     "data": {
      "text/plain": [
       "12"
      ]
     },
     "execution_count": 28,
     "metadata": {},
     "output_type": "execute_result"
    }
   ],
   "source": [
    "log_variables = ['population', 'crime_rate', 'poverty', 'mig_inflow', \n",
    "            'mig_outflow', 'foreign', 'pct_black', 'pct_hispanic', \n",
    "            'house_value', 'local_gov_exp', 'unemployment', 'income']\n",
    "len(log_variables)"
   ]
  },
  {
   "cell_type": "code",
   "execution_count": 20,
   "metadata": {},
   "outputs": [],
   "source": [
    "df_tr = f.transform_variables(df, variables=log_variables, kind='log')"
   ]
  },
  {
   "cell_type": "code",
   "execution_count": 24,
   "metadata": {},
   "outputs": [],
   "source": [
    "z_variables = ['gini', 'relative_mob', 'absolute_mob', \n",
    "            'middle_class', 'segregation_income', 'religion', \n",
    "            'labor_force', 'uninsured', 'medicare_expenses', \n",
    "            'college', 'obesity', 'smoking', 'exercise' ]\n",
    "df_tr = f.transform_variables(df_tr, variables=z_variables, kind='z')"
   ]
  },
  {
   "cell_type": "code",
   "execution_count": 25,
   "metadata": {},
   "outputs": [
    {
     "data": {
      "text/plain": [
       "25"
      ]
     },
     "execution_count": 25,
     "metadata": {},
     "output_type": "execute_result"
    }
   ],
   "source": [
    "len(log_variables)+len(z_variables)"
   ]
  },
  {
   "cell_type": "code",
   "execution_count": 29,
   "metadata": {},
   "outputs": [
    {
     "data": {
      "text/plain": [
       "0"
      ]
     },
     "execution_count": 29,
     "metadata": {},
     "output_type": "execute_result"
    }
   ],
   "source": [
    "df_tr.duplicated(['county']).sum()"
   ]
  },
  {
   "cell_type": "code",
   "execution_count": 39,
   "metadata": {},
   "outputs": [],
   "source": [
    "# subset variables\n",
    "\n",
    "# -Demographic: % Black, Hispanic (since Chetty uses this to race adjust)\n",
    "# -Social: Crime rate, segregation\n",
    "# -Economic: Gini, possibly unemployment\n",
    "# -Health Access: uninsured, medicare expenses\n",
    "\n",
    "subset_vars = ['county', 'county_name', 'stateabbrv', \n",
    "               'statename', 'z_relative_mob', 'z_gini', 'log_population', 'log_income', 'z_segregation_income', 'log_unemployment',\n",
    "               'z_uninsured', 'z_medicare_expenses', 'log_crime_rate', 'log_pct_black', \n",
    "               'log_pct_hispanic', 'z_obesity', 'z_smoking', 'z_exercise'] "
   ]
  },
  {
   "cell_type": "code",
   "execution_count": 40,
   "metadata": {},
   "outputs": [],
   "source": [
    "df_sel = df_tr.loc[:, subset_vars]"
   ]
  },
  {
   "cell_type": "code",
   "execution_count": 41,
   "metadata": {},
   "outputs": [
    {
     "data": {
      "text/plain": [
       "Index(['county', 'county_name', 'stateabbrv', 'statename', 'z_relative_mob',\n",
       "       'z_gini', 'log_population', 'log_income', 'z_segregation_income',\n",
       "       'log_unemployment', 'z_uninsured', 'z_medicare_expenses',\n",
       "       'log_crime_rate', 'log_pct_black', 'log_pct_hispanic', 'z_obesity',\n",
       "       'z_smoking', 'z_exercise'],\n",
       "      dtype='object')"
      ]
     },
     "execution_count": 41,
     "metadata": {},
     "output_type": "execute_result"
    }
   ],
   "source": [
    "df_sel.columns"
   ]
  },
  {
   "cell_type": "code",
   "execution_count": 42,
   "metadata": {},
   "outputs": [],
   "source": [
    "df_sel.to_csv('../data/cov_sel.csv', index=False)"
   ]
  },
  {
   "cell_type": "code",
   "execution_count": 44,
   "metadata": {},
   "outputs": [
    {
     "data": {
      "text/plain": [
       "z_exercise             0.237731\n",
       "z_obesity              0.235819\n",
       "z_smoking              0.235182\n",
       "z_relative_mob         0.084449\n",
       "z_gini                 0.032505\n",
       "z_medicare_expenses    0.002549\n",
       "z_uninsured            0.001275\n",
       "dtype: float64"
      ]
     },
     "execution_count": 44,
     "metadata": {},
     "output_type": "execute_result"
    }
   ],
   "source": [
    "f.missing_data(df_sel)"
   ]
  }
 ],
 "metadata": {
  "kernelspec": {
   "display_name": "Python [conda root]",
   "language": "python",
   "name": "conda-root-py"
  },
  "language_info": {
   "codemirror_mode": {
    "name": "ipython",
    "version": 3
   },
   "file_extension": ".py",
   "mimetype": "text/x-python",
   "name": "python",
   "nbconvert_exporter": "python",
   "pygments_lexer": "ipython3",
   "version": "3.6.1"
  }
 },
 "nbformat": 4,
 "nbformat_minor": 2
}
