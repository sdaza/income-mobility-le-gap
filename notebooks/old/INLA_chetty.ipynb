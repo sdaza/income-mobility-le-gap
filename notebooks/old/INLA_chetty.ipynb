{
 "cells": [
  {
   "cell_type": "markdown",
   "metadata": {},
   "source": [
    "# INLA: Create models and assess predictions"
   ]
  },
  {
   "cell_type": "markdown",
   "metadata": {},
   "source": [
    "Bayesian models using INLA and simulations to assess the magnitude of the effects. \n",
    "\n",
    "- Data are aggregated LE (40) per income quartile (12000 records)\n",
    "- Analysis by gender\n",
    "- Random intercept effects: state, county and income quartile\n",
    "- Varying slopes: income mobility and gini\n",
    "- I use PC priors, pending sensitivity analysis of priors (e.g., try default, gamma, half-cauchy)\n",
    "\n",
    "Simulations assume that all the fixed and random effects are on their average, except for the varying slope examined. More details on the file 'myFunctions.R'"
   ]
  },
  {
   "cell_type": "code",
   "execution_count": 1,
   "metadata": {},
   "outputs": [
    {
     "name": "stderr",
     "output_type": "stream",
     "text": [
      "Loading required package: sp\n",
      "Loading required package: Matrix\n",
      "This is INLA_17.05.31 built 2017-05-31 13:53:28 UTC.\n",
      "See www.r-inla.org/contact-us for how to get help.\n"
     ]
    }
   ],
   "source": [
    "#library(rstanarm)\n",
    "library(INLA)\n",
    "library(brinla)\n",
    "library(data.table)\n",
    "library(ggplot2)\n",
    "options(repr.plot.width=3, repr.plot.height=3)"
   ]
  },
  {
   "cell_type": "code",
   "execution_count": 2,
   "metadata": {},
   "outputs": [
    {
     "data": {
      "text/html": [
       "12000"
      ],
      "text/latex": [
       "12000"
      ],
      "text/markdown": [
       "12000"
      ],
      "text/plain": [
       "[1] 12000"
      ]
     },
     "metadata": {},
     "output_type": "display_data"
    }
   ],
   "source": [
    "# read data\n",
    "df = fread('../data/le_cov_sel.csv')\n",
    "nrow(df)"
   ]
  },
  {
   "cell_type": "code",
   "execution_count": 3,
   "metadata": {},
   "outputs": [
    {
     "name": "stdout",
     "output_type": "stream",
     "text": [
      " [1] \"le\"                   \"z_relative_mob\"       \"z_gini\"              \n",
      " [4] \"county\"               \"gender\"               \"income_q\"            \n",
      " [7] \"county_name\"          \"stateabbrv\"           \"statename\"           \n",
      "[10] \"log_population\"       \"log_income\"           \"z_segregation_income\"\n",
      "[13] \"log_unemployment\"     \"z_uninsured\"          \"z_medicare_expenses\" \n",
      "[16] \"log_crime_rate\"       \"log_pct_black\"        \"log_pct_hispanic\"    \n",
      "[19] \"z_obesity\"            \"z_smoking\"            \"z_exercise\"          \n"
     ]
    }
   ],
   "source": [
    "print(names(df))"
   ]
  },
  {
   "cell_type": "code",
   "execution_count": 4,
   "metadata": {},
   "outputs": [
    {
     "data": {},
     "metadata": {},
     "output_type": "display_data"
    },
    {
     "data": {},
     "metadata": {},
     "output_type": "display_data"
    }
   ],
   "source": [
    "df[, state := .GRP, by = statename]\n",
    "df[, income_qr := .GRP, by = income_q]"
   ]
  },
  {
   "cell_type": "code",
   "execution_count": 5,
   "metadata": {},
   "outputs": [
    {
     "data": {
      "text/plain": [
       "         income_q\n",
       "income_qr   Q1   Q2   Q3   Q4\n",
       "        1 3000    0    0    0\n",
       "        2    0 3000    0    0\n",
       "        3    0    0 3000    0\n",
       "        4    0    0    0 3000"
      ]
     },
     "metadata": {},
     "output_type": "display_data"
    }
   ],
   "source": [
    "table(df[, .(income_qr, income_q)]) # ok, right!"
   ]
  },
  {
   "cell_type": "markdown",
   "metadata": {},
   "source": [
    "# INLA Models (using PC prior)"
   ]
  },
  {
   "cell_type": "code",
   "execution_count": 6,
   "metadata": {},
   "outputs": [
    {
     "data": {},
     "metadata": {},
     "output_type": "display_data"
    },
    {
     "data": {},
     "metadata": {},
     "output_type": "display_data"
    },
    {
     "data": {},
     "metadata": {},
     "output_type": "display_data"
    },
    {
     "data": {},
     "metadata": {},
     "output_type": "display_data"
    },
    {
     "data": {},
     "metadata": {},
     "output_type": "display_data"
    },
    {
     "data": {},
     "metadata": {},
     "output_type": "display_data"
    },
    {
     "data": {},
     "metadata": {},
     "output_type": "display_data"
    },
    {
     "data": {},
     "metadata": {},
     "output_type": "display_data"
    }
   ],
   "source": [
    "# create auxiliary variables\n",
    "df[, state_mob := state]\n",
    "df[, state_gini := state]\n",
    "df[, cty := county]\n",
    "df[, cty_mob := county]\n",
    "df[, cty_gini := county]\n",
    "df[, q_mob := income_qr]\n",
    "df[, q_gini := income_qr]\n",
    "df[, q_exercise := income_qr]"
   ]
  },
  {
   "cell_type": "code",
   "execution_count": 7,
   "metadata": {},
   "outputs": [],
   "source": [
    "female = df[gender=='F']\n",
    "male = df[gender=='M']"
   ]
  },
  {
   "cell_type": "markdown",
   "metadata": {},
   "source": [
    "# Baseline model"
   ]
  },
  {
   "cell_type": "markdown",
   "metadata": {},
   "source": [
    "### Male"
   ]
  },
  {
   "cell_type": "code",
   "execution_count": 17,
   "metadata": {},
   "outputs": [],
   "source": [
    "lmod <- lm(le ~ z_relative_mob  + z_gini + log_population + log_income, male)\n",
    "\n",
    "# pc prior\n",
    "sdres <- sd(residuals(lmod))\n",
    "pcprior <- list(prec = list(prior=\"pc.prec\", param = c(3*sdres,0.01)))"
   ]
  },
  {
   "cell_type": "code",
   "execution_count": 18,
   "metadata": {},
   "outputs": [],
   "source": [
    "formula = le ~ z_relative_mob  + z_gini + log_population + log_income + \n",
    "       f(state, model = \"iid\", hyper = pcprior) + \n",
    "       f(cty, model = \"iid\", hyper = pcprior) + \n",
    "       f(income_qr, model = \"iid\", hyper = pcprior) + \n",
    "       f(q_mob, z_relative_mob , model = \"iid\", hyper = pcprior) + \n",
    "       f(q_gini, z_gini , model = \"iid\", hyper = pcprior)\n",
    "\n",
    "m1 = inla(formula, family = \"gaussian\", data = male,\n",
    "#           control.predictor=list(compute = TRUE),\n",
    "          control.compute = list(config = TRUE, dic = TRUE,\n",
    "                                 waic = TRUE, cpo = TRUE), \n",
    "#           control.inla = list(strategy =\"gaussian\"),\n",
    "          verbose = TRUE)"
   ]
  },
  {
   "cell_type": "code",
   "execution_count": 19,
   "metadata": {},
   "outputs": [
    {
     "data": {
      "text/html": [
       "<table>\n",
       "<thead><tr><th></th><th scope=col>mean</th><th scope=col>sd</th><th scope=col>0.025quant</th><th scope=col>0.5quant</th><th scope=col>0.975quant</th><th scope=col>mode</th><th scope=col>kld</th></tr></thead>\n",
       "<tbody>\n",
       "\t<tr><th scope=row>(Intercept)</th><td>41.2589651  </td><td>2.05299252  </td><td>37.1039991  </td><td>41.2588719  </td><td>45.41701698 </td><td>41.2590213  </td><td>1.575412e-09</td></tr>\n",
       "\t<tr><th scope=row>z_relative_mob</th><td>-0.3150019  </td><td>0.13643464  </td><td>-0.5801898  </td><td>-0.3150137  </td><td>-0.04910738 </td><td>-0.3149391  </td><td>1.050710e-04</td></tr>\n",
       "\t<tr><th scope=row>z_gini</th><td> 0.2266449  </td><td>0.17894734  </td><td>-0.1280964  </td><td> 0.2266376  </td><td> 0.58109867 </td><td> 0.2266876  </td><td>2.173887e-05</td></tr>\n",
       "\t<tr><th scope=row>log_population</th><td>-0.2349964  </td><td>0.02863033  </td><td>-0.2912053  </td><td>-0.2350006  </td><td>-0.17881605 </td><td>-0.2350069  </td><td>2.539561e-14</td></tr>\n",
       "\t<tr><th scope=row>log_income</th><td> 1.2430655  </td><td>0.13820062  </td><td> 0.9716770  </td><td> 1.2430669  </td><td> 1.51419460 </td><td> 1.2430814  </td><td>1.453216e-14</td></tr>\n",
       "</tbody>\n",
       "</table>\n"
      ],
      "text/latex": [
       "\\begin{tabular}{r|lllllll}\n",
       "  & mean & sd & 0.025quant & 0.5quant & 0.975quant & mode & kld\\\\\n",
       "\\hline\n",
       "\t(Intercept) & 41.2589651   & 2.05299252   & 37.1039991   & 41.2588719   & 45.41701698  & 41.2590213   & 1.575412e-09\\\\\n",
       "\tz\\_relative\\_mob & -0.3150019   & 0.13643464   & -0.5801898   & -0.3150137   & -0.04910738  & -0.3149391   & 1.050710e-04\\\\\n",
       "\tz\\_gini &  0.2266449   & 0.17894734   & -0.1280964   &  0.2266376   &  0.58109867  &  0.2266876   & 2.173887e-05\\\\\n",
       "\tlog\\_population & -0.2349964   & 0.02863033   & -0.2912053   & -0.2350006   & -0.17881605  & -0.2350069   & 2.539561e-14\\\\\n",
       "\tlog\\_income &  1.2430655   & 0.13820062   &  0.9716770   &  1.2430669   &  1.51419460  &  1.2430814   & 1.453216e-14\\\\\n",
       "\\end{tabular}\n"
      ],
      "text/markdown": [
       "\n",
       "| <!--/--> | mean | sd | 0.025quant | 0.5quant | 0.975quant | mode | kld | \n",
       "|---|---|---|---|---|\n",
       "| (Intercept) | 41.2589651   | 2.05299252   | 37.1039991   | 41.2588719   | 45.41701698  | 41.2590213   | 1.575412e-09 | \n",
       "| z_relative_mob | -0.3150019   | 0.13643464   | -0.5801898   | -0.3150137   | -0.04910738  | -0.3149391   | 1.050710e-04 | \n",
       "| z_gini |  0.2266449   | 0.17894734   | -0.1280964   |  0.2266376   |  0.58109867  |  0.2266876   | 2.173887e-05 | \n",
       "| log_population | -0.2349964   | 0.02863033   | -0.2912053   | -0.2350006   | -0.17881605  | -0.2350069   | 2.539561e-14 | \n",
       "| log_income |  1.2430655   | 0.13820062   |  0.9716770   |  1.2430669   |  1.51419460  |  1.2430814   | 1.453216e-14 | \n",
       "\n",
       "\n"
      ],
      "text/plain": [
       "               mean       sd         0.025quant 0.5quant   0.975quant \n",
       "(Intercept)    41.2589651 2.05299252 37.1039991 41.2588719 45.41701698\n",
       "z_relative_mob -0.3150019 0.13643464 -0.5801898 -0.3150137 -0.04910738\n",
       "z_gini          0.2266449 0.17894734 -0.1280964  0.2266376  0.58109867\n",
       "log_population -0.2349964 0.02863033 -0.2912053 -0.2350006 -0.17881605\n",
       "log_income      1.2430655 0.13820062  0.9716770  1.2430669  1.51419460\n",
       "               mode       kld         \n",
       "(Intercept)    41.2590213 1.575412e-09\n",
       "z_relative_mob -0.3149391 1.050710e-04\n",
       "z_gini          0.2266876 2.173887e-05\n",
       "log_population -0.2350069 2.539561e-14\n",
       "log_income      1.2430814 1.453216e-14"
      ]
     },
     "metadata": {},
     "output_type": "display_data"
    }
   ],
   "source": [
    "m1$summary.fixed"
   ]
  },
  {
   "cell_type": "code",
   "execution_count": 20,
   "metadata": {},
   "outputs": [
    {
     "data": {
      "text/html": [
       "<table>\n",
       "<thead><tr><th></th><th scope=col>mean</th><th scope=col>sd</th><th scope=col>q0.025</th><th scope=col>q0.5</th><th scope=col>q0.975</th><th scope=col>mode</th></tr></thead>\n",
       "<tbody>\n",
       "\t<tr><th scope=row>SD for the Gaussian observations</th><td>1.1421686 </td><td>0.01194267</td><td>1.11888916</td><td>1.1420846 </td><td>1.1657778 </td><td>1.1419665 </td></tr>\n",
       "\t<tr><th scope=row>SD for state</th><td>0.6973378 </td><td>0.08282876</td><td>0.55812824</td><td>0.6884946 </td><td>0.8821627 </td><td>0.6674442 </td></tr>\n",
       "\t<tr><th scope=row>SD for cty</th><td>0.5397478 </td><td>0.02207483</td><td>0.49650306</td><td>0.5397732 </td><td>0.5831084 </td><td>0.5406697 </td></tr>\n",
       "\t<tr><th scope=row>SD for income_qr</th><td>3.9955272 </td><td>1.40169639</td><td>1.98038655</td><td>3.7436770 </td><td>7.4238823 </td><td>3.2994403 </td></tr>\n",
       "\t<tr><th scope=row>SD for q_mob</th><td>0.2306179 </td><td>0.14516673</td><td>0.08028984</td><td>0.1886313 </td><td>0.6227559 </td><td>0.1359646 </td></tr>\n",
       "\t<tr><th scope=row>SD for q_gini</th><td>0.3002662 </td><td>0.17112233</td><td>0.10755420</td><td>0.2543624 </td><td>0.7555401 </td><td>0.1915429 </td></tr>\n",
       "</tbody>\n",
       "</table>\n"
      ],
      "text/latex": [
       "\\begin{tabular}{r|llllll}\n",
       "  & mean & sd & q0.025 & q0.5 & q0.975 & mode\\\\\n",
       "\\hline\n",
       "\tSD for the Gaussian observations & 1.1421686  & 0.01194267 & 1.11888916 & 1.1420846  & 1.1657778  & 1.1419665 \\\\\n",
       "\tSD for state & 0.6973378  & 0.08282876 & 0.55812824 & 0.6884946  & 0.8821627  & 0.6674442 \\\\\n",
       "\tSD for cty & 0.5397478  & 0.02207483 & 0.49650306 & 0.5397732  & 0.5831084  & 0.5406697 \\\\\n",
       "\tSD for income\\_qr & 3.9955272  & 1.40169639 & 1.98038655 & 3.7436770  & 7.4238823  & 3.2994403 \\\\\n",
       "\tSD for q\\_mob & 0.2306179  & 0.14516673 & 0.08028984 & 0.1886313  & 0.6227559  & 0.1359646 \\\\\n",
       "\tSD for q\\_gini & 0.3002662  & 0.17112233 & 0.10755420 & 0.2543624  & 0.7555401  & 0.1915429 \\\\\n",
       "\\end{tabular}\n"
      ],
      "text/markdown": [
       "\n",
       "| <!--/--> | mean | sd | q0.025 | q0.5 | q0.975 | mode | \n",
       "|---|---|---|---|---|---|\n",
       "| SD for the Gaussian observations | 1.1421686  | 0.01194267 | 1.11888916 | 1.1420846  | 1.1657778  | 1.1419665  | \n",
       "| SD for state | 0.6973378  | 0.08282876 | 0.55812824 | 0.6884946  | 0.8821627  | 0.6674442  | \n",
       "| SD for cty | 0.5397478  | 0.02207483 | 0.49650306 | 0.5397732  | 0.5831084  | 0.5406697  | \n",
       "| SD for income_qr | 3.9955272  | 1.40169639 | 1.98038655 | 3.7436770  | 7.4238823  | 3.2994403  | \n",
       "| SD for q_mob | 0.2306179  | 0.14516673 | 0.08028984 | 0.1886313  | 0.6227559  | 0.1359646  | \n",
       "| SD for q_gini | 0.3002662  | 0.17112233 | 0.10755420 | 0.2543624  | 0.7555401  | 0.1915429  | \n",
       "\n",
       "\n"
      ],
      "text/plain": [
       "                                 mean      sd         q0.025     q0.5     \n",
       "SD for the Gaussian observations 1.1421686 0.01194267 1.11888916 1.1420846\n",
       "SD for state                     0.6973378 0.08282876 0.55812824 0.6884946\n",
       "SD for cty                       0.5397478 0.02207483 0.49650306 0.5397732\n",
       "SD for income_qr                 3.9955272 1.40169639 1.98038655 3.7436770\n",
       "SD for q_mob                     0.2306179 0.14516673 0.08028984 0.1886313\n",
       "SD for q_gini                    0.3002662 0.17112233 0.10755420 0.2543624\n",
       "                                 q0.975    mode     \n",
       "SD for the Gaussian observations 1.1657778 1.1419665\n",
       "SD for state                     0.8821627 0.6674442\n",
       "SD for cty                       0.5831084 0.5406697\n",
       "SD for income_qr                 7.4238823 3.2994403\n",
       "SD for q_mob                     0.6227559 0.1359646\n",
       "SD for q_gini                    0.7555401 0.1915429"
      ]
     },
     "metadata": {},
     "output_type": "display_data"
    }
   ],
   "source": [
    "bri.hyperpar.summary(m1)"
   ]
  },
  {
   "cell_type": "markdown",
   "metadata": {},
   "source": [
    "### Female"
   ]
  },
  {
   "cell_type": "code",
   "execution_count": 21,
   "metadata": {},
   "outputs": [],
   "source": [
    "lmod <- lm(le ~ z_relative_mob  + z_gini + log_population + log_income, female)\n",
    "\n",
    "# pc prior\n",
    "sdres <- sd(residuals(lmod))\n",
    "pcprior <- list(prec = list(prior=\"pc.prec\", param = c(3*sdres,0.01)))"
   ]
  },
  {
   "cell_type": "code",
   "execution_count": 22,
   "metadata": {},
   "outputs": [],
   "source": [
    "formula = le ~ z_relative_mob  + z_gini + log_population + log_income + \n",
    "       f(state, model = \"iid\", hyper = pcprior) + \n",
    "       f(cty, model = \"iid\", hyper = pcprior) + \n",
    "       f(income_qr, model = \"iid\", hyper = pcprior) + \n",
    "       f(q_mob, z_relative_mob , model = \"iid\", hyper = pcprior) + \n",
    "       f(q_gini, z_gini , model = \"iid\", hyper = pcprior)\n",
    "\n",
    "\n",
    "f1 = inla(formula, family = \"gaussian\", data = female,\n",
    "#           control.predictor=list(compute = TRUE),\n",
    "          control.compute = list(config = TRUE, dic = TRUE,\n",
    "                                 waic = TRUE, cpo = TRUE), \n",
    "#           control.inla = list(strategy =\"gaussian\"),\n",
    "          verbose = TRUE)"
   ]
  },
  {
   "cell_type": "code",
   "execution_count": 24,
   "metadata": {},
   "outputs": [
    {
     "data": {
      "text/html": [
       "<table>\n",
       "<thead><tr><th></th><th scope=col>mean</th><th scope=col>sd</th><th scope=col>0.025quant</th><th scope=col>0.5quant</th><th scope=col>0.975quant</th><th scope=col>mode</th><th scope=col>kld</th></tr></thead>\n",
       "<tbody>\n",
       "\t<tr><th scope=row>(Intercept)</th><td>44.9434468  </td><td>1.33778755  </td><td>42.2406314  </td><td>44.9433777  </td><td>47.647732   </td><td>44.9434538  </td><td>4.255462e-09</td></tr>\n",
       "\t<tr><th scope=row>z_relative_mob</th><td>-0.2378796  </td><td>0.06061195  </td><td>-0.3607283  </td><td>-0.2378844  </td><td>-0.114817   </td><td>-0.2378630  </td><td>4.127452e-07</td></tr>\n",
       "\t<tr><th scope=row>z_gini</th><td> 0.1492133  </td><td>0.15398984  </td><td>-0.1613323  </td><td> 0.1491843  </td><td> 0.459966   </td><td> 0.1492025  </td><td>2.621297e-05</td></tr>\n",
       "\t<tr><th scope=row>log_population</th><td>-0.2201635  </td><td>0.02836916  </td><td>-0.2758678  </td><td>-0.2201650  </td><td>-0.164503   </td><td>-0.2201656  </td><td>2.370991e-14</td></tr>\n",
       "\t<tr><th scope=row>log_income</th><td> 1.1173786  </td><td>0.13690957  </td><td> 0.8485442  </td><td> 1.1173734  </td><td> 1.385991   </td><td> 1.1173744  </td><td>1.480753e-14</td></tr>\n",
       "</tbody>\n",
       "</table>\n"
      ],
      "text/latex": [
       "\\begin{tabular}{r|lllllll}\n",
       "  & mean & sd & 0.025quant & 0.5quant & 0.975quant & mode & kld\\\\\n",
       "\\hline\n",
       "\t(Intercept) & 44.9434468   & 1.33778755   & 42.2406314   & 44.9433777   & 47.647732    & 44.9434538   & 4.255462e-09\\\\\n",
       "\tz\\_relative\\_mob & -0.2378796   & 0.06061195   & -0.3607283   & -0.2378844   & -0.114817    & -0.2378630   & 4.127452e-07\\\\\n",
       "\tz\\_gini &  0.1492133   & 0.15398984   & -0.1613323   &  0.1491843   &  0.459966    &  0.1492025   & 2.621297e-05\\\\\n",
       "\tlog\\_population & -0.2201635   & 0.02836916   & -0.2758678   & -0.2201650   & -0.164503    & -0.2201656   & 2.370991e-14\\\\\n",
       "\tlog\\_income &  1.1173786   & 0.13690957   &  0.8485442   &  1.1173734   &  1.385991    &  1.1173744   & 1.480753e-14\\\\\n",
       "\\end{tabular}\n"
      ],
      "text/markdown": [
       "\n",
       "| <!--/--> | mean | sd | 0.025quant | 0.5quant | 0.975quant | mode | kld | \n",
       "|---|---|---|---|---|\n",
       "| (Intercept) | 44.9434468   | 1.33778755   | 42.2406314   | 44.9433777   | 47.647732    | 44.9434538   | 4.255462e-09 | \n",
       "| z_relative_mob | -0.2378796   | 0.06061195   | -0.3607283   | -0.2378844   | -0.114817    | -0.2378630   | 4.127452e-07 | \n",
       "| z_gini |  0.1492133   | 0.15398984   | -0.1613323   |  0.1491843   |  0.459966    |  0.1492025   | 2.621297e-05 | \n",
       "| log_population | -0.2201635   | 0.02836916   | -0.2758678   | -0.2201650   | -0.164503    | -0.2201656   | 2.370991e-14 | \n",
       "| log_income |  1.1173786   | 0.13690957   |  0.8485442   |  1.1173734   |  1.385991    |  1.1173744   | 1.480753e-14 | \n",
       "\n",
       "\n"
      ],
      "text/plain": [
       "               mean       sd         0.025quant 0.5quant   0.975quant\n",
       "(Intercept)    44.9434468 1.33778755 42.2406314 44.9433777 47.647732 \n",
       "z_relative_mob -0.2378796 0.06061195 -0.3607283 -0.2378844 -0.114817 \n",
       "z_gini          0.1492133 0.15398984 -0.1613323  0.1491843  0.459966 \n",
       "log_population -0.2201635 0.02836916 -0.2758678 -0.2201650 -0.164503 \n",
       "log_income      1.1173786 0.13690957  0.8485442  1.1173734  1.385991 \n",
       "               mode       kld         \n",
       "(Intercept)    44.9434538 4.255462e-09\n",
       "z_relative_mob -0.2378630 4.127452e-07\n",
       "z_gini          0.1492025 2.621297e-05\n",
       "log_population -0.2201656 2.370991e-14\n",
       "log_income      1.1173744 1.480753e-14"
      ]
     },
     "metadata": {},
     "output_type": "display_data"
    }
   ],
   "source": [
    "f1$summary.fixed"
   ]
  },
  {
   "cell_type": "code",
   "execution_count": 25,
   "metadata": {},
   "outputs": [
    {
     "data": {
      "text/html": [
       "<table>\n",
       "<thead><tr><th></th><th scope=col>mean</th><th scope=col>sd</th><th scope=col>q0.025</th><th scope=col>q0.5</th><th scope=col>q0.975</th><th scope=col>mode</th></tr></thead>\n",
       "<tbody>\n",
       "\t<tr><th scope=row>SD for the Gaussian observations</th><td>1.1665489 </td><td>0.01219703</td><td>1.14298546</td><td>1.16637305</td><td>1.1908692 </td><td>1.16594460</td></tr>\n",
       "\t<tr><th scope=row>SD for state</th><td>0.5553239 </td><td>0.07493855</td><td>0.43616036</td><td>0.54491658</td><td>0.7281627 </td><td>0.51937442</td></tr>\n",
       "\t<tr><th scope=row>SD for cty</th><td>0.5211425 </td><td>0.02295948</td><td>0.47812336</td><td>0.52032821</td><td>0.5682408 </td><td>0.51846579</td></tr>\n",
       "\t<tr><th scope=row>SD for income_qr</th><td>2.6045668 </td><td>0.93873537</td><td>1.28953963</td><td>2.42356952</td><td>4.9297044 </td><td>2.11078760</td></tr>\n",
       "\t<tr><th scope=row>SD for q_mob</th><td>0.0954917 </td><td>0.05888751</td><td>0.02959636</td><td>0.07977246</td><td>0.2521277 </td><td>0.05824551</td></tr>\n",
       "\t<tr><th scope=row>SD for q_gini</th><td>0.2842144 </td><td>0.17448790</td><td>0.10151493</td><td>0.23410995</td><td>0.7546125 </td><td>0.17014908</td></tr>\n",
       "</tbody>\n",
       "</table>\n"
      ],
      "text/latex": [
       "\\begin{tabular}{r|llllll}\n",
       "  & mean & sd & q0.025 & q0.5 & q0.975 & mode\\\\\n",
       "\\hline\n",
       "\tSD for the Gaussian observations & 1.1665489  & 0.01219703 & 1.14298546 & 1.16637305 & 1.1908692  & 1.16594460\\\\\n",
       "\tSD for state & 0.5553239  & 0.07493855 & 0.43616036 & 0.54491658 & 0.7281627  & 0.51937442\\\\\n",
       "\tSD for cty & 0.5211425  & 0.02295948 & 0.47812336 & 0.52032821 & 0.5682408  & 0.51846579\\\\\n",
       "\tSD for income\\_qr & 2.6045668  & 0.93873537 & 1.28953963 & 2.42356952 & 4.9297044  & 2.11078760\\\\\n",
       "\tSD for q\\_mob & 0.0954917  & 0.05888751 & 0.02959636 & 0.07977246 & 0.2521277  & 0.05824551\\\\\n",
       "\tSD for q\\_gini & 0.2842144  & 0.17448790 & 0.10151493 & 0.23410995 & 0.7546125  & 0.17014908\\\\\n",
       "\\end{tabular}\n"
      ],
      "text/markdown": [
       "\n",
       "| <!--/--> | mean | sd | q0.025 | q0.5 | q0.975 | mode | \n",
       "|---|---|---|---|---|---|\n",
       "| SD for the Gaussian observations | 1.1665489  | 0.01219703 | 1.14298546 | 1.16637305 | 1.1908692  | 1.16594460 | \n",
       "| SD for state | 0.5553239  | 0.07493855 | 0.43616036 | 0.54491658 | 0.7281627  | 0.51937442 | \n",
       "| SD for cty | 0.5211425  | 0.02295948 | 0.47812336 | 0.52032821 | 0.5682408  | 0.51846579 | \n",
       "| SD for income_qr | 2.6045668  | 0.93873537 | 1.28953963 | 2.42356952 | 4.9297044  | 2.11078760 | \n",
       "| SD for q_mob | 0.0954917  | 0.05888751 | 0.02959636 | 0.07977246 | 0.2521277  | 0.05824551 | \n",
       "| SD for q_gini | 0.2842144  | 0.17448790 | 0.10151493 | 0.23410995 | 0.7546125  | 0.17014908 | \n",
       "\n",
       "\n"
      ],
      "text/plain": [
       "                                 mean      sd         q0.025     q0.5      \n",
       "SD for the Gaussian observations 1.1665489 0.01219703 1.14298546 1.16637305\n",
       "SD for state                     0.5553239 0.07493855 0.43616036 0.54491658\n",
       "SD for cty                       0.5211425 0.02295948 0.47812336 0.52032821\n",
       "SD for income_qr                 2.6045668 0.93873537 1.28953963 2.42356952\n",
       "SD for q_mob                     0.0954917 0.05888751 0.02959636 0.07977246\n",
       "SD for q_gini                    0.2842144 0.17448790 0.10151493 0.23410995\n",
       "                                 q0.975    mode      \n",
       "SD for the Gaussian observations 1.1908692 1.16594460\n",
       "SD for state                     0.7281627 0.51937442\n",
       "SD for cty                       0.5682408 0.51846579\n",
       "SD for income_qr                 4.9297044 2.11078760\n",
       "SD for q_mob                     0.2521277 0.05824551\n",
       "SD for q_gini                    0.7546125 0.17014908"
      ]
     },
     "metadata": {},
     "output_type": "display_data"
    }
   ],
   "source": [
    "bri.hyperpar.summary(f1)"
   ]
  },
  {
   "cell_type": "markdown",
   "metadata": {},
   "source": [
    "## First differences (simulation, baseline)"
   ]
  },
  {
   "cell_type": "markdown",
   "metadata": {},
   "source": [
    "### Income mobility "
   ]
  },
  {
   "cell_type": "code",
   "execution_count": 2,
   "metadata": {},
   "outputs": [],
   "source": [
    "# load functions\n",
    "source('functions/simulation_INLA.R')\n",
    "source('functions/first_difference_INLA.R')"
   ]
  },
  {
   "cell_type": "code",
   "execution_count": 32,
   "metadata": {},
   "outputs": [],
   "source": [
    "nrep = 4 * 2 # 4 quartiles for 2 contrast values\n",
    "relative_mob_pred_data = data.table(\n",
    "    z_relative_mob = rep(c(0.0, 1.0), times = 1 , each = 4),\n",
    "    z_gini = rep(0, nrep),\n",
    "    log_population = rep(0, nrep), \n",
    "    log_income = rep(0, nrep))"
   ]
  },
  {
   "cell_type": "code",
   "execution_count": 33,
   "metadata": {},
   "outputs": [],
   "source": [
    "sim_mob_male = simulate_predictions(model=m1, data=relative_mob_pred_data, \n",
    "                                           nsim=2000, \n",
    "                                           contrast='z_relative_mob', \n",
    "                                           random='q_mob')"
   ]
  },
  {
   "cell_type": "code",
   "execution_count": 35,
   "metadata": {},
   "outputs": [],
   "source": [
    "sim_mob_male_m1 = first_difference(sim_mob_male, 'value', 'z_relative_mob', 'variable', 'q')\n",
    "fwrite(sim_mob_male_m1, file='../data/sim_mob_male_m1.csv')"
   ]
  },
  {
   "cell_type": "code",
   "execution_count": 36,
   "metadata": {},
   "outputs": [],
   "source": [
    "sim_mob_female = simulate_predictions(model=f1, data=relative_mob_pred_data, \n",
    "                                           nsim=2000, \n",
    "                                           contrast='z_relative_mob', \n",
    "                                           random='q_mob')"
   ]
  },
  {
   "cell_type": "code",
   "execution_count": 37,
   "metadata": {},
   "outputs": [],
   "source": [
    "sim_mob_female_m1 = first_difference(sim_mob_female, 'value', 'z_relative_mob', 'variable', 'q')\n",
    "fwrite(sim_mob_female_m1, file='../data/sim_mob_female_m1.csv')"
   ]
  },
  {
   "cell_type": "markdown",
   "metadata": {},
   "source": [
    "### Inequality\n"
   ]
  },
  {
   "cell_type": "code",
   "execution_count": null,
   "metadata": {},
   "outputs": [],
   "source": [
    "# nrep = 4 * 2 # 4 quartiles for 2 contrast values\n",
    "# gini_pred_data = data.table(\n",
    "#     z_relative_mob = rep(0, nrep),\n",
    "#     z_gini = rep(c(0.0, 1.0), times = 1 , each = 4),\n",
    "#     log_population = rep(0, nrep),     \n",
    "#     log_income = rep(0, nrep)\n",
    "# )"
   ]
  },
  {
   "cell_type": "code",
   "execution_count": null,
   "metadata": {},
   "outputs": [],
   "source": [
    "# sim_gini_male_m1 = first_difference(sim_gini_male, 'value', 'z_gini', 'variable', 'q')\n",
    "# fwrite(sim_gini_male_m1, file='../data/sim_gini_male_m1.csv')"
   ]
  },
  {
   "cell_type": "code",
   "execution_count": null,
   "metadata": {},
   "outputs": [],
   "source": [
    "# sim_gini_female = simulate_predictions(model=f1, data=gini_pred_data, \n",
    "#                                            nsim=2000, \n",
    "#                                            contrast='z_gini', \n",
    "#                                            random='q_gini')"
   ]
  },
  {
   "cell_type": "code",
   "execution_count": null,
   "metadata": {},
   "outputs": [],
   "source": [
    "# sim_gini_female_m1 = first_difference(sim_gini_female, 'value', 'z_gini', 'variable', 'q')\n",
    "# fwrite(sim_gini_female_m1, file='../data/sim_gini_female_m1.csv')"
   ]
  },
  {
   "cell_type": "markdown",
   "metadata": {},
   "source": [
    "# Adjusting for contextual variables"
   ]
  },
  {
   "cell_type": "markdown",
   "metadata": {},
   "source": [
    "### Male"
   ]
  },
  {
   "cell_type": "code",
   "execution_count": 163,
   "metadata": {},
   "outputs": [],
   "source": [
    "# -Demographic: % Black, Hispanic (since Chetty uses this to race adjust)\n",
    "# -Social: Crime rate, segregation\n",
    "# -Economic: Gini, possibly unemployment\n",
    "# -Health Access: uninsured, medicare expenses"
   ]
  },
  {
   "cell_type": "code",
   "execution_count": 46,
   "metadata": {},
   "outputs": [],
   "source": [
    "lmod <- lm(le ~ z_relative_mob  + z_gini + log_population + log_income + \n",
    "           log_crime_rate + z_segregation_income +  log_pct_black + log_pct_hispanic + \n",
    "           log_unemployment +  z_uninsured + z_medicare_expenses, male)\n",
    "\n",
    "# pc prior\n",
    "sdres <- sd(residuals(lmod))\n",
    "pcprior <- list(prec = list(prior=\"pc.prec\", param = c(3*sdres,0.01)))"
   ]
  },
  {
   "cell_type": "code",
   "execution_count": 47,
   "metadata": {},
   "outputs": [],
   "source": [
    "formula = le ~ z_relative_mob  + z_gini + log_population + log_income +\n",
    "       log_crime_rate + z_segregation_income +  log_pct_black + log_pct_hispanic + \n",
    "       log_unemployment +  z_uninsured + z_medicare_expenses +\n",
    "       f(state, model = \"iid\", hyper = pcprior) + \n",
    "       f(cty, model = \"iid\", hyper = pcprior) + \n",
    "       f(income_qr, model = \"iid\", hyper = pcprior) + \n",
    "       f(q_mob, z_relative_mob , model = \"iid\", hyper = pcprior) + \n",
    "       f(q_gini, z_gini , model = \"iid\", hyper = pcprior)\n",
    "\n",
    "\n",
    "m2 = inla(formula, family = \"gaussian\", data = male,\n",
    "          control.predictor=list(compute = TRUE),\n",
    "          control.compute = list(config = TRUE, dic = TRUE,\n",
    "                                 waic = TRUE, cpo = TRUE),\n",
    "          verbose = TRUE)"
   ]
  },
  {
   "cell_type": "code",
   "execution_count": 49,
   "metadata": {},
   "outputs": [
    {
     "data": {
      "text/html": [
       "<table>\n",
       "<thead><tr><th></th><th scope=col>mean</th><th scope=col>sd</th><th scope=col>0.025quant</th><th scope=col>0.5quant</th><th scope=col>0.975quant</th><th scope=col>mode</th><th scope=col>kld</th></tr></thead>\n",
       "<tbody>\n",
       "\t<tr><th scope=row>(Intercept)</th><td>41.17177628 </td><td>1.96543263  </td><td>37.19756395 </td><td>41.17167635 </td><td>45.147638645</td><td>41.17167103 </td><td>1.954105e-08</td></tr>\n",
       "\t<tr><th scope=row>z_relative_mob</th><td>-0.18825628 </td><td>0.14174075  </td><td>-0.46608106 </td><td>-0.18826621 </td><td> 0.088607907</td><td>-0.18834797 </td><td>4.850234e-05</td></tr>\n",
       "\t<tr><th scope=row>z_gini</th><td> 0.19967509 </td><td>0.17477988  </td><td>-0.14507077 </td><td> 0.19965688 </td><td> 0.544131118</td><td> 0.19966752 </td><td>5.265731e-05</td></tr>\n",
       "\t<tr><th scope=row>log_population</th><td>-0.08469662 </td><td>0.03904244  </td><td>-0.16131284 </td><td>-0.08471544 </td><td>-0.008046953</td><td>-0.08474916 </td><td>2.503681e-14</td></tr>\n",
       "\t<tr><th scope=row>log_income</th><td> 0.70624723 </td><td>0.15582462  </td><td> 0.40017048 </td><td> 0.70627097 </td><td> 1.011904460</td><td> 0.70632988 </td><td>3.029172e-14</td></tr>\n",
       "\t<tr><th scope=row>log_crime_rate</th><td>-0.12856014 </td><td>0.04464301  </td><td>-0.21617814 </td><td>-0.12857771 </td><td>-0.040925966</td><td>-0.12860844 </td><td>3.133471e-14</td></tr>\n",
       "\t<tr><th scope=row>z_segregation_income</th><td> 0.06153453 </td><td>0.03676805  </td><td>-0.01067728 </td><td> 0.06153704 </td><td> 0.133664730</td><td> 0.06154499 </td><td>2.919244e-14</td></tr>\n",
       "\t<tr><th scope=row>log_pct_black</th><td>-0.09850717 </td><td>0.02181736  </td><td>-0.14135656 </td><td>-0.09850565 </td><td>-0.055706635</td><td>-0.09850113 </td><td>2.277750e-14</td></tr>\n",
       "\t<tr><th scope=row>log_pct_hispanic</th><td>-0.19160179 </td><td>0.03058674  </td><td>-0.25167627 </td><td>-0.19159871 </td><td>-0.131600070</td><td>-0.19158962 </td><td>3.152192e-14</td></tr>\n",
       "\t<tr><th scope=row>log_unemployment</th><td>-0.44879130 </td><td>0.10573500  </td><td>-0.65638138 </td><td>-0.44880855 </td><td>-0.241297710</td><td>-0.44883272 </td><td>1.924041e-14</td></tr>\n",
       "\t<tr><th scope=row>z_uninsured</th><td> 0.12412562 </td><td>0.04887910  </td><td> 0.02835191 </td><td> 0.12405294 </td><td> 0.220209549</td><td> 0.12390859 </td><td>3.811915e-15</td></tr>\n",
       "\t<tr><th scope=row>z_medicare_expenses</th><td>-0.32985298 </td><td>0.03181855  </td><td>-0.39232599 </td><td>-0.32985706 </td><td>-0.267416484</td><td>-0.32986314 </td><td>2.398818e-14</td></tr>\n",
       "</tbody>\n",
       "</table>\n"
      ],
      "text/latex": [
       "\\begin{tabular}{r|lllllll}\n",
       "  & mean & sd & 0.025quant & 0.5quant & 0.975quant & mode & kld\\\\\n",
       "\\hline\n",
       "\t(Intercept) & 41.17177628  & 1.96543263   & 37.19756395  & 41.17167635  & 45.147638645 & 41.17167103  & 1.954105e-08\\\\\n",
       "\tz\\_relative\\_mob & -0.18825628  & 0.14174075   & -0.46608106  & -0.18826621  &  0.088607907 & -0.18834797  & 4.850234e-05\\\\\n",
       "\tz\\_gini &  0.19967509  & 0.17477988   & -0.14507077  &  0.19965688  &  0.544131118 &  0.19966752  & 5.265731e-05\\\\\n",
       "\tlog\\_population & -0.08469662  & 0.03904244   & -0.16131284  & -0.08471544  & -0.008046953 & -0.08474916  & 2.503681e-14\\\\\n",
       "\tlog\\_income &  0.70624723  & 0.15582462   &  0.40017048  &  0.70627097  &  1.011904460 &  0.70632988  & 3.029172e-14\\\\\n",
       "\tlog\\_crime\\_rate & -0.12856014  & 0.04464301   & -0.21617814  & -0.12857771  & -0.040925966 & -0.12860844  & 3.133471e-14\\\\\n",
       "\tz\\_segregation\\_income &  0.06153453  & 0.03676805   & -0.01067728  &  0.06153704  &  0.133664730 &  0.06154499  & 2.919244e-14\\\\\n",
       "\tlog\\_pct\\_black & -0.09850717  & 0.02181736   & -0.14135656  & -0.09850565  & -0.055706635 & -0.09850113  & 2.277750e-14\\\\\n",
       "\tlog\\_pct\\_hispanic & -0.19160179  & 0.03058674   & -0.25167627  & -0.19159871  & -0.131600070 & -0.19158962  & 3.152192e-14\\\\\n",
       "\tlog\\_unemployment & -0.44879130  & 0.10573500   & -0.65638138  & -0.44880855  & -0.241297710 & -0.44883272  & 1.924041e-14\\\\\n",
       "\tz\\_uninsured &  0.12412562  & 0.04887910   &  0.02835191  &  0.12405294  &  0.220209549 &  0.12390859  & 3.811915e-15\\\\\n",
       "\tz\\_medicare\\_expenses & -0.32985298  & 0.03181855   & -0.39232599  & -0.32985706  & -0.267416484 & -0.32986314  & 2.398818e-14\\\\\n",
       "\\end{tabular}\n"
      ],
      "text/markdown": [
       "\n",
       "| <!--/--> | mean | sd | 0.025quant | 0.5quant | 0.975quant | mode | kld | \n",
       "|---|---|---|---|---|---|---|---|---|---|---|---|\n",
       "| (Intercept) | 41.17177628  | 1.96543263   | 37.19756395  | 41.17167635  | 45.147638645 | 41.17167103  | 1.954105e-08 | \n",
       "| z_relative_mob | -0.18825628  | 0.14174075   | -0.46608106  | -0.18826621  |  0.088607907 | -0.18834797  | 4.850234e-05 | \n",
       "| z_gini |  0.19967509  | 0.17477988   | -0.14507077  |  0.19965688  |  0.544131118 |  0.19966752  | 5.265731e-05 | \n",
       "| log_population | -0.08469662  | 0.03904244   | -0.16131284  | -0.08471544  | -0.008046953 | -0.08474916  | 2.503681e-14 | \n",
       "| log_income |  0.70624723  | 0.15582462   |  0.40017048  |  0.70627097  |  1.011904460 |  0.70632988  | 3.029172e-14 | \n",
       "| log_crime_rate | -0.12856014  | 0.04464301   | -0.21617814  | -0.12857771  | -0.040925966 | -0.12860844  | 3.133471e-14 | \n",
       "| z_segregation_income |  0.06153453  | 0.03676805   | -0.01067728  |  0.06153704  |  0.133664730 |  0.06154499  | 2.919244e-14 | \n",
       "| log_pct_black | -0.09850717  | 0.02181736   | -0.14135656  | -0.09850565  | -0.055706635 | -0.09850113  | 2.277750e-14 | \n",
       "| log_pct_hispanic | -0.19160179  | 0.03058674   | -0.25167627  | -0.19159871  | -0.131600070 | -0.19158962  | 3.152192e-14 | \n",
       "| log_unemployment | -0.44879130  | 0.10573500   | -0.65638138  | -0.44880855  | -0.241297710 | -0.44883272  | 1.924041e-14 | \n",
       "| z_uninsured |  0.12412562  | 0.04887910   |  0.02835191  |  0.12405294  |  0.220209549 |  0.12390859  | 3.811915e-15 | \n",
       "| z_medicare_expenses | -0.32985298  | 0.03181855   | -0.39232599  | -0.32985706  | -0.267416484 | -0.32986314  | 2.398818e-14 | \n",
       "\n",
       "\n"
      ],
      "text/plain": [
       "                     mean        sd         0.025quant  0.5quant   \n",
       "(Intercept)          41.17177628 1.96543263 37.19756395 41.17167635\n",
       "z_relative_mob       -0.18825628 0.14174075 -0.46608106 -0.18826621\n",
       "z_gini                0.19967509 0.17477988 -0.14507077  0.19965688\n",
       "log_population       -0.08469662 0.03904244 -0.16131284 -0.08471544\n",
       "log_income            0.70624723 0.15582462  0.40017048  0.70627097\n",
       "log_crime_rate       -0.12856014 0.04464301 -0.21617814 -0.12857771\n",
       "z_segregation_income  0.06153453 0.03676805 -0.01067728  0.06153704\n",
       "log_pct_black        -0.09850717 0.02181736 -0.14135656 -0.09850565\n",
       "log_pct_hispanic     -0.19160179 0.03058674 -0.25167627 -0.19159871\n",
       "log_unemployment     -0.44879130 0.10573500 -0.65638138 -0.44880855\n",
       "z_uninsured           0.12412562 0.04887910  0.02835191  0.12405294\n",
       "z_medicare_expenses  -0.32985298 0.03181855 -0.39232599 -0.32985706\n",
       "                     0.975quant   mode        kld         \n",
       "(Intercept)          45.147638645 41.17167103 1.954105e-08\n",
       "z_relative_mob        0.088607907 -0.18834797 4.850234e-05\n",
       "z_gini                0.544131118  0.19966752 5.265731e-05\n",
       "log_population       -0.008046953 -0.08474916 2.503681e-14\n",
       "log_income            1.011904460  0.70632988 3.029172e-14\n",
       "log_crime_rate       -0.040925966 -0.12860844 3.133471e-14\n",
       "z_segregation_income  0.133664730  0.06154499 2.919244e-14\n",
       "log_pct_black        -0.055706635 -0.09850113 2.277750e-14\n",
       "log_pct_hispanic     -0.131600070 -0.19158962 3.152192e-14\n",
       "log_unemployment     -0.241297710 -0.44883272 1.924041e-14\n",
       "z_uninsured           0.220209549  0.12390859 3.811915e-15\n",
       "z_medicare_expenses  -0.267416484 -0.32986314 2.398818e-14"
      ]
     },
     "metadata": {},
     "output_type": "display_data"
    }
   ],
   "source": [
    "m2$summary.fixed"
   ]
  },
  {
   "cell_type": "code",
   "execution_count": 51,
   "metadata": {},
   "outputs": [
    {
     "data": {
      "text/html": [
       "<table>\n",
       "<thead><tr><th></th><th scope=col>mean</th><th scope=col>sd</th><th scope=col>q0.025</th><th scope=col>q0.5</th><th scope=col>q0.975</th><th scope=col>mode</th></tr></thead>\n",
       "<tbody>\n",
       "\t<tr><th scope=row>SD for the Gaussian observations</th><td>1.1449524 </td><td>0.01358673</td><td>1.1160136 </td><td>1.1459727 </td><td>1.1689096 </td><td>1.1500779 </td></tr>\n",
       "\t<tr><th scope=row>SD for state</th><td>0.5758316 </td><td>0.07658046</td><td>0.4288521 </td><td>0.5757070 </td><td>0.7272624 </td><td>0.5805005 </td></tr>\n",
       "\t<tr><th scope=row>SD for cty</th><td>0.4620980 </td><td>0.03056210</td><td>0.4135226 </td><td>0.4578793 </td><td>0.5317989 </td><td>0.4446299 </td></tr>\n",
       "\t<tr><th scope=row>SD for income_qr</th><td>3.9365649 </td><td>1.47692154</td><td>2.0326288 </td><td>3.5965790 </td><td>7.7131483 </td><td>3.0242132 </td></tr>\n",
       "\t<tr><th scope=row>SD for q_mob</th><td>0.2274117 </td><td>0.13878178</td><td>0.0791064 </td><td>0.1882953 </td><td>0.6003293 </td><td>0.1377324 </td></tr>\n",
       "\t<tr><th scope=row>SD for q_gini</th><td>0.3033538 </td><td>0.18049481</td><td>0.1117002 </td><td>0.2520238 </td><td>0.7887868 </td><td>0.1852826 </td></tr>\n",
       "</tbody>\n",
       "</table>\n"
      ],
      "text/latex": [
       "\\begin{tabular}{r|llllll}\n",
       "  & mean & sd & q0.025 & q0.5 & q0.975 & mode\\\\\n",
       "\\hline\n",
       "\tSD for the Gaussian observations & 1.1449524  & 0.01358673 & 1.1160136  & 1.1459727  & 1.1689096  & 1.1500779 \\\\\n",
       "\tSD for state & 0.5758316  & 0.07658046 & 0.4288521  & 0.5757070  & 0.7272624  & 0.5805005 \\\\\n",
       "\tSD for cty & 0.4620980  & 0.03056210 & 0.4135226  & 0.4578793  & 0.5317989  & 0.4446299 \\\\\n",
       "\tSD for income\\_qr & 3.9365649  & 1.47692154 & 2.0326288  & 3.5965790  & 7.7131483  & 3.0242132 \\\\\n",
       "\tSD for q\\_mob & 0.2274117  & 0.13878178 & 0.0791064  & 0.1882953  & 0.6003293  & 0.1377324 \\\\\n",
       "\tSD for q\\_gini & 0.3033538  & 0.18049481 & 0.1117002  & 0.2520238  & 0.7887868  & 0.1852826 \\\\\n",
       "\\end{tabular}\n"
      ],
      "text/markdown": [
       "\n",
       "| <!--/--> | mean | sd | q0.025 | q0.5 | q0.975 | mode | \n",
       "|---|---|---|---|---|---|\n",
       "| SD for the Gaussian observations | 1.1449524  | 0.01358673 | 1.1160136  | 1.1459727  | 1.1689096  | 1.1500779  | \n",
       "| SD for state | 0.5758316  | 0.07658046 | 0.4288521  | 0.5757070  | 0.7272624  | 0.5805005  | \n",
       "| SD for cty | 0.4620980  | 0.03056210 | 0.4135226  | 0.4578793  | 0.5317989  | 0.4446299  | \n",
       "| SD for income_qr | 3.9365649  | 1.47692154 | 2.0326288  | 3.5965790  | 7.7131483  | 3.0242132  | \n",
       "| SD for q_mob | 0.2274117  | 0.13878178 | 0.0791064  | 0.1882953  | 0.6003293  | 0.1377324  | \n",
       "| SD for q_gini | 0.3033538  | 0.18049481 | 0.1117002  | 0.2520238  | 0.7887868  | 0.1852826  | \n",
       "\n",
       "\n"
      ],
      "text/plain": [
       "                                 mean      sd         q0.025    q0.5     \n",
       "SD for the Gaussian observations 1.1449524 0.01358673 1.1160136 1.1459727\n",
       "SD for state                     0.5758316 0.07658046 0.4288521 0.5757070\n",
       "SD for cty                       0.4620980 0.03056210 0.4135226 0.4578793\n",
       "SD for income_qr                 3.9365649 1.47692154 2.0326288 3.5965790\n",
       "SD for q_mob                     0.2274117 0.13878178 0.0791064 0.1882953\n",
       "SD for q_gini                    0.3033538 0.18049481 0.1117002 0.2520238\n",
       "                                 q0.975    mode     \n",
       "SD for the Gaussian observations 1.1689096 1.1500779\n",
       "SD for state                     0.7272624 0.5805005\n",
       "SD for cty                       0.5317989 0.4446299\n",
       "SD for income_qr                 7.7131483 3.0242132\n",
       "SD for q_mob                     0.6003293 0.1377324\n",
       "SD for q_gini                    0.7887868 0.1852826"
      ]
     },
     "metadata": {},
     "output_type": "display_data"
    }
   ],
   "source": [
    "bri.hyperpar.summary(m2)"
   ]
  },
  {
   "cell_type": "code",
   "execution_count": 52,
   "metadata": {},
   "outputs": [],
   "source": [
    "nrep = 4 * 2 # 4 quartiles for 2 contrast values\n",
    "relative_mob_pred = data.table(\n",
    "    z_relative_mob       = rep(c(0.0, 1.0), times = 1 , each = 4),\n",
    "    z_gini               = rep(0, nrep),\n",
    "    log_population       = rep(0, nrep), \n",
    "    log_income           = rep(0, nrep),\n",
    "    log_crime_rate       = rep(0, nrep),\n",
    "#     log_poverty          = rep(0, nrep),\n",
    "#     log_mig_inflow       = rep(0, nrep),\n",
    "#     log_mig_outflow      = rep(0, nrep),\n",
    "#     log_foreign          = rep(0, nrep),\n",
    "    log_pct_black        = rep(0, nrep),\n",
    "    log_pct_hispanic     = rep(0, nrep),\n",
    "#     log_house_value      = rep(0, nrep),\n",
    "#     log_local_gov_exp    = rep(0, nrep),\n",
    "    log_unemployment     = rep(0, nrep),\n",
    "    z_segregation_income = rep(0, nrep),\n",
    "#     z_religion           = rep(0, nrep),\n",
    "#     z_labor_force        = rep(0, nrep),\n",
    "#     z_college            = rep(0, nrep),\n",
    "#     z_middle_class       = rep(0, nrep),\n",
    "    z_uninsured          = rep(0, nrep), \n",
    "    z_medicare_expenses  = rep(0, nrep))\n",
    "\n",
    "gini_pred = data.table(\n",
    "    z_relative_mob        = rep(0, nrep),\n",
    "    z_gini               = rep(c(0.0, 1.0), times = 1 , each = 4),\n",
    "    log_population       = rep(0, nrep), \n",
    "    log_income           = rep(0, nrep),\n",
    "    log_crime_rate       = rep(0, nrep),\n",
    "#     log_poverty          = rep(0, nrep),\n",
    "#     log_mig_inflow       = rep(0, nrep),\n",
    "#     log_mig_outflow      = rep(0, nrep),\n",
    "#     log_foreign          = rep(0, nrep),\n",
    "    log_pct_black        = rep(0, nrep),\n",
    "    log_pct_hispanic     = rep(0, nrep),\n",
    "#     log_house_value      = rep(0, nrep),\n",
    "#     log_local_gov_exp    = rep(0, nrep),\n",
    "    log_unemployment     = rep(0, nrep),\n",
    "    z_segregation_income = rep(0, nrep),\n",
    "#     z_religion           = rep(0, nrep),\n",
    "#     z_labor_force        = rep(0, nrep),\n",
    "#     z_college            = rep(0, nrep),\n",
    "#     z_middle_class       = rep(0, nrep),\n",
    "    z_uninsured          = rep(0, nrep), \n",
    "    z_medicare_expenses  = rep(0, nrep))"
   ]
  },
  {
   "cell_type": "code",
   "execution_count": 53,
   "metadata": {},
   "outputs": [],
   "source": [
    "# simulate\n",
    "sim_mob_male = simulate_predictions(model=m2, data=relative_mob_pred, \n",
    "                                           nsim=2000, \n",
    "                                           contrast='z_relative_mob', \n",
    "                                           random='q_mob')\n",
    "\n",
    "sim_mob_male_m2 = first_difference(sim_mob_male, 'value', 'z_relative_mob', 'variable', 'q')\n",
    "fwrite(sim_mob_male_m2, file='../data/sim_mob_male_m2.csv')"
   ]
  },
  {
   "cell_type": "code",
   "execution_count": 169,
   "metadata": {},
   "outputs": [],
   "source": [
    "# sim_gini_male = simulate_predictions(model=m2, data=gini_pred, \n",
    "#                                            nsim=2000, \n",
    "#                                            contrast='z_gini', \n",
    "#                                            random='q_gini')\n",
    "\n",
    "# sim_gini_male_m2 = first_difference(sim_gini_male, 'value', 'z_gini', 'variable', 'q')\n",
    "# fwrite(sim_gini_male_m2, file='../data/sim_gini_male_m2.csv')"
   ]
  },
  {
   "cell_type": "markdown",
   "metadata": {},
   "source": [
    "### Female"
   ]
  },
  {
   "cell_type": "code",
   "execution_count": 54,
   "metadata": {},
   "outputs": [],
   "source": [
    "lmod <- lm(le ~ z_relative_mob  + z_gini + log_population + log_income + \n",
    "       log_crime_rate + z_segregation_income +  log_pct_black + log_pct_hispanic + \n",
    "       log_unemployment +  z_uninsured + z_medicare_expenses, female)\n",
    "\n",
    "# pc prior\n",
    "sdres <- sd(residuals(lmod))\n",
    "pcprior <- list(prec = list(prior=\"pc.prec\", param = c(3*sdres,0.01)))"
   ]
  },
  {
   "cell_type": "code",
   "execution_count": 55,
   "metadata": {},
   "outputs": [],
   "source": [
    "formula = le ~ z_relative_mob  + z_gini + log_population + log_income +\n",
    "       log_crime_rate + z_segregation_income +  log_pct_black + log_pct_hispanic + \n",
    "       log_unemployment +  z_uninsured + z_medicare_expenses +\n",
    "       f(state, model = \"iid\", hyper = pcprior) + \n",
    "       f(cty, model = \"iid\", hyper = pcprior) + \n",
    "       f(income_qr, model = \"iid\", hyper = pcprior) + \n",
    "       f(q_mob, z_relative_mob , model = \"iid\", hyper = pcprior) + \n",
    "       f(q_gini, z_gini , model = \"iid\", hyper = pcprior)\n",
    "\n",
    "\n",
    "f2 = inla(formula, family = \"gaussian\", data = female,\n",
    "          control.predictor=list(compute = TRUE),\n",
    "          control.compute = list(config = TRUE, dic = TRUE,\n",
    "                                 waic = TRUE, cpo = TRUE),\n",
    "          verbose = TRUE)"
   ]
  },
  {
   "cell_type": "code",
   "execution_count": 56,
   "metadata": {},
   "outputs": [
    {
     "data": {
      "text/html": [
       "<table>\n",
       "<thead><tr><th></th><th scope=col>mean</th><th scope=col>sd</th><th scope=col>0.025quant</th><th scope=col>0.5quant</th><th scope=col>0.975quant</th><th scope=col>mode</th><th scope=col>kld</th></tr></thead>\n",
       "<tbody>\n",
       "\t<tr><th scope=row>(Intercept)</th><td>44.87198595 </td><td>1.34057633  </td><td>42.167755741</td><td>44.87197239 </td><td>47.57725411 </td><td>44.87217376 </td><td>2.705002e-09</td></tr>\n",
       "\t<tr><th scope=row>z_relative_mob</th><td>-0.11957199 </td><td>0.07415679  </td><td>-0.260276235</td><td>-0.11957961 </td><td> 0.02115938 </td><td>-0.11957090 </td><td>3.700395e-05</td></tr>\n",
       "\t<tr><th scope=row>z_gini</th><td> 0.13621546 </td><td>0.15451528  </td><td>-0.168238166</td><td> 0.13619781 </td><td> 0.44094574 </td><td> 0.13625293 </td><td>4.616079e-05</td></tr>\n",
       "\t<tr><th scope=row>log_population</th><td>-0.05069792 </td><td>0.03888614  </td><td>-0.127057474</td><td>-0.05069820 </td><td> 0.02559250 </td><td>-0.05069517 </td><td>1.778166e-14</td></tr>\n",
       "\t<tr><th scope=row>log_income</th><td> 0.67428993 </td><td>0.15572853  </td><td> 0.368517498</td><td> 0.67427921 </td><td> 0.97983696 </td><td> 0.67427031 </td><td>1.773967e-14</td></tr>\n",
       "\t<tr><th scope=row>log_crime_rate</th><td>-0.13229834 </td><td>0.04464526  </td><td>-0.219961018</td><td>-0.13230070 </td><td>-0.04470385 </td><td>-0.13230145 </td><td>1.697126e-14</td></tr>\n",
       "\t<tr><th scope=row>z_segregation_income</th><td> 0.03396511 </td><td>0.03693499  </td><td>-0.038561348</td><td> 0.03396417 </td><td> 0.10642908 </td><td> 0.03396511 </td><td>1.748465e-14</td></tr>\n",
       "\t<tr><th scope=row>log_pct_black</th><td>-0.09885776 </td><td>0.02158764  </td><td>-0.141256476</td><td>-0.09885540 </td><td>-0.05651148 </td><td>-0.09884875 </td><td>1.675068e-14</td></tr>\n",
       "\t<tr><th scope=row>log_pct_hispanic</th><td>-0.20388972 </td><td>0.03035986  </td><td>-0.263479839</td><td>-0.20389944 </td><td>-0.14430141 </td><td>-0.20391656 </td><td>2.070252e-14</td></tr>\n",
       "\t<tr><th scope=row>log_unemployment</th><td>-0.28353962 </td><td>0.10432303  </td><td>-0.488419356</td><td>-0.28353308 </td><td>-0.07888639 </td><td>-0.28351090 </td><td>1.880840e-14</td></tr>\n",
       "\t<tr><th scope=row>z_uninsured</th><td> 0.08806628 </td><td>0.04766375  </td><td>-0.005242464</td><td> 0.08796616 </td><td> 0.18183871 </td><td> 0.08776567 </td><td>1.259905e-14</td></tr>\n",
       "\t<tr><th scope=row>z_medicare_expenses</th><td>-0.29477115 </td><td>0.03116656  </td><td>-0.355978212</td><td>-0.29476973 </td><td>-0.23362889 </td><td>-0.29476423 </td><td>2.857410e-14</td></tr>\n",
       "</tbody>\n",
       "</table>\n"
      ],
      "text/latex": [
       "\\begin{tabular}{r|lllllll}\n",
       "  & mean & sd & 0.025quant & 0.5quant & 0.975quant & mode & kld\\\\\n",
       "\\hline\n",
       "\t(Intercept) & 44.87198595  & 1.34057633   & 42.167755741 & 44.87197239  & 47.57725411  & 44.87217376  & 2.705002e-09\\\\\n",
       "\tz\\_relative\\_mob & -0.11957199  & 0.07415679   & -0.260276235 & -0.11957961  &  0.02115938  & -0.11957090  & 3.700395e-05\\\\\n",
       "\tz\\_gini &  0.13621546  & 0.15451528   & -0.168238166 &  0.13619781  &  0.44094574  &  0.13625293  & 4.616079e-05\\\\\n",
       "\tlog\\_population & -0.05069792  & 0.03888614   & -0.127057474 & -0.05069820  &  0.02559250  & -0.05069517  & 1.778166e-14\\\\\n",
       "\tlog\\_income &  0.67428993  & 0.15572853   &  0.368517498 &  0.67427921  &  0.97983696  &  0.67427031  & 1.773967e-14\\\\\n",
       "\tlog\\_crime\\_rate & -0.13229834  & 0.04464526   & -0.219961018 & -0.13230070  & -0.04470385  & -0.13230145  & 1.697126e-14\\\\\n",
       "\tz\\_segregation\\_income &  0.03396511  & 0.03693499   & -0.038561348 &  0.03396417  &  0.10642908  &  0.03396511  & 1.748465e-14\\\\\n",
       "\tlog\\_pct\\_black & -0.09885776  & 0.02158764   & -0.141256476 & -0.09885540  & -0.05651148  & -0.09884875  & 1.675068e-14\\\\\n",
       "\tlog\\_pct\\_hispanic & -0.20388972  & 0.03035986   & -0.263479839 & -0.20389944  & -0.14430141  & -0.20391656  & 2.070252e-14\\\\\n",
       "\tlog\\_unemployment & -0.28353962  & 0.10432303   & -0.488419356 & -0.28353308  & -0.07888639  & -0.28351090  & 1.880840e-14\\\\\n",
       "\tz\\_uninsured &  0.08806628  & 0.04766375   & -0.005242464 &  0.08796616  &  0.18183871  &  0.08776567  & 1.259905e-14\\\\\n",
       "\tz\\_medicare\\_expenses & -0.29477115  & 0.03116656   & -0.355978212 & -0.29476973  & -0.23362889  & -0.29476423  & 2.857410e-14\\\\\n",
       "\\end{tabular}\n"
      ],
      "text/markdown": [
       "\n",
       "| <!--/--> | mean | sd | 0.025quant | 0.5quant | 0.975quant | mode | kld | \n",
       "|---|---|---|---|---|---|---|---|---|---|---|---|\n",
       "| (Intercept) | 44.87198595  | 1.34057633   | 42.167755741 | 44.87197239  | 47.57725411  | 44.87217376  | 2.705002e-09 | \n",
       "| z_relative_mob | -0.11957199  | 0.07415679   | -0.260276235 | -0.11957961  |  0.02115938  | -0.11957090  | 3.700395e-05 | \n",
       "| z_gini |  0.13621546  | 0.15451528   | -0.168238166 |  0.13619781  |  0.44094574  |  0.13625293  | 4.616079e-05 | \n",
       "| log_population | -0.05069792  | 0.03888614   | -0.127057474 | -0.05069820  |  0.02559250  | -0.05069517  | 1.778166e-14 | \n",
       "| log_income |  0.67428993  | 0.15572853   |  0.368517498 |  0.67427921  |  0.97983696  |  0.67427031  | 1.773967e-14 | \n",
       "| log_crime_rate | -0.13229834  | 0.04464526   | -0.219961018 | -0.13230070  | -0.04470385  | -0.13230145  | 1.697126e-14 | \n",
       "| z_segregation_income |  0.03396511  | 0.03693499   | -0.038561348 |  0.03396417  |  0.10642908  |  0.03396511  | 1.748465e-14 | \n",
       "| log_pct_black | -0.09885776  | 0.02158764   | -0.141256476 | -0.09885540  | -0.05651148  | -0.09884875  | 1.675068e-14 | \n",
       "| log_pct_hispanic | -0.20388972  | 0.03035986   | -0.263479839 | -0.20389944  | -0.14430141  | -0.20391656  | 2.070252e-14 | \n",
       "| log_unemployment | -0.28353962  | 0.10432303   | -0.488419356 | -0.28353308  | -0.07888639  | -0.28351090  | 1.880840e-14 | \n",
       "| z_uninsured |  0.08806628  | 0.04766375   | -0.005242464 |  0.08796616  |  0.18183871  |  0.08776567  | 1.259905e-14 | \n",
       "| z_medicare_expenses | -0.29477115  | 0.03116656   | -0.355978212 | -0.29476973  | -0.23362889  | -0.29476423  | 2.857410e-14 | \n",
       "\n",
       "\n"
      ],
      "text/plain": [
       "                     mean        sd         0.025quant   0.5quant   \n",
       "(Intercept)          44.87198595 1.34057633 42.167755741 44.87197239\n",
       "z_relative_mob       -0.11957199 0.07415679 -0.260276235 -0.11957961\n",
       "z_gini                0.13621546 0.15451528 -0.168238166  0.13619781\n",
       "log_population       -0.05069792 0.03888614 -0.127057474 -0.05069820\n",
       "log_income            0.67428993 0.15572853  0.368517498  0.67427921\n",
       "log_crime_rate       -0.13229834 0.04464526 -0.219961018 -0.13230070\n",
       "z_segregation_income  0.03396511 0.03693499 -0.038561348  0.03396417\n",
       "log_pct_black        -0.09885776 0.02158764 -0.141256476 -0.09885540\n",
       "log_pct_hispanic     -0.20388972 0.03035986 -0.263479839 -0.20389944\n",
       "log_unemployment     -0.28353962 0.10432303 -0.488419356 -0.28353308\n",
       "z_uninsured           0.08806628 0.04766375 -0.005242464  0.08796616\n",
       "z_medicare_expenses  -0.29477115 0.03116656 -0.355978212 -0.29476973\n",
       "                     0.975quant  mode        kld         \n",
       "(Intercept)          47.57725411 44.87217376 2.705002e-09\n",
       "z_relative_mob        0.02115938 -0.11957090 3.700395e-05\n",
       "z_gini                0.44094574  0.13625293 4.616079e-05\n",
       "log_population        0.02559250 -0.05069517 1.778166e-14\n",
       "log_income            0.97983696  0.67427031 1.773967e-14\n",
       "log_crime_rate       -0.04470385 -0.13230145 1.697126e-14\n",
       "z_segregation_income  0.10642908  0.03396511 1.748465e-14\n",
       "log_pct_black        -0.05651148 -0.09884875 1.675068e-14\n",
       "log_pct_hispanic     -0.14430141 -0.20391656 2.070252e-14\n",
       "log_unemployment     -0.07888639 -0.28351090 1.880840e-14\n",
       "z_uninsured           0.18183871  0.08776567 1.259905e-14\n",
       "z_medicare_expenses  -0.23362889 -0.29476423 2.857410e-14"
      ]
     },
     "metadata": {},
     "output_type": "display_data"
    }
   ],
   "source": [
    "f2$summary.fixed"
   ]
  },
  {
   "cell_type": "code",
   "execution_count": 57,
   "metadata": {},
   "outputs": [
    {
     "data": {
      "text/html": [
       "<table>\n",
       "<thead><tr><th></th><th scope=col>mean</th><th scope=col>sd</th><th scope=col>q0.025</th><th scope=col>q0.5</th><th scope=col>q0.975</th><th scope=col>mode</th></tr></thead>\n",
       "<tbody>\n",
       "\t<tr><th scope=row>SD for the Gaussian observations</th><td>1.16606840</td><td>0.01221475</td><td>1.14259712</td><td>1.16583889</td><td>1.1905465 </td><td>1.16519772</td></tr>\n",
       "\t<tr><th scope=row>SD for state</th><td>0.49329658</td><td>0.07190585</td><td>0.35396009</td><td>0.49395426</td><td>0.6330445 </td><td>0.50111070</td></tr>\n",
       "\t<tr><th scope=row>SD for cty</th><td>0.44989990</td><td>0.02360370</td><td>0.40398977</td><td>0.44981930</td><td>0.4965773 </td><td>0.45051671</td></tr>\n",
       "\t<tr><th scope=row>SD for income_qr</th><td>2.61776060</td><td>0.93674461</td><td>1.27854278</td><td>2.44723626</td><td>4.9146530 </td><td>2.14792010</td></tr>\n",
       "\t<tr><th scope=row>SD for q_mob</th><td>0.09691228</td><td>0.07198012</td><td>0.02358339</td><td>0.07628144</td><td>0.2912862 </td><td>0.05052299</td></tr>\n",
       "\t<tr><th scope=row>SD for q_gini</th><td>0.26513220</td><td>0.15737406</td><td>0.09861895</td><td>0.22023864</td><td>0.6888345 </td><td>0.16183819</td></tr>\n",
       "</tbody>\n",
       "</table>\n"
      ],
      "text/latex": [
       "\\begin{tabular}{r|llllll}\n",
       "  & mean & sd & q0.025 & q0.5 & q0.975 & mode\\\\\n",
       "\\hline\n",
       "\tSD for the Gaussian observations & 1.16606840 & 0.01221475 & 1.14259712 & 1.16583889 & 1.1905465  & 1.16519772\\\\\n",
       "\tSD for state & 0.49329658 & 0.07190585 & 0.35396009 & 0.49395426 & 0.6330445  & 0.50111070\\\\\n",
       "\tSD for cty & 0.44989990 & 0.02360370 & 0.40398977 & 0.44981930 & 0.4965773  & 0.45051671\\\\\n",
       "\tSD for income\\_qr & 2.61776060 & 0.93674461 & 1.27854278 & 2.44723626 & 4.9146530  & 2.14792010\\\\\n",
       "\tSD for q\\_mob & 0.09691228 & 0.07198012 & 0.02358339 & 0.07628144 & 0.2912862  & 0.05052299\\\\\n",
       "\tSD for q\\_gini & 0.26513220 & 0.15737406 & 0.09861895 & 0.22023864 & 0.6888345  & 0.16183819\\\\\n",
       "\\end{tabular}\n"
      ],
      "text/markdown": [
       "\n",
       "| <!--/--> | mean | sd | q0.025 | q0.5 | q0.975 | mode | \n",
       "|---|---|---|---|---|---|\n",
       "| SD for the Gaussian observations | 1.16606840 | 0.01221475 | 1.14259712 | 1.16583889 | 1.1905465  | 1.16519772 | \n",
       "| SD for state | 0.49329658 | 0.07190585 | 0.35396009 | 0.49395426 | 0.6330445  | 0.50111070 | \n",
       "| SD for cty | 0.44989990 | 0.02360370 | 0.40398977 | 0.44981930 | 0.4965773  | 0.45051671 | \n",
       "| SD for income_qr | 2.61776060 | 0.93674461 | 1.27854278 | 2.44723626 | 4.9146530  | 2.14792010 | \n",
       "| SD for q_mob | 0.09691228 | 0.07198012 | 0.02358339 | 0.07628144 | 0.2912862  | 0.05052299 | \n",
       "| SD for q_gini | 0.26513220 | 0.15737406 | 0.09861895 | 0.22023864 | 0.6888345  | 0.16183819 | \n",
       "\n",
       "\n"
      ],
      "text/plain": [
       "                                 mean       sd         q0.025     q0.5      \n",
       "SD for the Gaussian observations 1.16606840 0.01221475 1.14259712 1.16583889\n",
       "SD for state                     0.49329658 0.07190585 0.35396009 0.49395426\n",
       "SD for cty                       0.44989990 0.02360370 0.40398977 0.44981930\n",
       "SD for income_qr                 2.61776060 0.93674461 1.27854278 2.44723626\n",
       "SD for q_mob                     0.09691228 0.07198012 0.02358339 0.07628144\n",
       "SD for q_gini                    0.26513220 0.15737406 0.09861895 0.22023864\n",
       "                                 q0.975    mode      \n",
       "SD for the Gaussian observations 1.1905465 1.16519772\n",
       "SD for state                     0.6330445 0.50111070\n",
       "SD for cty                       0.4965773 0.45051671\n",
       "SD for income_qr                 4.9146530 2.14792010\n",
       "SD for q_mob                     0.2912862 0.05052299\n",
       "SD for q_gini                    0.6888345 0.16183819"
      ]
     },
     "metadata": {},
     "output_type": "display_data"
    }
   ],
   "source": [
    "bri.hyperpar.summary(f2)"
   ]
  },
  {
   "cell_type": "code",
   "execution_count": 58,
   "metadata": {},
   "outputs": [],
   "source": [
    "# simulate\n",
    "sim_mob_female = simulate_predictions(model=f2, data=relative_mob_pred, \n",
    "                                           nsim=2000, \n",
    "                                           contrast='z_relative_mob', \n",
    "                                           random='q_mob')\n",
    "\n",
    "sim_mob_female_m2 = first_difference(sim_mob_female, 'value', 'z_relative_mob', 'variable', 'q')\n",
    "fwrite(sim_mob_female_m2, file='../data/sim_mob_female_m2.csv')"
   ]
  },
  {
   "cell_type": "code",
   "execution_count": 175,
   "metadata": {},
   "outputs": [],
   "source": [
    "# sim_gini_female = simulate_predictions(model=f2, data=gini_pred, \n",
    "#                                            nsim=2000, \n",
    "#                                            contrast='z_gini', \n",
    "#                                            random='q_gini')\n",
    "\n",
    "# sim_gini_female_m2 = first_difference(sim_gini_female, 'value', 'z_gini', 'variable', 'q')\n",
    "# fwrite(sim_gini_female_m2, file='../data/sim_gini_female_m2.csv')"
   ]
  },
  {
   "cell_type": "markdown",
   "metadata": {},
   "source": [
    "# Adjusting for Health Behaviors"
   ]
  },
  {
   "cell_type": "markdown",
   "metadata": {},
   "source": [
    "### Male"
   ]
  },
  {
   "cell_type": "code",
   "execution_count": 108,
   "metadata": {},
   "outputs": [],
   "source": [
    "lmod <- lm(le ~ z_relative_mob  + z_gini + log_population + log_income + \n",
    "           z_exercise, male)\n",
    "\n",
    "# pc prior\n",
    "sdres <- sd(residuals(lmod))\n",
    "pcprior <- list(prec = list(prior=\"pc.prec\", param = c(3*sdres,0.01)))"
   ]
  },
  {
   "cell_type": "code",
   "execution_count": 109,
   "metadata": {},
   "outputs": [],
   "source": [
    "formula = le ~ z_relative_mob  + z_gini + log_population + log_income + \n",
    "           z_exercise + \n",
    "       f(state, model = \"iid\", hyper = pcprior) + \n",
    "       f(cty, model = \"iid\", hyper = pcprior) + \n",
    "       f(income_qr, model = \"iid\", hyper = pcprior) + \n",
    "       f(q_mob, z_relative_mob , model = \"iid\", hyper = pcprior) + \n",
    "       f(q_gini, z_gini , model = \"iid\", hyper = pcprior) \n",
    "\n",
    "\n",
    "m3 = inla(formula, family = \"gaussian\", data = male,\n",
    "          control.predictor=list(compute = TRUE),\n",
    "          control.compute = list(config = TRUE, dic = TRUE,\n",
    "                                 waic = TRUE, cpo = TRUE),\n",
    "          verbose = TRUE)"
   ]
  },
  {
   "cell_type": "code",
   "execution_count": 110,
   "metadata": {},
   "outputs": [
    {
     "data": {
      "text/html": [
       "<table>\n",
       "<thead><tr><th></th><th scope=col>mean</th><th scope=col>sd</th><th scope=col>0.025quant</th><th scope=col>0.5quant</th><th scope=col>0.975quant</th><th scope=col>mode</th><th scope=col>kld</th></tr></thead>\n",
       "<tbody>\n",
       "\t<tr><th scope=row>(Intercept)</th><td>41.2247523  </td><td>1.74535773  </td><td>37.70177191 </td><td>41.2247136  </td><td>44.74970201 </td><td>41.2249927  </td><td>6.181287e-09</td></tr>\n",
       "\t<tr><th scope=row>z_relative_mob</th><td>-0.3044884  </td><td>0.12945054  </td><td>-0.56594882 </td><td>-0.3044931  </td><td>-0.04291919 </td><td>-0.3044360  </td><td>9.853095e-06</td></tr>\n",
       "\t<tr><th scope=row>z_gini</th><td> 0.2202385  </td><td>0.15379686  </td><td>-0.09706622 </td><td> 0.2202241  </td><td> 0.53769284 </td><td> 0.2202371  </td><td>2.247130e-06</td></tr>\n",
       "\t<tr><th scope=row>log_population</th><td>-0.2413516  </td><td>0.02835417  </td><td>-0.29701359 </td><td>-0.2413575  </td><td>-0.18570897 </td><td>-0.2413669  </td><td>2.373499e-14</td></tr>\n",
       "\t<tr><th scope=row>log_income</th><td> 1.1888699  </td><td>0.13706463  </td><td> 0.91974994 </td><td> 1.1888585  </td><td> 1.45780333 </td><td> 1.1888473  </td><td>1.181923e-14</td></tr>\n",
       "\t<tr><th scope=row>z_exercise</th><td> 0.1467661  </td><td>0.08889015  </td><td>-0.03321964 </td><td> 0.1465892  </td><td> 0.32725692 </td><td> 0.1463446  </td><td>5.330427e-04</td></tr>\n",
       "</tbody>\n",
       "</table>\n"
      ],
      "text/latex": [
       "\\begin{tabular}{r|lllllll}\n",
       "  & mean & sd & 0.025quant & 0.5quant & 0.975quant & mode & kld\\\\\n",
       "\\hline\n",
       "\t(Intercept) & 41.2247523   & 1.74535773   & 37.70177191  & 41.2247136   & 44.74970201  & 41.2249927   & 6.181287e-09\\\\\n",
       "\tz\\_relative\\_mob & -0.3044884   & 0.12945054   & -0.56594882  & -0.3044931   & -0.04291919  & -0.3044360   & 9.853095e-06\\\\\n",
       "\tz\\_gini &  0.2202385   & 0.15379686   & -0.09706622  &  0.2202241   &  0.53769284  &  0.2202371   & 2.247130e-06\\\\\n",
       "\tlog\\_population & -0.2413516   & 0.02835417   & -0.29701359  & -0.2413575   & -0.18570897  & -0.2413669   & 2.373499e-14\\\\\n",
       "\tlog\\_income &  1.1888699   & 0.13706463   &  0.91974994  &  1.1888585   &  1.45780333  &  1.1888473   & 1.181923e-14\\\\\n",
       "\tz\\_exercise &  0.1467661   & 0.08889015   & -0.03321964  &  0.1465892   &  0.32725692  &  0.1463446   & 5.330427e-04\\\\\n",
       "\\end{tabular}\n"
      ],
      "text/markdown": [
       "\n",
       "| <!--/--> | mean | sd | 0.025quant | 0.5quant | 0.975quant | mode | kld | \n",
       "|---|---|---|---|---|---|\n",
       "| (Intercept) | 41.2247523   | 1.74535773   | 37.70177191  | 41.2247136   | 44.74970201  | 41.2249927   | 6.181287e-09 | \n",
       "| z_relative_mob | -0.3044884   | 0.12945054   | -0.56594882  | -0.3044931   | -0.04291919  | -0.3044360   | 9.853095e-06 | \n",
       "| z_gini |  0.2202385   | 0.15379686   | -0.09706622  |  0.2202241   |  0.53769284  |  0.2202371   | 2.247130e-06 | \n",
       "| log_population | -0.2413516   | 0.02835417   | -0.29701359  | -0.2413575   | -0.18570897  | -0.2413669   | 2.373499e-14 | \n",
       "| log_income |  1.1888699   | 0.13706463   |  0.91974994  |  1.1888585   |  1.45780333  |  1.1888473   | 1.181923e-14 | \n",
       "| z_exercise |  0.1467661   | 0.08889015   | -0.03321964  |  0.1465892   |  0.32725692  |  0.1463446   | 5.330427e-04 | \n",
       "\n",
       "\n"
      ],
      "text/plain": [
       "               mean       sd         0.025quant  0.5quant   0.975quant \n",
       "(Intercept)    41.2247523 1.74535773 37.70177191 41.2247136 44.74970201\n",
       "z_relative_mob -0.3044884 0.12945054 -0.56594882 -0.3044931 -0.04291919\n",
       "z_gini          0.2202385 0.15379686 -0.09706622  0.2202241  0.53769284\n",
       "log_population -0.2413516 0.02835417 -0.29701359 -0.2413575 -0.18570897\n",
       "log_income      1.1888699 0.13706463  0.91974994  1.1888585  1.45780333\n",
       "z_exercise      0.1467661 0.08889015 -0.03321964  0.1465892  0.32725692\n",
       "               mode       kld         \n",
       "(Intercept)    41.2249927 6.181287e-09\n",
       "z_relative_mob -0.3044360 9.853095e-06\n",
       "z_gini          0.2202371 2.247130e-06\n",
       "log_population -0.2413669 2.373499e-14\n",
       "log_income      1.1888473 1.181923e-14\n",
       "z_exercise      0.1463446 5.330427e-04"
      ]
     },
     "metadata": {},
     "output_type": "display_data"
    }
   ],
   "source": [
    "m3$summary.fixed"
   ]
  },
  {
   "cell_type": "code",
   "execution_count": 111,
   "metadata": {},
   "outputs": [
    {
     "data": {
      "text/html": [
       "<table>\n",
       "<thead><tr><th></th><th scope=col>mean</th><th scope=col>sd</th><th scope=col>q0.025</th><th scope=col>q0.5</th><th scope=col>q0.975</th><th scope=col>mode</th></tr></thead>\n",
       "<tbody>\n",
       "\t<tr><th scope=row>SD for the Gaussian observations</th><td>1.1412809 </td><td>0.01200473</td><td>1.11815142</td><td>1.1410814 </td><td>1.1652787 </td><td>1.14054834</td></tr>\n",
       "\t<tr><th scope=row>SD for state</th><td>0.6698884 </td><td>0.07898783</td><td>0.53380762</td><td>0.6627456 </td><td>0.8433178 </td><td>0.64648545</td></tr>\n",
       "\t<tr><th scope=row>SD for cty</th><td>0.5284034 </td><td>0.02222154</td><td>0.48508176</td><td>0.5283387 </td><td>0.5722761 </td><td>0.52892102</td></tr>\n",
       "\t<tr><th scope=row>SD for income_qr</th><td>3.4819910 </td><td>1.17934425</td><td>1.87821414</td><td>3.2353340 </td><td>6.4389483 </td><td>2.80261496</td></tr>\n",
       "\t<tr><th scope=row>SD for q_mob</th><td>0.2060098 </td><td>0.11091733</td><td>0.07393552</td><td>0.1782169 </td><td>0.4968479 </td><td>0.13765937</td></tr>\n",
       "\t<tr><th scope=row>SD for q_gini</th><td>0.2765909 </td><td>0.15289286</td><td>0.10182517</td><td>0.2361601 </td><td>0.6820126 </td><td>0.17990047</td></tr>\n",
       "\t<tr><th scope=row>SD for q_exercise</th><td>0.1361903 </td><td>0.10198931</td><td>0.02986891</td><td>0.1076872 </td><td>0.4101870 </td><td>0.06905563</td></tr>\n",
       "</tbody>\n",
       "</table>\n"
      ],
      "text/latex": [
       "\\begin{tabular}{r|llllll}\n",
       "  & mean & sd & q0.025 & q0.5 & q0.975 & mode\\\\\n",
       "\\hline\n",
       "\tSD for the Gaussian observations & 1.1412809  & 0.01200473 & 1.11815142 & 1.1410814  & 1.1652787  & 1.14054834\\\\\n",
       "\tSD for state & 0.6698884  & 0.07898783 & 0.53380762 & 0.6627456  & 0.8433178  & 0.64648545\\\\\n",
       "\tSD for cty & 0.5284034  & 0.02222154 & 0.48508176 & 0.5283387  & 0.5722761  & 0.52892102\\\\\n",
       "\tSD for income\\_qr & 3.4819910  & 1.17934425 & 1.87821414 & 3.2353340  & 6.4389483  & 2.80261496\\\\\n",
       "\tSD for q\\_mob & 0.2060098  & 0.11091733 & 0.07393552 & 0.1782169  & 0.4968479  & 0.13765937\\\\\n",
       "\tSD for q\\_gini & 0.2765909  & 0.15289286 & 0.10182517 & 0.2361601  & 0.6820126  & 0.17990047\\\\\n",
       "\tSD for q\\_exercise & 0.1361903  & 0.10198931 & 0.02986891 & 0.1076872  & 0.4101870  & 0.06905563\\\\\n",
       "\\end{tabular}\n"
      ],
      "text/markdown": [
       "\n",
       "| <!--/--> | mean | sd | q0.025 | q0.5 | q0.975 | mode | \n",
       "|---|---|---|---|---|---|---|\n",
       "| SD for the Gaussian observations | 1.1412809  | 0.01200473 | 1.11815142 | 1.1410814  | 1.1652787  | 1.14054834 | \n",
       "| SD for state | 0.6698884  | 0.07898783 | 0.53380762 | 0.6627456  | 0.8433178  | 0.64648545 | \n",
       "| SD for cty | 0.5284034  | 0.02222154 | 0.48508176 | 0.5283387  | 0.5722761  | 0.52892102 | \n",
       "| SD for income_qr | 3.4819910  | 1.17934425 | 1.87821414 | 3.2353340  | 6.4389483  | 2.80261496 | \n",
       "| SD for q_mob | 0.2060098  | 0.11091733 | 0.07393552 | 0.1782169  | 0.4968479  | 0.13765937 | \n",
       "| SD for q_gini | 0.2765909  | 0.15289286 | 0.10182517 | 0.2361601  | 0.6820126  | 0.17990047 | \n",
       "| SD for q_exercise | 0.1361903  | 0.10198931 | 0.02986891 | 0.1076872  | 0.4101870  | 0.06905563 | \n",
       "\n",
       "\n"
      ],
      "text/plain": [
       "                                 mean      sd         q0.025     q0.5     \n",
       "SD for the Gaussian observations 1.1412809 0.01200473 1.11815142 1.1410814\n",
       "SD for state                     0.6698884 0.07898783 0.53380762 0.6627456\n",
       "SD for cty                       0.5284034 0.02222154 0.48508176 0.5283387\n",
       "SD for income_qr                 3.4819910 1.17934425 1.87821414 3.2353340\n",
       "SD for q_mob                     0.2060098 0.11091733 0.07393552 0.1782169\n",
       "SD for q_gini                    0.2765909 0.15289286 0.10182517 0.2361601\n",
       "SD for q_exercise                0.1361903 0.10198931 0.02986891 0.1076872\n",
       "                                 q0.975    mode      \n",
       "SD for the Gaussian observations 1.1652787 1.14054834\n",
       "SD for state                     0.8433178 0.64648545\n",
       "SD for cty                       0.5722761 0.52892102\n",
       "SD for income_qr                 6.4389483 2.80261496\n",
       "SD for q_mob                     0.4968479 0.13765937\n",
       "SD for q_gini                    0.6820126 0.17990047\n",
       "SD for q_exercise                0.4101870 0.06905563"
      ]
     },
     "metadata": {},
     "output_type": "display_data"
    }
   ],
   "source": [
    "bri.hyperpar.summary(m3)"
   ]
  },
  {
   "cell_type": "code",
   "execution_count": 63,
   "metadata": {},
   "outputs": [],
   "source": [
    "nrep = 4 * 2 # 4 quartiles for 2 contrast values\n",
    "relative_mob_pred = data.table(\n",
    "    z_relative_mob       = rep(c(0.0, 1.0), times = 1 , each = 4),\n",
    "    z_gini               = rep(0, nrep),\n",
    "    log_population       = rep(0, nrep), \n",
    "    log_income           = rep(0, nrep),\n",
    "    z_smoking            = rep(0, nrep),\n",
    "    z_exercise           = rep(0, nrep),\n",
    "    z_obesity            = rep(0, nrep))\n",
    "\n",
    "gini_pred = data.table(\n",
    "    z_relative_mob        = rep(0, nrep),\n",
    "    z_gini               = rep(c(0.0, 1.0), times = 1 , each = 4),\n",
    "    log_population       = rep(0, nrep), \n",
    "    log_income           = rep(0, nrep),\n",
    "    z_smoking            = rep(0, nrep),\n",
    "    z_exercise           = rep(0, nrep),\n",
    "    z_obesity            = rep(0, nrep))"
   ]
  },
  {
   "cell_type": "code",
   "execution_count": 64,
   "metadata": {},
   "outputs": [],
   "source": [
    "sim_mob_male = simulate_predictions(model=m3, data=relative_mob_pred, \n",
    "                                           nsim=2000, \n",
    "                                           contrast='z_relative_mob', \n",
    "                                           random='q_mob')\n",
    "\n",
    "sim_mob_male_m3 = first_difference(sim_mob_male, 'value', 'z_relative_mob', 'variable', 'q')\n",
    "fwrite(sim_mob_male_m3, file='../data/sim_mob_male_m3.csv')"
   ]
  },
  {
   "cell_type": "markdown",
   "metadata": {},
   "source": [
    "### Female"
   ]
  },
  {
   "cell_type": "code",
   "execution_count": 65,
   "metadata": {},
   "outputs": [],
   "source": [
    "lmod <- lm(le ~ z_relative_mob  + z_gini + log_population + log_income + \n",
    "           z_smoking + z_exercise +  z_obesity, female)\n",
    "\n",
    "# pc prior\n",
    "sdres <- sd(residuals(lmod))\n",
    "pcprior <- list(prec = list(prior=\"pc.prec\", param = c(3*sdres,0.01)))"
   ]
  },
  {
   "cell_type": "code",
   "execution_count": 66,
   "metadata": {},
   "outputs": [],
   "source": [
    "formula = le ~ z_relative_mob  + z_gini + log_population + log_income + \n",
    "           z_smoking + z_exercise +  z_obesity + \n",
    "       f(state, model = \"iid\", hyper = pcprior) + \n",
    "       f(cty, model = \"iid\", hyper = pcprior) + \n",
    "       f(income_qr, model = \"iid\", hyper = pcprior) + \n",
    "       f(q_mob, z_relative_mob , model = \"iid\", hyper = pcprior) + \n",
    "       f(q_gini, z_gini , model = \"iid\", hyper = pcprior)\n",
    "\n",
    "\n",
    "f3 = inla(formula, family = \"gaussian\", data = female,\n",
    "          control.predictor=list(compute = TRUE),\n",
    "          control.compute = list(config = TRUE, dic = TRUE,\n",
    "                                 waic = TRUE, cpo = TRUE),\n",
    "          verbose = TRUE)"
   ]
  },
  {
   "cell_type": "code",
   "execution_count": 67,
   "metadata": {},
   "outputs": [
    {
     "data": {
      "text/html": [
       "<table>\n",
       "<thead><tr><th></th><th scope=col>mean</th><th scope=col>sd</th><th scope=col>0.025quant</th><th scope=col>0.5quant</th><th scope=col>0.975quant</th><th scope=col>mode</th><th scope=col>kld</th></tr></thead>\n",
       "<tbody>\n",
       "\t<tr><th scope=row>(Intercept)</th><td>44.9384249779</td><td>1.16899478   </td><td>42.582647791 </td><td>44.9383536174</td><td>47.29495127  </td><td>44.9383819359</td><td>1.170564e-09 </td></tr>\n",
       "\t<tr><th scope=row>z_relative_mob</th><td>-0.2202594060</td><td>0.06856275   </td><td>-0.354721445 </td><td>-0.2202626363</td><td>-0.08589992  </td><td>-0.2202589712</td><td>1.002378e-05 </td></tr>\n",
       "\t<tr><th scope=row>z_gini</th><td> 0.1391023923</td><td>0.15230063   </td><td>-0.164469799 </td><td> 0.1390944538</td><td> 0.44209344  </td><td> 0.1391048883</td><td>1.465377e-05 </td></tr>\n",
       "\t<tr><th scope=row>log_population</th><td>-0.2169687746</td><td>0.02828578   </td><td>-0.272503126 </td><td>-0.2169722899</td><td>-0.16146657  </td><td>-0.2169769521</td><td>2.384991e-14 </td></tr>\n",
       "\t<tr><th scope=row>log_income</th><td> 1.0821147368</td><td>0.13683743   </td><td> 0.813506314 </td><td> 1.0820812483</td><td> 1.35065891  </td><td> 1.0820255024</td><td>1.778777e-14 </td></tr>\n",
       "\t<tr><th scope=row>z_smoking</th><td>-0.0965417518</td><td>0.02115614   </td><td>-0.138086985 </td><td>-0.0965399035</td><td>-0.05504488  </td><td>-0.0965344000</td><td>0.000000e+00 </td></tr>\n",
       "\t<tr><th scope=row>z_exercise</th><td> 0.0609349481</td><td>0.02644237   </td><td> 0.009022572 </td><td> 0.0609325875</td><td> 0.11281276  </td><td> 0.0609300946</td><td>1.550634e-15 </td></tr>\n",
       "\t<tr><th scope=row>z_obesity</th><td>-0.0004560196</td><td>0.01848253   </td><td>-0.036750755 </td><td>-0.0004544763</td><td> 0.03579686  </td><td>-0.0004498083</td><td>1.269852e-15 </td></tr>\n",
       "</tbody>\n",
       "</table>\n"
      ],
      "text/latex": [
       "\\begin{tabular}{r|lllllll}\n",
       "  & mean & sd & 0.025quant & 0.5quant & 0.975quant & mode & kld\\\\\n",
       "\\hline\n",
       "\t(Intercept) & 44.9384249779 & 1.16899478    & 42.582647791  & 44.9383536174 & 47.29495127   & 44.9383819359 & 1.170564e-09 \\\\\n",
       "\tz\\_relative\\_mob & -0.2202594060 & 0.06856275    & -0.354721445  & -0.2202626363 & -0.08589992   & -0.2202589712 & 1.002378e-05 \\\\\n",
       "\tz\\_gini &  0.1391023923 & 0.15230063    & -0.164469799  &  0.1390944538 &  0.44209344   &  0.1391048883 & 1.465377e-05 \\\\\n",
       "\tlog\\_population & -0.2169687746 & 0.02828578    & -0.272503126  & -0.2169722899 & -0.16146657   & -0.2169769521 & 2.384991e-14 \\\\\n",
       "\tlog\\_income &  1.0821147368 & 0.13683743    &  0.813506314  &  1.0820812483 &  1.35065891   &  1.0820255024 & 1.778777e-14 \\\\\n",
       "\tz\\_smoking & -0.0965417518 & 0.02115614    & -0.138086985  & -0.0965399035 & -0.05504488   & -0.0965344000 & 0.000000e+00 \\\\\n",
       "\tz\\_exercise &  0.0609349481 & 0.02644237    &  0.009022572  &  0.0609325875 &  0.11281276   &  0.0609300946 & 1.550634e-15 \\\\\n",
       "\tz\\_obesity & -0.0004560196 & 0.01848253    & -0.036750755  & -0.0004544763 &  0.03579686   & -0.0004498083 & 1.269852e-15 \\\\\n",
       "\\end{tabular}\n"
      ],
      "text/markdown": [
       "\n",
       "| <!--/--> | mean | sd | 0.025quant | 0.5quant | 0.975quant | mode | kld | \n",
       "|---|---|---|---|---|---|---|---|\n",
       "| (Intercept) | 44.9384249779 | 1.16899478    | 42.582647791  | 44.9383536174 | 47.29495127   | 44.9383819359 | 1.170564e-09  | \n",
       "| z_relative_mob | -0.2202594060 | 0.06856275    | -0.354721445  | -0.2202626363 | -0.08589992   | -0.2202589712 | 1.002378e-05  | \n",
       "| z_gini |  0.1391023923 | 0.15230063    | -0.164469799  |  0.1390944538 |  0.44209344   |  0.1391048883 | 1.465377e-05  | \n",
       "| log_population | -0.2169687746 | 0.02828578    | -0.272503126  | -0.2169722899 | -0.16146657   | -0.2169769521 | 2.384991e-14  | \n",
       "| log_income |  1.0821147368 | 0.13683743    |  0.813506314  |  1.0820812483 |  1.35065891   |  1.0820255024 | 1.778777e-14  | \n",
       "| z_smoking | -0.0965417518 | 0.02115614    | -0.138086985  | -0.0965399035 | -0.05504488   | -0.0965344000 | 0.000000e+00  | \n",
       "| z_exercise |  0.0609349481 | 0.02644237    |  0.009022572  |  0.0609325875 |  0.11281276   |  0.0609300946 | 1.550634e-15  | \n",
       "| z_obesity | -0.0004560196 | 0.01848253    | -0.036750755  | -0.0004544763 |  0.03579686   | -0.0004498083 | 1.269852e-15  | \n",
       "\n",
       "\n"
      ],
      "text/plain": [
       "               mean          sd         0.025quant   0.5quant      0.975quant \n",
       "(Intercept)    44.9384249779 1.16899478 42.582647791 44.9383536174 47.29495127\n",
       "z_relative_mob -0.2202594060 0.06856275 -0.354721445 -0.2202626363 -0.08589992\n",
       "z_gini          0.1391023923 0.15230063 -0.164469799  0.1390944538  0.44209344\n",
       "log_population -0.2169687746 0.02828578 -0.272503126 -0.2169722899 -0.16146657\n",
       "log_income      1.0821147368 0.13683743  0.813506314  1.0820812483  1.35065891\n",
       "z_smoking      -0.0965417518 0.02115614 -0.138086985 -0.0965399035 -0.05504488\n",
       "z_exercise      0.0609349481 0.02644237  0.009022572  0.0609325875  0.11281276\n",
       "z_obesity      -0.0004560196 0.01848253 -0.036750755 -0.0004544763  0.03579686\n",
       "               mode          kld         \n",
       "(Intercept)    44.9383819359 1.170564e-09\n",
       "z_relative_mob -0.2202589712 1.002378e-05\n",
       "z_gini          0.1391048883 1.465377e-05\n",
       "log_population -0.2169769521 2.384991e-14\n",
       "log_income      1.0820255024 1.778777e-14\n",
       "z_smoking      -0.0965344000 0.000000e+00\n",
       "z_exercise      0.0609300946 1.550634e-15\n",
       "z_obesity      -0.0004498083 1.269852e-15"
      ]
     },
     "metadata": {},
     "output_type": "display_data"
    }
   ],
   "source": [
    "f3$summary.fixed"
   ]
  },
  {
   "cell_type": "code",
   "execution_count": 68,
   "metadata": {},
   "outputs": [
    {
     "data": {
      "text/html": [
       "<table>\n",
       "<thead><tr><th></th><th scope=col>mean</th><th scope=col>sd</th><th scope=col>q0.025</th><th scope=col>q0.5</th><th scope=col>q0.975</th><th scope=col>mode</th></tr></thead>\n",
       "<tbody>\n",
       "\t<tr><th scope=row>SD for the Gaussian observations</th><td>1.16693271</td><td>0.01228498</td><td>1.14260481</td><td>1.16701153</td><td>1.1908262 </td><td>1.16750817</td></tr>\n",
       "\t<tr><th scope=row>SD for state</th><td>0.54299622</td><td>0.06793560</td><td>0.41878951</td><td>0.53995528</td><td>0.6850381 </td><td>0.53532667</td></tr>\n",
       "\t<tr><th scope=row>SD for cty</th><td>0.50954730</td><td>0.02312496</td><td>0.46425115</td><td>0.50958628</td><td>0.5549591 </td><td>0.51065915</td></tr>\n",
       "\t<tr><th scope=row>SD for income_qr</th><td>2.29255227</td><td>0.78186569</td><td>1.18882161</td><td>2.14343917</td><td>4.2230035 </td><td>1.88211109</td></tr>\n",
       "\t<tr><th scope=row>SD for q_mob</th><td>0.09585516</td><td>0.06469326</td><td>0.02399433</td><td>0.07873741</td><td>0.2677155 </td><td>0.05392408</td></tr>\n",
       "\t<tr><th scope=row>SD for q_gini</th><td>0.26306451</td><td>0.14838388</td><td>0.09740357</td><td>0.22279065</td><td>0.6586638 </td><td>0.16803049</td></tr>\n",
       "</tbody>\n",
       "</table>\n"
      ],
      "text/latex": [
       "\\begin{tabular}{r|llllll}\n",
       "  & mean & sd & q0.025 & q0.5 & q0.975 & mode\\\\\n",
       "\\hline\n",
       "\tSD for the Gaussian observations & 1.16693271 & 0.01228498 & 1.14260481 & 1.16701153 & 1.1908262  & 1.16750817\\\\\n",
       "\tSD for state & 0.54299622 & 0.06793560 & 0.41878951 & 0.53995528 & 0.6850381  & 0.53532667\\\\\n",
       "\tSD for cty & 0.50954730 & 0.02312496 & 0.46425115 & 0.50958628 & 0.5549591  & 0.51065915\\\\\n",
       "\tSD for income\\_qr & 2.29255227 & 0.78186569 & 1.18882161 & 2.14343917 & 4.2230035  & 1.88211109\\\\\n",
       "\tSD for q\\_mob & 0.09585516 & 0.06469326 & 0.02399433 & 0.07873741 & 0.2677155  & 0.05392408\\\\\n",
       "\tSD for q\\_gini & 0.26306451 & 0.14838388 & 0.09740357 & 0.22279065 & 0.6586638  & 0.16803049\\\\\n",
       "\\end{tabular}\n"
      ],
      "text/markdown": [
       "\n",
       "| <!--/--> | mean | sd | q0.025 | q0.5 | q0.975 | mode | \n",
       "|---|---|---|---|---|---|\n",
       "| SD for the Gaussian observations | 1.16693271 | 0.01228498 | 1.14260481 | 1.16701153 | 1.1908262  | 1.16750817 | \n",
       "| SD for state | 0.54299622 | 0.06793560 | 0.41878951 | 0.53995528 | 0.6850381  | 0.53532667 | \n",
       "| SD for cty | 0.50954730 | 0.02312496 | 0.46425115 | 0.50958628 | 0.5549591  | 0.51065915 | \n",
       "| SD for income_qr | 2.29255227 | 0.78186569 | 1.18882161 | 2.14343917 | 4.2230035  | 1.88211109 | \n",
       "| SD for q_mob | 0.09585516 | 0.06469326 | 0.02399433 | 0.07873741 | 0.2677155  | 0.05392408 | \n",
       "| SD for q_gini | 0.26306451 | 0.14838388 | 0.09740357 | 0.22279065 | 0.6586638  | 0.16803049 | \n",
       "\n",
       "\n"
      ],
      "text/plain": [
       "                                 mean       sd         q0.025     q0.5      \n",
       "SD for the Gaussian observations 1.16693271 0.01228498 1.14260481 1.16701153\n",
       "SD for state                     0.54299622 0.06793560 0.41878951 0.53995528\n",
       "SD for cty                       0.50954730 0.02312496 0.46425115 0.50958628\n",
       "SD for income_qr                 2.29255227 0.78186569 1.18882161 2.14343917\n",
       "SD for q_mob                     0.09585516 0.06469326 0.02399433 0.07873741\n",
       "SD for q_gini                    0.26306451 0.14838388 0.09740357 0.22279065\n",
       "                                 q0.975    mode      \n",
       "SD for the Gaussian observations 1.1908262 1.16750817\n",
       "SD for state                     0.6850381 0.53532667\n",
       "SD for cty                       0.5549591 0.51065915\n",
       "SD for income_qr                 4.2230035 1.88211109\n",
       "SD for q_mob                     0.2677155 0.05392408\n",
       "SD for q_gini                    0.6586638 0.16803049"
      ]
     },
     "metadata": {},
     "output_type": "display_data"
    }
   ],
   "source": [
    "bri.hyperpar.summary(f3)"
   ]
  },
  {
   "cell_type": "code",
   "execution_count": 186,
   "metadata": {},
   "outputs": [],
   "source": [
    "sim_mob_female = simulate_predictions(model=f3, data=relative_mob_pred, \n",
    "                                           nsim=2000, \n",
    "                                           contrast='z_relative_mob', \n",
    "                                           random='q_mob')\n",
    "\n",
    "sim_mob_female_m3 = first_difference(sim_mob_female, 'value', 'z_relative_mob', 'variable', 'q')\n",
    "fwrite(sim_mob_female_m3, file='../data/sim_mob_female_m3.csv')"
   ]
  },
  {
   "cell_type": "markdown",
   "metadata": {},
   "source": [
    "# Create tables"
   ]
  },
  {
   "cell_type": "code",
   "execution_count": 112,
   "metadata": {},
   "outputs": [
    {
     "name": "stderr",
     "output_type": "stream",
     "text": [
      "Version:  1.36.23\n",
      "Date:     2017-03-03\n",
      "Author:   Philip Leifeld (University of Glasgow)\n",
      "\n",
      "Please cite the JSS article in your publications -- see citation(\"texreg\").\n"
     ]
    }
   ],
   "source": [
    "library(texreg)\n",
    "source('extract_inla.R')"
   ]
  },
  {
   "cell_type": "code",
   "execution_count": 113,
   "metadata": {},
   "outputs": [
    {
     "name": "stderr",
     "output_type": "stream",
     "text": [
      "The table was written to the file 'tables/inla_models.tex'.\n",
      "\n"
     ]
    }
   ],
   "source": [
    "cmodels <- rep(c('Women', 'Men'), 2)\n",
    "\n",
    "models <- list(f1, m1, f2, m2)\n",
    "\n",
    "cnames <- list(\"(Intercept)\" = 'Constant',\n",
    "               'z_relative_mob' = 'Standardized Income mobility (Rank-Rank Slope)',\n",
    "               'z_gini' = 'Standardized Gini',\n",
    "               'log_income' = 'Log income (centered)',\n",
    "               \"sd for state\" = \"SD states\",\n",
    "               \"sd for cty\" = \"SD counties\",\n",
    "               \"sd for income_qr\" = \"SD income quartiles\",\n",
    "               \"sd for q_mob\" = \"SD mobility by income quartile\",\n",
    "               \"sd for q_gini\" = \"SD Gini by income quartile\",\n",
    "               \"sd for the Gaussian observations\" = \"SD observations\")\n",
    "\n",
    "# screenreg(models)\n",
    "texreg(models,\n",
    "            include.dic = TRUE, include.waic = TRUE,\n",
    "            ci.test = FALSE,\n",
    "            float.pos = \"htp\",\n",
    "            caption = \"Life Expectancy (40) Models\",\n",
    "            booktabs = TRUE,\n",
    "            use.packages = FALSE,\n",
    "            dcolumn = TRUE,\n",
    "            caption.above = TRUE,\n",
    "            scalebox = 0.65,\n",
    "            label = \"inla_models\",\n",
    "            # sideways = TRUE,\n",
    "            digits = 2,\n",
    "            custom.model.names = cmodels,\n",
    "            custom.coef.map = cnames,\n",
    "            groups = list(\"Random Effects\" = c(5:10)),\n",
    "            custom.note = \"Note: Selected coefficients (mean of marginal posterior distribution). 95\\\\% credibility intervals.\",\n",
    "             file = \"tables/inla_models.tex\")"
   ]
  },
  {
   "cell_type": "markdown",
   "metadata": {},
   "source": [
    "# Change in counties at the bottom"
   ]
  },
  {
   "cell_type": "markdown",
   "metadata": {},
   "source": [
    "# Spatial adjustments"
   ]
  },
  {
   "cell_type": "code",
   "execution_count": 22,
   "metadata": {},
   "outputs": [
    {
     "ename": "ERROR",
     "evalue": "Error in library(sf): there is no package called ‘sf’\n",
     "execution_count": 22,
     "output_type": "error",
     "traceback": [
      "Error in library(sf): there is no package called ‘sf’\nTraceback:\n",
      "1. library(sf)",
      "2. stop(txt, domain = NA)"
     ]
    }
   ],
   "source": [
    "library(USAboundaries)\n",
    "library(maptools)\n",
    "library(spdep)\n",
    "library(sf)"
   ]
  },
  {
   "cell_type": "code",
   "execution_count": 16,
   "metadata": {},
   "outputs": [],
   "source": [
    "allcounties <- us_counties(\"2000-07-01\")"
   ]
  },
  {
   "cell_type": "code",
   "execution_count": 18,
   "metadata": {},
   "outputs": [
    {
     "data": {
      "text/html": [
       "0.477554918815664"
      ],
      "text/latex": [
       "0.477554918815664"
      ],
      "text/markdown": [
       "0.477554918815664"
      ],
      "text/plain": [
       "[1] 0.4775549"
      ]
     },
     "metadata": {},
     "output_type": "display_data"
    }
   ],
   "source": [
    "length(unique(male$county)) / length(allcounties$fips) # 47%, ok, that's a bit problematic"
   ]
  },
  {
   "cell_type": "code",
   "execution_count": 12,
   "metadata": {},
   "outputs": [
    {
     "data": {},
     "metadata": {},
     "output_type": "display_data"
    }
   ],
   "source": [
    "male[, fips := sprintf(\"%05d\", male$county)]"
   ]
  },
  {
   "cell_type": "code",
   "execution_count": 71,
   "metadata": {},
   "outputs": [],
   "source": [
    "df_fips = unique(male$fips)"
   ]
  },
  {
   "cell_type": "code",
   "execution_count": 72,
   "metadata": {},
   "outputs": [
    {
     "data": {
      "text/html": [
       "1500"
      ],
      "text/latex": [
       "1500"
      ],
      "text/markdown": [
       "1500"
      ],
      "text/plain": [
       "[1] 1500"
      ]
     },
     "metadata": {},
     "output_type": "display_data"
    }
   ],
   "source": [
    "length(df_fips)"
   ]
  },
  {
   "cell_type": "code",
   "execution_count": 75,
   "metadata": {},
   "outputs": [
    {
     "data": {
      "text/plain": [
       "\n",
       "TRUE \n",
       "1500 "
      ]
     },
     "metadata": {},
     "output_type": "display_data"
    }
   ],
   "source": [
    "table(df_fips %in% allcounties$fips) # all of them!"
   ]
  },
  {
   "cell_type": "code",
   "execution_count": 76,
   "metadata": {},
   "outputs": [],
   "source": [
    "mycounties <- allcounties[allcounties$fips %in% df_fips,]"
   ]
  },
  {
   "cell_type": "code",
   "execution_count": 89,
   "metadata": {},
   "outputs": [
    {
     "data": {
      "text/html": [
       "TRUE"
      ],
      "text/latex": [
       "TRUE"
      ],
      "text/markdown": [
       "TRUE"
      ],
      "text/plain": [
       "[1] TRUE"
      ]
     },
     "metadata": {},
     "output_type": "display_data"
    }
   ],
   "source": [
    "county_data <- attr(mycounties, \"data\")\n",
    "all(county_data$fips %in% df_fips)"
   ]
  },
  {
   "cell_type": "code",
   "execution_count": 19,
   "metadata": {},
   "outputs": [],
   "source": [
    "# creating county layout using INLA"
   ]
  },
  {
   "cell_type": "code",
   "execution_count": 20,
   "metadata": {},
   "outputs": [
    {
     "ename": "ERROR",
     "evalue": "Error in as(allcounties, \"Spatial\"): no method or default for coercing “sf” to “Spatial”\n",
     "execution_count": 20,
     "output_type": "error",
     "traceback": [
      "Error in as(allcounties, \"Spatial\"): no method or default for coercing “sf” to “Spatial”\nTraceback:\n",
      "1. as(allcounties, \"Spatial\")",
      "2. stop(gettextf(\"no method or default for coercing %s to %s\", dQuote(thisClass), \n .     dQuote(Class)), domain = NA)"
     ]
    }
   ],
   "source": [
    "as(allcounties, 'Spatial')"
   ]
  },
  {
   "cell_type": "code",
   "execution_count": 19,
   "metadata": {},
   "outputs": [
    {
     "ename": "ERROR",
     "evalue": "Error: extends(class(pl), \"SpatialPolygons\") is not TRUE\n",
     "execution_count": 19,
     "output_type": "error",
     "traceback": [
      "Error: extends(class(pl), \"SpatialPolygons\") is not TRUE\nTraceback:\n",
      "1. poly2nb(allcounties)",
      "2. stopifnot(extends(class(pl), \"SpatialPolygons\"))",
      "3. stop(msg, call. = FALSE, domain = NA)"
     ]
    }
   ],
   "source": [
    "temp <- poly2nb(allcounties)"
   ]
  },
  {
   "cell_type": "code",
   "execution_count": 95,
   "metadata": {},
   "outputs": [
    {
     "ename": "ERROR",
     "evalue": "Error: extends(class(pl), \"SpatialPolygons\") is not TRUE\n",
     "execution_count": 95,
     "output_type": "error",
     "traceback": [
      "Error: extends(class(pl), \"SpatialPolygons\") is not TRUE\nTraceback:\n",
      "1. poly2nb(mycounties)",
      "2. stopifnot(extends(class(pl), \"SpatialPolygons\"))",
      "3. stop(msg, call. = FALSE, domain = NA)"
     ]
    }
   ],
   "source": [
    "nb2INLA('mcounty.graph', temp)\n",
    "county.adj <- 'mcounty.graph'"
   ]
  },
  {
   "cell_type": "code",
   "execution_count": 90,
   "metadata": {},
   "outputs": [],
   "source": [
    "H <- inla.read.graph(filename = county.adj)\n",
    "image(inla.graph2matrix(H), xlab=\"\",ylab=\"\")"
   ]
  },
  {
   "cell_type": "code",
   "execution_count": 90,
   "metadata": {},
   "outputs": [],
   "source": [
    "cc <- fortify(mycounties)"
   ]
  },
  {
   "cell_type": "code",
   "execution_count": null,
   "metadata": {},
   "outputs": [],
   "source": [
    "str(mycounties)"
   ]
  },
  {
   "cell_type": "code",
   "execution_count": 84,
   "metadata": {},
   "outputs": [],
   "source": [
    "ccd <- cbind(cc, mycounties@data[cc$id,])"
   ]
  },
  {
   "cell_type": "code",
   "execution_count": null,
   "metadata": {},
   "outputs": [],
   "source": [
    "str(mycounties)"
   ]
  },
  {
   "cell_type": "code",
   "execution_count": null,
   "metadata": {},
   "outputs": [],
   "source": [
    "# plot(mycounties)\n",
    "length(mycounties$fips)\n",
    "ncounties <- length(unique(dat$fips))"
   ]
  },
  {
   "cell_type": "code",
   "execution_count": null,
   "metadata": {},
   "outputs": [],
   "source": [
    "unique(male$fips)[!(unique(male$fips) %in% fips)]"
   ]
  },
  {
   "cell_type": "code",
   "execution_count": null,
   "metadata": {},
   "outputs": [],
   "source": []
  },
  {
   "cell_type": "code",
   "execution_count": null,
   "metadata": {},
   "outputs": [],
   "source": [
    "cdata <- attr(mycounties, \"data\")\n",
    "all(as.character(cdata$fips) %in% unique(dat$fips))\n",
    "all(unique(dat$fips) %in% as.character(cdata$fips))\n",
    "\n",
    "unique(dat$fips)[!unique(dat$fips) %in% mycounties$fips]\n",
    "\n",
    "cc <- fortify(mycounties)\n",
    "ccd <- cbind(cc, mycounties@data[cc$id,])\n",
    "\n",
    "# plot(mycounties)\n",
    "length(mycounties$fips)\n",
    "ncounties <- length(unique(dat$fips))"
   ]
  }
 ],
 "metadata": {
  "kernelspec": {
   "display_name": "R",
   "language": "R",
   "name": "ir"
  },
  "language_info": {
   "codemirror_mode": "r",
   "file_extension": ".r",
   "mimetype": "text/x-r-source",
   "name": "R",
   "pygments_lexer": "r",
   "version": "3.4.1"
  }
 },
 "nbformat": 4,
 "nbformat_minor": 2
}
